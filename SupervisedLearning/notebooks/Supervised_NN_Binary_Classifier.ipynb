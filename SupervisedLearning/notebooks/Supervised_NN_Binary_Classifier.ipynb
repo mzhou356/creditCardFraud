{
 "cells": [
  {
   "cell_type": "code",
   "execution_count": 1,
   "metadata": {},
   "outputs": [],
   "source": [
    "import sys\n",
    "import numpy as np\n",
    "import pandas as pd \n",
    "import tensorflow\n",
    "import tensorflow.compat.v2 as tf\n",
    "import matplotlib.pyplot as plt \n",
    "%matplotlib inline\n",
    "tensorflow.compat.v1.logging.set_verbosity(tensorflow.compat.v1.logging.ERROR)\n",
    "sys.path.append(\"/home/mindy/Documents/projects/creditCardFraud/SupervisedLearning/scripts/\")"
   ]
  },
  {
   "cell_type": "code",
   "execution_count": 2,
   "metadata": {},
   "outputs": [],
   "source": [
    "from util import *\n",
    "from NN_util import *\n",
    "%load_ext autoreload\n",
    "%autoreload 2"
   ]
  },
  {
   "cell_type": "code",
   "execution_count": 3,
   "metadata": {},
   "outputs": [],
   "source": [
    "# make sure GPU is running \n",
    "tf.test.gpu_device_name()\n",
    "set_gpu_limit(7.5)"
   ]
  },
  {
   "cell_type": "markdown",
   "metadata": {},
   "source": [
    "### Import the same process data from anomaly detection\n",
    "* feature scale among columns are relatively close so it won't affect gradient descent as much"
   ]
  },
  {
   "cell_type": "code",
   "execution_count": 4,
   "metadata": {},
   "outputs": [],
   "source": [
    "train = pd.read_csv(\"../../AnomalyDetection/processedData/TrainingData_normal.csv\")\n",
    "dev = pd.read_csv(\"../../AnomalyDetection/processedData/DevData_normal.csv\")\n",
    "test = pd.read_csv(\"../../AnomalyDetection/processedData/hold_outset_moreFraud.csv\")"
   ]
  },
  {
   "cell_type": "code",
   "execution_count": 5,
   "metadata": {},
   "outputs": [],
   "source": [
    "training,testing = train_test_dfs(train,dev,test,\"Class\",0.2,1988)"
   ]
  },
  {
   "cell_type": "markdown",
   "metadata": {},
   "source": [
    "### Set CONSTANTS"
   ]
  },
  {
   "cell_type": "code",
   "execution_count": 35,
   "metadata": {},
   "outputs": [],
   "source": [
    "buffer_size = 100000\n",
    "batch_size = 256\n",
    "epochs = 100\n",
    "sizes = [256,256]  # try a 2 layer NN \n",
    "input_size = train.shape[1]"
   ]
  },
  {
   "cell_type": "markdown",
   "metadata": {},
   "source": [
    "### Custom Metrics:\n",
    "* TruePostivies\n",
    "* FalsePostives\n",
    "* FalseNegatives"
   ]
  },
  {
   "cell_type": "code",
   "execution_count": 36,
   "metadata": {},
   "outputs": [],
   "source": [
    "METRICS = [\n",
    "    tfk.metrics.TruePositives(name='tp'),\n",
    "    tfk.metrics.FalsePositives(name='fp'),\n",
    "    tfk.metrics.FalseNegatives(name='fn')\n",
    "]"
   ]
  },
  {
   "cell_type": "markdown",
   "metadata": {},
   "source": [
    "### Convert to tensorflow dataset"
   ]
  },
  {
   "cell_type": "code",
   "execution_count": 37,
   "metadata": {},
   "outputs": [],
   "source": [
    "train_set, dev_set = make_tensor_dataset(training,\"Class\",batch_size,buffer_size,0.2,10090)"
   ]
  },
  {
   "cell_type": "markdown",
   "metadata": {},
   "source": [
    "### Define earlystop and create model"
   ]
  },
  {
   "cell_type": "code",
   "execution_count": 38,
   "metadata": {},
   "outputs": [],
   "source": [
    "earlystop = tfk.callbacks.EarlyStopping(monitor=\"val_tp\",mode=\"max\",patience=20,verbose=1,restore_best_weights=True)"
   ]
  },
  {
   "cell_type": "code",
   "execution_count": 39,
   "metadata": {},
   "outputs": [],
   "source": [
    "classifier = make_model(sizes,input_size,METRICS)"
   ]
  },
  {
   "cell_type": "code",
   "execution_count": 40,
   "metadata": {},
   "outputs": [
    {
     "name": "stdout",
     "output_type": "stream",
     "text": [
      "Model: \"NN_binary_classifier\"\n",
      "_________________________________________________________________\n",
      "Layer (type)                 Output Shape              Param #   \n",
      "=================================================================\n",
      "sequential_2 (Sequential)    (None, 256)               73728     \n",
      "_________________________________________________________________\n",
      "dense_8 (Dense)              (None, 1)                 257       \n",
      "=================================================================\n",
      "Total params: 73,985\n",
      "Trainable params: 73,985\n",
      "Non-trainable params: 0\n",
      "_________________________________________________________________\n"
     ]
    }
   ],
   "source": [
    "classifier.summary()"
   ]
  },
  {
   "cell_type": "markdown",
   "metadata": {},
   "source": [
    "### tune model "
   ]
  },
  {
   "cell_type": "code",
   "execution_count": 41,
   "metadata": {
    "scrolled": true
   },
   "outputs": [
    {
     "name": "stdout",
     "output_type": "stream",
     "text": [
      "Epoch 1/100\n",
      "713/713 [==============================] - 2s 3ms/step - loss: 0.0472 - tp: 110.0000 - fp: 159.0000 - fn: 212.0000 - val_loss: 0.0319 - val_tp: 35.0000 - val_fp: 11.0000 - val_fn: 36.0000\n",
      "Epoch 2/100\n",
      "713/713 [==============================] - 2s 3ms/step - loss: 0.0272 - tp: 214.0000 - fp: 33.0000 - fn: 108.0000 - val_loss: 0.0252 - val_tp: 44.0000 - val_fp: 11.0000 - val_fn: 27.0000\n",
      "Epoch 3/100\n",
      "713/713 [==============================] - 2s 3ms/step - loss: 0.0220 - tp: 240.0000 - fp: 31.0000 - fn: 82.0000 - val_loss: 0.0213 - val_tp: 51.0000 - val_fp: 13.0000 - val_fn: 20.0000\n",
      "Epoch 4/100\n",
      "713/713 [==============================] - 2s 3ms/step - loss: 0.0182 - tp: 249.0000 - fp: 31.0000 - fn: 73.0000 - val_loss: 0.0175 - val_tp: 49.0000 - val_fp: 11.0000 - val_fn: 22.0000\n",
      "Epoch 5/100\n",
      "713/713 [==============================] - 2s 3ms/step - loss: 0.0151 - tp: 248.0000 - fp: 33.0000 - fn: 74.0000 - val_loss: 0.0148 - val_tp: 47.0000 - val_fp: 9.0000 - val_fn: 24.0000\n",
      "Epoch 6/100\n",
      "713/713 [==============================] - 2s 3ms/step - loss: 0.0129 - tp: 249.0000 - fp: 31.0000 - fn: 73.0000 - val_loss: 0.0132 - val_tp: 44.0000 - val_fp: 7.0000 - val_fn: 27.0000\n",
      "Epoch 7/100\n",
      "713/713 [==============================] - 2s 3ms/step - loss: 0.0115 - tp: 251.0000 - fp: 33.0000 - fn: 71.0000 - val_loss: 0.0118 - val_tp: 51.0000 - val_fp: 11.0000 - val_fn: 20.0000\n",
      "Epoch 8/100\n",
      "713/713 [==============================] - 2s 3ms/step - loss: 0.0104 - tp: 252.0000 - fp: 32.0000 - fn: 70.0000 - val_loss: 0.0109 - val_tp: 49.0000 - val_fp: 8.0000 - val_fn: 22.0000\n",
      "Epoch 9/100\n",
      "713/713 [==============================] - 2s 3ms/step - loss: 0.0096 - tp: 256.0000 - fp: 29.0000 - fn: 66.0000 - val_loss: 0.0102 - val_tp: 49.0000 - val_fp: 8.0000 - val_fn: 22.0000\n",
      "Epoch 10/100\n",
      "713/713 [==============================] - 2s 3ms/step - loss: 0.0090 - tp: 260.0000 - fp: 25.0000 - fn: 62.0000 - val_loss: 0.0100 - val_tp: 44.0000 - val_fp: 4.0000 - val_fn: 27.0000\n",
      "Epoch 11/100\n",
      "713/713 [==============================] - 2s 3ms/step - loss: 0.0085 - tp: 252.0000 - fp: 25.0000 - fn: 70.0000 - val_loss: 0.0094 - val_tp: 51.0000 - val_fp: 12.0000 - val_fn: 20.0000\n",
      "Epoch 12/100\n",
      "713/713 [==============================] - 2s 3ms/step - loss: 0.0080 - tp: 260.0000 - fp: 21.0000 - fn: 62.0000 - val_loss: 0.0090 - val_tp: 51.0000 - val_fp: 13.0000 - val_fn: 20.0000\n",
      "Epoch 13/100\n",
      "713/713 [==============================] - 2s 3ms/step - loss: 0.0076 - tp: 260.0000 - fp: 19.0000 - fn: 62.0000 - val_loss: 0.0087 - val_tp: 47.0000 - val_fp: 9.0000 - val_fn: 24.0000\n",
      "Epoch 14/100\n",
      "713/713 [==============================] - 2s 3ms/step - loss: 0.0073 - tp: 257.0000 - fp: 22.0000 - fn: 65.0000 - val_loss: 0.0084 - val_tp: 48.0000 - val_fp: 6.0000 - val_fn: 23.0000\n",
      "Epoch 15/100\n",
      "713/713 [==============================] - 2s 3ms/step - loss: 0.0070 - tp: 260.0000 - fp: 21.0000 - fn: 62.0000 - val_loss: 0.0082 - val_tp: 50.0000 - val_fp: 11.0000 - val_fn: 21.0000\n",
      "Epoch 16/100\n",
      "713/713 [==============================] - 2s 3ms/step - loss: 0.0068 - tp: 260.0000 - fp: 19.0000 - fn: 62.0000 - val_loss: 0.0080 - val_tp: 47.0000 - val_fp: 11.0000 - val_fn: 24.0000\n",
      "Epoch 17/100\n",
      "713/713 [==============================] - 2s 3ms/step - loss: 0.0066 - tp: 259.0000 - fp: 21.0000 - fn: 63.0000 - val_loss: 0.0077 - val_tp: 49.0000 - val_fp: 7.0000 - val_fn: 22.0000\n",
      "Epoch 18/100\n",
      "713/713 [==============================] - 2s 3ms/step - loss: 0.0063 - tp: 262.0000 - fp: 13.0000 - fn: 60.0000 - val_loss: 0.0076 - val_tp: 50.0000 - val_fp: 11.0000 - val_fn: 21.0000\n",
      "Epoch 19/100\n",
      "713/713 [==============================] - 2s 3ms/step - loss: 0.0061 - tp: 263.0000 - fp: 16.0000 - fn: 59.0000 - val_loss: 0.0073 - val_tp: 49.0000 - val_fp: 7.0000 - val_fn: 22.0000\n",
      "Epoch 20/100\n",
      "713/713 [==============================] - 2s 3ms/step - loss: 0.0059 - tp: 266.0000 - fp: 15.0000 - fn: 56.0000 - val_loss: 0.0072 - val_tp: 47.0000 - val_fp: 7.0000 - val_fn: 24.0000\n",
      "Epoch 21/100\n",
      "713/713 [==============================] - 2s 3ms/step - loss: 0.0058 - tp: 264.0000 - fp: 14.0000 - fn: 58.0000 - val_loss: 0.0071 - val_tp: 48.0000 - val_fp: 7.0000 - val_fn: 23.0000\n",
      "Epoch 22/100\n",
      "713/713 [==============================] - 2s 3ms/step - loss: 0.0057 - tp: 270.0000 - fp: 13.0000 - fn: 52.0000 - val_loss: 0.0072 - val_tp: 50.0000 - val_fp: 7.0000 - val_fn: 21.0000\n",
      "Epoch 23/100\n",
      "713/713 [==============================] - 2s 3ms/step - loss: 0.0055 - tp: 269.0000 - fp: 14.0000 - fn: 53.0000 - val_loss: 0.0070 - val_tp: 53.0000 - val_fp: 13.0000 - val_fn: 18.0000\n",
      "Epoch 24/100\n",
      "713/713 [==============================] - 2s 3ms/step - loss: 0.0054 - tp: 268.0000 - fp: 17.0000 - fn: 54.0000 - val_loss: 0.0068 - val_tp: 52.0000 - val_fp: 9.0000 - val_fn: 19.0000\n",
      "Epoch 25/100\n",
      "713/713 [==============================] - 2s 3ms/step - loss: 0.0052 - tp: 268.0000 - fp: 16.0000 - fn: 54.0000 - val_loss: 0.0068 - val_tp: 49.0000 - val_fp: 5.0000 - val_fn: 22.0000\n",
      "Epoch 26/100\n",
      "713/713 [==============================] - 2s 3ms/step - loss: 0.0051 - tp: 269.0000 - fp: 14.0000 - fn: 53.0000 - val_loss: 0.0066 - val_tp: 49.0000 - val_fp: 8.0000 - val_fn: 22.0000\n",
      "Epoch 27/100\n",
      "713/713 [==============================] - 2s 3ms/step - loss: 0.0050 - tp: 269.0000 - fp: 11.0000 - fn: 53.0000 - val_loss: 0.0066 - val_tp: 47.0000 - val_fp: 7.0000 - val_fn: 24.0000\n",
      "Epoch 28/100\n",
      "713/713 [==============================] - 2s 3ms/step - loss: 0.0049 - tp: 271.0000 - fp: 13.0000 - fn: 51.0000 - val_loss: 0.0065 - val_tp: 48.0000 - val_fp: 5.0000 - val_fn: 23.0000\n",
      "Epoch 29/100\n",
      "713/713 [==============================] - 2s 3ms/step - loss: 0.0048 - tp: 273.0000 - fp: 13.0000 - fn: 49.0000 - val_loss: 0.0064 - val_tp: 48.0000 - val_fp: 5.0000 - val_fn: 23.0000\n",
      "Epoch 30/100\n",
      "713/713 [==============================] - 2s 3ms/step - loss: 0.0047 - tp: 270.0000 - fp: 13.0000 - fn: 52.0000 - val_loss: 0.0063 - val_tp: 51.0000 - val_fp: 4.0000 - val_fn: 20.0000\n",
      "Epoch 31/100\n",
      "713/713 [==============================] - 2s 3ms/step - loss: 0.0046 - tp: 274.0000 - fp: 15.0000 - fn: 48.0000 - val_loss: 0.0064 - val_tp: 52.0000 - val_fp: 10.0000 - val_fn: 19.0000\n",
      "Epoch 32/100\n",
      "713/713 [==============================] - 2s 3ms/step - loss: 0.0046 - tp: 272.0000 - fp: 13.0000 - fn: 50.0000 - val_loss: 0.0062 - val_tp: 51.0000 - val_fp: 6.0000 - val_fn: 20.0000\n",
      "Epoch 33/100\n",
      "713/713 [==============================] - 2s 3ms/step - loss: 0.0044 - tp: 276.0000 - fp: 10.0000 - fn: 46.0000 - val_loss: 0.0062 - val_tp: 51.0000 - val_fp: 8.0000 - val_fn: 20.0000\n",
      "Epoch 34/100\n",
      "713/713 [==============================] - 2s 3ms/step - loss: 0.0044 - tp: 275.0000 - fp: 9.0000 - fn: 47.0000 - val_loss: 0.0061 - val_tp: 51.0000 - val_fp: 7.0000 - val_fn: 20.0000\n",
      "Epoch 35/100\n",
      "713/713 [==============================] - 2s 3ms/step - loss: 0.0043 - tp: 279.0000 - fp: 11.0000 - fn: 43.0000 - val_loss: 0.0062 - val_tp: 52.0000 - val_fp: 12.0000 - val_fn: 19.0000\n",
      "Epoch 36/100\n",
      "713/713 [==============================] - 2s 3ms/step - loss: 0.0042 - tp: 281.0000 - fp: 9.0000 - fn: 41.0000 - val_loss: 0.0062 - val_tp: 50.0000 - val_fp: 7.0000 - val_fn: 21.0000\n",
      "Epoch 37/100\n",
      "713/713 [==============================] - 2s 3ms/step - loss: 0.0041 - tp: 275.0000 - fp: 12.0000 - fn: 47.0000 - val_loss: 0.0062 - val_tp: 50.0000 - val_fp: 9.0000 - val_fn: 21.0000\n",
      "Epoch 38/100\n",
      "713/713 [==============================] - 2s 3ms/step - loss: 0.0041 - tp: 276.0000 - fp: 9.0000 - fn: 46.0000 - val_loss: 0.0060 - val_tp: 53.0000 - val_fp: 8.0000 - val_fn: 18.0000\n",
      "Epoch 39/100\n",
      "713/713 [==============================] - 2s 3ms/step - loss: 0.0039 - tp: 286.0000 - fp: 7.0000 - fn: 36.0000 - val_loss: 0.0062 - val_tp: 51.0000 - val_fp: 10.0000 - val_fn: 20.0000\n",
      "Epoch 40/100\n",
      "713/713 [==============================] - 2s 3ms/step - loss: 0.0040 - tp: 279.0000 - fp: 12.0000 - fn: 43.0000 - val_loss: 0.0058 - val_tp: 51.0000 - val_fp: 3.0000 - val_fn: 20.0000\n",
      "Epoch 41/100\n",
      "713/713 [==============================] - 2s 3ms/step - loss: 0.0039 - tp: 280.0000 - fp: 13.0000 - fn: 42.0000 - val_loss: 0.0061 - val_tp: 53.0000 - val_fp: 10.0000 - val_fn: 18.0000\n",
      "Epoch 42/100\n"
     ]
    },
    {
     "name": "stdout",
     "output_type": "stream",
     "text": [
      "713/713 [==============================] - 2s 3ms/step - loss: 0.0038 - tp: 285.0000 - fp: 9.0000 - fn: 37.0000 - val_loss: 0.0057 - val_tp: 53.0000 - val_fp: 6.0000 - val_fn: 18.0000\n",
      "Epoch 43/100\n",
      "708/713 [============================>.] - ETA: 0s - loss: 0.0038 - tp: 279.0000 - fp: 10.0000 - fn: 42.0000Restoring model weights from the end of the best epoch.\n",
      "713/713 [==============================] - 2s 3ms/step - loss: 0.0038 - tp: 280.0000 - fp: 11.0000 - fn: 42.0000 - val_loss: 0.0058 - val_tp: 53.0000 - val_fp: 6.0000 - val_fn: 18.0000\n",
      "Epoch 00043: early stopping\n"
     ]
    }
   ],
   "source": [
    "history = classifier.fit(train_set, epochs=epochs,shuffle=True,\n",
    "                         verbose = 1, validation_data=dev_set,\n",
    "                         callbacks=[earlystop])"
   ]
  },
  {
   "cell_type": "markdown",
   "metadata": {},
   "source": [
    "### Check out results"
   ]
  },
  {
   "cell_type": "code",
   "execution_count": 42,
   "metadata": {},
   "outputs": [
    {
     "data": {
      "image/png": "[encoded data removed]",
      "text/plain": [
       "<Figure size 432x288 with 1 Axes>"
      ]
     },
     "metadata": {
      "needs_background": "light"
     },
     "output_type": "display_data"
    }
   ],
   "source": [
    "plot_loss(history)"
   ]
  },
  {
   "cell_type": "code",
   "execution_count": 43,
   "metadata": {},
   "outputs": [
    {
     "data": {
      "image/png": "[encoded data removed]",
      "text/plain": [
       "<Figure size 432x288 with 1 Axes>"
      ]
     },
     "metadata": {
      "needs_background": "light"
     },
     "output_type": "display_data"
    }
   ],
   "source": [
    "plot_metrics(history)"
   ]
  },
  {
   "cell_type": "markdown",
   "metadata": {},
   "source": [
    "### check for testing results"
   ]
  },
  {
   "cell_type": "code",
   "execution_count": 31,
   "metadata": {},
   "outputs": [],
   "source": [
    "test_data, test_label = testing.drop(\"Class\",axis=1).values, testing.Class"
   ]
  },
  {
   "cell_type": "code",
   "execution_count": 32,
   "metadata": {},
   "outputs": [],
   "source": [
    "test_pred_score = classifier.predict_proba(test_data,batch_size=batch_size).ravel()"
   ]
  },
  {
   "cell_type": "code",
   "execution_count": 33,
   "metadata": {},
   "outputs": [
    {
     "name": "stdout",
     "output_type": "stream",
     "text": [
      "223/223 [==============================] - 0s 2ms/step - loss: 0.0078 - tp: 72.0000 - fp: 7.0000 - fn: 27.0000\n"
     ]
    }
   ],
   "source": [
    "test_evaluation = classifier.evaluate(test_data, test_label, batch_size=batch_size)"
   ]
  },
  {
   "cell_type": "code",
   "execution_count": 34,
   "metadata": {},
   "outputs": [
    {
     "name": "stdout",
     "output_type": "stream",
     "text": [
      "0.4\n",
      "[[56855     8]\n",
      " [   24    75]]\n",
      "              precision    recall  f1-score   support\n",
      "\n",
      "           0       1.00      1.00      1.00     56863\n",
      "           1       0.90      0.76      0.82        99\n",
      "\n",
      "    accuracy                           1.00     56962\n",
      "   macro avg       0.95      0.88      0.91     56962\n",
      "weighted avg       1.00      1.00      1.00     56962\n",
      "\n",
      "0.42000000000000004\n",
      "[[56855     8]\n",
      " [   25    74]]\n",
      "              precision    recall  f1-score   support\n",
      "\n",
      "           0       1.00      1.00      1.00     56863\n",
      "           1       0.90      0.75      0.82        99\n",
      "\n",
      "    accuracy                           1.00     56962\n",
      "   macro avg       0.95      0.87      0.91     56962\n",
      "weighted avg       1.00      1.00      1.00     56962\n",
      "\n",
      "0.44000000000000006\n",
      "[[56856     7]\n",
      " [   25    74]]\n",
      "              precision    recall  f1-score   support\n",
      "\n",
      "           0       1.00      1.00      1.00     56863\n",
      "           1       0.91      0.75      0.82        99\n",
      "\n",
      "    accuracy                           1.00     56962\n",
      "   macro avg       0.96      0.87      0.91     56962\n",
      "weighted avg       1.00      1.00      1.00     56962\n",
      "\n",
      "0.4600000000000001\n",
      "[[56856     7]\n",
      " [   26    73]]\n",
      "              precision    recall  f1-score   support\n",
      "\n",
      "           0       1.00      1.00      1.00     56863\n",
      "           1       0.91      0.74      0.82        99\n",
      "\n",
      "    accuracy                           1.00     56962\n",
      "   macro avg       0.96      0.87      0.91     56962\n",
      "weighted avg       1.00      1.00      1.00     56962\n",
      "\n",
      "0.4800000000000001\n",
      "[[56856     7]\n",
      " [   27    72]]\n",
      "              precision    recall  f1-score   support\n",
      "\n",
      "           0       1.00      1.00      1.00     56863\n",
      "           1       0.91      0.73      0.81        99\n",
      "\n",
      "    accuracy                           1.00     56962\n",
      "   macro avg       0.96      0.86      0.90     56962\n",
      "weighted avg       1.00      1.00      1.00     56962\n",
      "\n",
      "0.5000000000000001\n",
      "[[56856     7]\n",
      " [   27    72]]\n",
      "              precision    recall  f1-score   support\n",
      "\n",
      "           0       1.00      1.00      1.00     56863\n",
      "           1       0.91      0.73      0.81        99\n",
      "\n",
      "    accuracy                           1.00     56962\n",
      "   macro avg       0.96      0.86      0.90     56962\n",
      "weighted avg       1.00      1.00      1.00     56962\n",
      "\n",
      "0.5200000000000001\n",
      "[[56856     7]\n",
      " [   28    71]]\n",
      "              precision    recall  f1-score   support\n",
      "\n",
      "           0       1.00      1.00      1.00     56863\n",
      "           1       0.91      0.72      0.80        99\n",
      "\n",
      "    accuracy                           1.00     56962\n",
      "   macro avg       0.95      0.86      0.90     56962\n",
      "weighted avg       1.00      1.00      1.00     56962\n",
      "\n",
      "0.5400000000000001\n",
      "[[56858     5]\n",
      " [   29    70]]\n",
      "              precision    recall  f1-score   support\n",
      "\n",
      "           0       1.00      1.00      1.00     56863\n",
      "           1       0.93      0.71      0.80        99\n",
      "\n",
      "    accuracy                           1.00     56962\n",
      "   macro avg       0.97      0.85      0.90     56962\n",
      "weighted avg       1.00      1.00      1.00     56962\n",
      "\n",
      "0.5600000000000002\n",
      "[[56860     3]\n",
      " [   29    70]]\n",
      "              precision    recall  f1-score   support\n",
      "\n",
      "           0       1.00      1.00      1.00     56863\n",
      "           1       0.96      0.71      0.81        99\n",
      "\n",
      "    accuracy                           1.00     56962\n",
      "   macro avg       0.98      0.85      0.91     56962\n",
      "weighted avg       1.00      1.00      1.00     56962\n",
      "\n",
      "0.5800000000000002\n",
      "[[56860     3]\n",
      " [   29    70]]\n",
      "              precision    recall  f1-score   support\n",
      "\n",
      "           0       1.00      1.00      1.00     56863\n",
      "           1       0.96      0.71      0.81        99\n",
      "\n",
      "    accuracy                           1.00     56962\n",
      "   macro avg       0.98      0.85      0.91     56962\n",
      "weighted avg       1.00      1.00      1.00     56962\n",
      "\n",
      "0.6000000000000002\n",
      "[[56860     3]\n",
      " [   30    69]]\n",
      "              precision    recall  f1-score   support\n",
      "\n",
      "           0       1.00      1.00      1.00     56863\n",
      "           1       0.96      0.70      0.81        99\n",
      "\n",
      "    accuracy                           1.00     56962\n",
      "   macro avg       0.98      0.85      0.90     56962\n",
      "weighted avg       1.00      1.00      1.00     56962\n",
      "\n"
     ]
    }
   ],
   "source": [
    "for thr in np.arange(0.4,0.62,0.02):\n",
    "    print(thr)\n",
    "    model_results(test_label,test_pred_score,threshold=thr,ifprint=True)"
   ]
  },
  {
   "cell_type": "code",
   "execution_count": null,
   "metadata": {},
   "outputs": [],
   "source": []
  }
 ],
 "metadata": {
  "kernelspec": {
   "display_name": "Python 3",
   "language": "python",
   "name": "python3"
  },
  "language_info": {
   "codemirror_mode": {
    "name": "ipython",
    "version": 3
   },
   "file_extension": ".py",
   "mimetype": "text/x-python",
   "name": "python",
   "nbconvert_exporter": "python",
   "pygments_lexer": "ipython3",
   "version": "3.6.9"
  }
 },
 "nbformat": 4,
 "nbformat_minor": 4
}
