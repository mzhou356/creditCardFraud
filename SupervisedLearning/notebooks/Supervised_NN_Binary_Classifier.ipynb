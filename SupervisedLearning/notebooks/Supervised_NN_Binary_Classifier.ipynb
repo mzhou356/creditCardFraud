{
 "cells": [
  {
   "cell_type": "code",
   "execution_count": 8,
   "metadata": {},
   "outputs": [],
   "source": [
    "import sys\n",
    "import numpy as np\n",
    "import pandas as pd \n",
    "import tensorflow\n",
    "import tensorflow.compat.v2 as tf\n",
    "import matplotlib.pyplot as plt \n",
    "%matplotlib inline\n",
    "tensorflow.compat.v1.logging.set_verbosity(tensorflow.compat.v1.logging.ERROR)\n",
    "sys.path.append(\"/home/mindy/Documents/projects/creditCardFraud/SupervisedLearning/scripts/\")"
   ]
  },
  {
   "cell_type": "code",
   "execution_count": 9,
   "metadata": {},
   "outputs": [
    {
     "name": "stdout",
     "output_type": "stream",
     "text": [
      "The autoreload extension is already loaded. To reload it, use:\n",
      "  %reload_ext autoreload\n"
     ]
    }
   ],
   "source": [
    "from util import *\n",
    "from NN_util import *\n",
    "%load_ext autoreload\n",
    "%autoreload 2"
   ]
  },
  {
   "cell_type": "code",
   "execution_count": 10,
   "metadata": {},
   "outputs": [],
   "source": [
    "# make sure GPU is running \n",
    "tf.test.gpu_device_name()\n",
    "set_gpu_limit(7.5)"
   ]
  },
  {
   "cell_type": "markdown",
   "metadata": {},
   "source": [
    "### Import the same process data from anomaly detection\n",
    "* feature scale among columns are relatively close so it won't affect gradient descent as much"
   ]
  },
  {
   "cell_type": "code",
   "execution_count": 11,
   "metadata": {},
   "outputs": [],
   "source": [
    "train = pd.read_csv(\"../../AnomalyDetection/processedData/TrainingData_normal.csv\")\n",
    "dev = pd.read_csv(\"../../AnomalyDetection/processedData/DevData_normal.csv\")\n",
    "test = pd.read_csv(\"../../AnomalyDetection/processedData/hold_outset_moreFraud.csv\")"
   ]
  },
  {
   "cell_type": "code",
   "execution_count": 12,
   "metadata": {},
   "outputs": [],
   "source": [
    "training,testing = train_test_dfs(train,dev,test,\"Class\",0.1,1988)"
   ]
  },
  {
   "cell_type": "markdown",
   "metadata": {},
   "source": [
    "### Set CONSTANTS"
   ]
  },
  {
   "cell_type": "code",
   "execution_count": 14,
   "metadata": {},
   "outputs": [],
   "source": [
    "batch_size = 256\n",
    "epochs = 100\n",
    "sizes = [256,256]  # try a 2 layer NN \n",
    "input_size = train.shape[1]"
   ]
  },
  {
   "cell_type": "markdown",
   "metadata": {},
   "source": [
    "### Custom Metrics:\n",
    "* TruePostivies\n",
    "* FalsePostives\n",
    "* FalseNegatives\n",
    "* PR AUC (precision recall curve, better for imbalanced dataset) \n",
    "* Minority Class Precision\n",
    "* Minority Class Recall \n"
   ]
  },
  {
   "cell_type": "code",
   "execution_count": 15,
   "metadata": {},
   "outputs": [],
   "source": [
    "METRICS = [\n",
    "    tfk.metrics.TruePositives(name='tp'),\n",
    "    tfk.metrics.FalsePositives(name='fp'),\n",
    "    tfk.metrics.FalseNegatives(name='fn'),\n",
    "    tfk.metrics.AUC(curve = \"PR\", name = \"AUC_PR\"),\n",
    "    tfk.metrics.Precision(class_id = 0, name = \"Precsion\"),\n",
    "    tfk.metrics.Recall(class_id = 0, name = \"Recall\")\n",
    "]"
   ]
  },
  {
   "cell_type": "markdown",
   "metadata": {},
   "source": [
    "### Convert to tensorflow dataset"
   ]
  },
  {
   "cell_type": "code",
   "execution_count": 18,
   "metadata": {},
   "outputs": [],
   "source": [
    "train_set, dev_set = make_tensor_dataset(training,\"Class\",batch_size,0.2,10090)"
   ]
  },
  {
   "cell_type": "markdown",
   "metadata": {},
   "source": [
    "### Define earlystop and create model"
   ]
  },
  {
   "cell_type": "code",
   "execution_count": 19,
   "metadata": {},
   "outputs": [],
   "source": [
    "earlystop = tfk.callbacks.EarlyStopping(monitor=\"val_AUC_PR\",mode=\"max\",patience=20,verbose=1,restore_best_weights=True)"
   ]
  },
  {
   "cell_type": "code",
   "execution_count": 20,
   "metadata": {},
   "outputs": [],
   "source": [
    "classifier = make_model(sizes,input_size,METRICS)"
   ]
  },
  {
   "cell_type": "code",
   "execution_count": 21,
   "metadata": {},
   "outputs": [
    {
     "name": "stdout",
     "output_type": "stream",
     "text": [
      "Model: \"NN_binary_classifier\"\n",
      "_________________________________________________________________\n",
      "Layer (type)                 Output Shape              Param #   \n",
      "=================================================================\n",
      "sequential (Sequential)      (None, 256)               73728     \n",
      "_________________________________________________________________\n",
      "dense_2 (Dense)              (None, 1)                 257       \n",
      "=================================================================\n",
      "Total params: 73,985\n",
      "Trainable params: 73,985\n",
      "Non-trainable params: 0\n",
      "_________________________________________________________________\n"
     ]
    }
   ],
   "source": [
    "classifier.summary()"
   ]
  },
  {
   "cell_type": "markdown",
   "metadata": {},
   "source": [
    "### tune model "
   ]
  },
  {
   "cell_type": "code",
   "execution_count": 22,
   "metadata": {
    "scrolled": true
   },
   "outputs": [
    {
     "name": "stdout",
     "output_type": "stream",
     "text": [
      "Epoch 1/100\n",
      "802/802 [==============================] - 4s 5ms/step - loss: 0.0679 - tp: 105.0000 - fp: 2070.0000 - fn: 263.0000 - AUC_PR: 0.1684 - Precsion: 0.0483 - Recall: 0.2853 - val_loss: 0.0366 - val_tp: 41.0000 - val_fp: 9.0000 - val_fn: 34.0000 - val_AUC_PR: 0.5996 - val_Precsion: 0.8200 - val_Recall: 0.5467\n",
      "Epoch 2/100\n",
      "802/802 [==============================] - 3s 4ms/step - loss: 0.0337 - tp: 221.0000 - fp: 36.0000 - fn: 147.0000 - AUC_PR: 0.6413 - Precsion: 0.8599 - Recall: 0.6005 - val_loss: 0.0296 - val_tp: 52.0000 - val_fp: 7.0000 - val_fn: 23.0000 - val_AUC_PR: 0.7700 - val_Precsion: 0.8814 - val_Recall: 0.6933\n",
      "Epoch 3/100\n",
      "802/802 [==============================] - 3s 4ms/step - loss: 0.0279 - tp: 258.0000 - fp: 30.0000 - fn: 110.0000 - AUC_PR: 0.7645 - Precsion: 0.8958 - Recall: 0.7011 - val_loss: 0.0251 - val_tp: 60.0000 - val_fp: 10.0000 - val_fn: 15.0000 - val_AUC_PR: 0.7951 - val_Precsion: 0.8571 - val_Recall: 0.8000\n",
      "Epoch 4/100\n",
      "802/802 [==============================] - 3s 4ms/step - loss: 0.0238 - tp: 269.0000 - fp: 37.0000 - fn: 99.0000 - AUC_PR: 0.7933 - Precsion: 0.8791 - Recall: 0.7310 - val_loss: 0.0214 - val_tp: 55.0000 - val_fp: 5.0000 - val_fn: 20.0000 - val_AUC_PR: 0.8203 - val_Precsion: 0.9167 - val_Recall: 0.7333\n",
      "Epoch 5/100\n",
      "802/802 [==============================] - 3s 4ms/step - loss: 0.0204 - tp: 277.0000 - fp: 38.0000 - fn: 91.0000 - AUC_PR: 0.8070 - Precsion: 0.8794 - Recall: 0.7527 - val_loss: 0.0182 - val_tp: 62.0000 - val_fp: 11.0000 - val_fn: 13.0000 - val_AUC_PR: 0.8242 - val_Precsion: 0.8493 - val_Recall: 0.8267\n",
      "Epoch 6/100\n",
      "802/802 [==============================] - 3s 4ms/step - loss: 0.0173 - tp: 280.0000 - fp: 38.0000 - fn: 88.0000 - AUC_PR: 0.8162 - Precsion: 0.8805 - Recall: 0.7609 - val_loss: 0.0153 - val_tp: 61.0000 - val_fp: 11.0000 - val_fn: 14.0000 - val_AUC_PR: 0.8345 - val_Precsion: 0.8472 - val_Recall: 0.8133\n",
      "Epoch 7/100\n",
      "802/802 [==============================] - 3s 4ms/step - loss: 0.0147 - tp: 281.0000 - fp: 39.0000 - fn: 87.0000 - AUC_PR: 0.8205 - Precsion: 0.8781 - Recall: 0.7636 - val_loss: 0.0129 - val_tp: 60.0000 - val_fp: 8.0000 - val_fn: 15.0000 - val_AUC_PR: 0.8458 - val_Precsion: 0.8824 - val_Recall: 0.8000\n",
      "Epoch 8/100\n",
      "802/802 [==============================] - 3s 4ms/step - loss: 0.0125 - tp: 287.0000 - fp: 35.0000 - fn: 81.0000 - AUC_PR: 0.8343 - Precsion: 0.8913 - Recall: 0.7799 - val_loss: 0.0110 - val_tp: 61.0000 - val_fp: 7.0000 - val_fn: 14.0000 - val_AUC_PR: 0.8505 - val_Precsion: 0.8971 - val_Recall: 0.8133\n",
      "Epoch 9/100\n",
      "802/802 [==============================] - 3s 4ms/step - loss: 0.0110 - tp: 282.0000 - fp: 34.0000 - fn: 86.0000 - AUC_PR: 0.8361 - Precsion: 0.8924 - Recall: 0.7663 - val_loss: 0.0098 - val_tp: 58.0000 - val_fp: 6.0000 - val_fn: 17.0000 - val_AUC_PR: 0.8558 - val_Precsion: 0.9062 - val_Recall: 0.7733\n",
      "Epoch 10/100\n",
      "802/802 [==============================] - 3s 4ms/step - loss: 0.0099 - tp: 282.0000 - fp: 31.0000 - fn: 86.0000 - AUC_PR: 0.8429 - Precsion: 0.9010 - Recall: 0.7663 - val_loss: 0.0090 - val_tp: 62.0000 - val_fp: 9.0000 - val_fn: 13.0000 - val_AUC_PR: 0.8563 - val_Precsion: 0.8732 - val_Recall: 0.8267\n",
      "Epoch 11/100\n",
      "802/802 [==============================] - 3s 4ms/step - loss: 0.0091 - tp: 289.0000 - fp: 27.0000 - fn: 79.0000 - AUC_PR: 0.8491 - Precsion: 0.9146 - Recall: 0.7853 - val_loss: 0.0084 - val_tp: 59.0000 - val_fp: 6.0000 - val_fn: 16.0000 - val_AUC_PR: 0.8543 - val_Precsion: 0.9077 - val_Recall: 0.7867\n",
      "Epoch 12/100\n",
      "802/802 [==============================] - 3s 4ms/step - loss: 0.0086 - tp: 286.0000 - fp: 32.0000 - fn: 82.0000 - AUC_PR: 0.8539 - Precsion: 0.8994 - Recall: 0.7772 - val_loss: 0.0081 - val_tp: 56.0000 - val_fp: 6.0000 - val_fn: 19.0000 - val_AUC_PR: 0.8613 - val_Precsion: 0.9032 - val_Recall: 0.7467\n",
      "Epoch 13/100\n",
      "802/802 [==============================] - 3s 4ms/step - loss: 0.0081 - tp: 286.0000 - fp: 28.0000 - fn: 82.0000 - AUC_PR: 0.8588 - Precsion: 0.9108 - Recall: 0.7772 - val_loss: 0.0076 - val_tp: 60.0000 - val_fp: 5.0000 - val_fn: 15.0000 - val_AUC_PR: 0.8552 - val_Precsion: 0.9231 - val_Recall: 0.8000\n",
      "Epoch 14/100\n",
      "802/802 [==============================] - 3s 4ms/step - loss: 0.0078 - tp: 291.0000 - fp: 33.0000 - fn: 77.0000 - AUC_PR: 0.8570 - Precsion: 0.8981 - Recall: 0.7908 - val_loss: 0.0072 - val_tp: 61.0000 - val_fp: 3.0000 - val_fn: 14.0000 - val_AUC_PR: 0.8637 - val_Precsion: 0.9531 - val_Recall: 0.8133\n",
      "Epoch 15/100\n",
      "802/802 [==============================] - 3s 4ms/step - loss: 0.0074 - tp: 286.0000 - fp: 35.0000 - fn: 82.0000 - AUC_PR: 0.8638 - Precsion: 0.8910 - Recall: 0.7772 - val_loss: 0.0070 - val_tp: 59.0000 - val_fp: 3.0000 - val_fn: 16.0000 - val_AUC_PR: 0.8630 - val_Precsion: 0.9516 - val_Recall: 0.7867\n",
      "Epoch 16/100\n",
      "802/802 [==============================] - 3s 4ms/step - loss: 0.0071 - tp: 286.0000 - fp: 25.0000 - fn: 82.0000 - AUC_PR: 0.8702 - Precsion: 0.9196 - Recall: 0.7772 - val_loss: 0.0068 - val_tp: 62.0000 - val_fp: 9.0000 - val_fn: 13.0000 - val_AUC_PR: 0.8634 - val_Precsion: 0.8732 - val_Recall: 0.8267\n",
      "Epoch 17/100\n",
      "802/802 [==============================] - 3s 4ms/step - loss: 0.0068 - tp: 291.0000 - fp: 20.0000 - fn: 77.0000 - AUC_PR: 0.8760 - Precsion: 0.9357 - Recall: 0.7908 - val_loss: 0.0068 - val_tp: 62.0000 - val_fp: 13.0000 - val_fn: 13.0000 - val_AUC_PR: 0.8453 - val_Precsion: 0.8267 - val_Recall: 0.8267\n",
      "Epoch 18/100\n",
      "802/802 [==============================] - 3s 4ms/step - loss: 0.0066 - tp: 289.0000 - fp: 30.0000 - fn: 79.0000 - AUC_PR: 0.8714 - Precsion: 0.9060 - Recall: 0.7853 - val_loss: 0.0063 - val_tp: 61.0000 - val_fp: 5.0000 - val_fn: 14.0000 - val_AUC_PR: 0.8691 - val_Precsion: 0.9242 - val_Recall: 0.8133\n",
      "Epoch 19/100\n",
      "802/802 [==============================] - 3s 4ms/step - loss: 0.0064 - tp: 293.0000 - fp: 26.0000 - fn: 75.0000 - AUC_PR: 0.8782 - Precsion: 0.9185 - Recall: 0.7962 - val_loss: 0.0061 - val_tp: 62.0000 - val_fp: 7.0000 - val_fn: 13.0000 - val_AUC_PR: 0.8687 - val_Precsion: 0.8986 - val_Recall: 0.8267\n",
      "Epoch 20/100\n",
      "802/802 [==============================] - 3s 4ms/step - loss: 0.0062 - tp: 295.0000 - fp: 27.0000 - fn: 73.0000 - AUC_PR: 0.8804 - Precsion: 0.9161 - Recall: 0.8016 - val_loss: 0.0060 - val_tp: 59.0000 - val_fp: 3.0000 - val_fn: 16.0000 - val_AUC_PR: 0.8661 - val_Precsion: 0.9516 - val_Recall: 0.7867\n",
      "Epoch 21/100\n",
      "802/802 [==============================] - 3s 4ms/step - loss: 0.0060 - tp: 294.0000 - fp: 21.0000 - fn: 74.0000 - AUC_PR: 0.8839 - Precsion: 0.9333 - Recall: 0.7989 - val_loss: 0.0059 - val_tp: 62.0000 - val_fp: 8.0000 - val_fn: 13.0000 - val_AUC_PR: 0.8599 - val_Precsion: 0.8857 - val_Recall: 0.8267\n",
      "Epoch 22/100\n",
      "802/802 [==============================] - 3s 4ms/step - loss: 0.0059 - tp: 296.0000 - fp: 23.0000 - fn: 72.0000 - AUC_PR: 0.8891 - Precsion: 0.9279 - Recall: 0.8043 - val_loss: 0.0057 - val_tp: 61.0000 - val_fp: 5.0000 - val_fn: 14.0000 - val_AUC_PR: 0.8695 - val_Precsion: 0.9242 - val_Recall: 0.8133\n",
      "Epoch 23/100\n",
      "802/802 [==============================] - 3s 4ms/step - loss: 0.0058 - tp: 293.0000 - fp: 23.0000 - fn: 75.0000 - AUC_PR: 0.8836 - Precsion: 0.9272 - Recall: 0.7962 - val_loss: 0.0056 - val_tp: 62.0000 - val_fp: 10.0000 - val_fn: 13.0000 - val_AUC_PR: 0.8699 - val_Precsion: 0.8611 - val_Recall: 0.8267\n",
      "Epoch 24/100\n",
      "802/802 [==============================] - 3s 4ms/step - loss: 0.0056 - tp: 302.0000 - fp: 21.0000 - fn: 66.0000 - AUC_PR: 0.8933 - Precsion: 0.9350 - Recall: 0.8207 - val_loss: 0.0055 - val_tp: 61.0000 - val_fp: 6.0000 - val_fn: 14.0000 - val_AUC_PR: 0.8660 - val_Precsion: 0.9104 - val_Recall: 0.8133\n",
      "Epoch 25/100\n",
      "802/802 [==============================] - 3s 4ms/step - loss: 0.0054 - tp: 301.0000 - fp: 20.0000 - fn: 67.0000 - AUC_PR: 0.8987 - Precsion: 0.9377 - Recall: 0.8179 - val_loss: 0.0054 - val_tp: 61.0000 - val_fp: 5.0000 - val_fn: 14.0000 - val_AUC_PR: 0.8667 - val_Precsion: 0.9242 - val_Recall: 0.8133\n",
      "Epoch 26/100\n",
      "802/802 [==============================] - 3s 4ms/step - loss: 0.0054 - tp: 300.0000 - fp: 19.0000 - fn: 68.0000 - AUC_PR: 0.8920 - Precsion: 0.9404 - Recall: 0.8152 - val_loss: 0.0053 - val_tp: 61.0000 - val_fp: 4.0000 - val_fn: 14.0000 - val_AUC_PR: 0.8656 - val_Precsion: 0.9385 - val_Recall: 0.8133\n"
     ]
    },
    {
     "name": "stdout",
     "output_type": "stream",
     "text": [
      "Epoch 27/100\n",
      "802/802 [==============================] - 3s 4ms/step - loss: 0.0052 - tp: 301.0000 - fp: 18.0000 - fn: 67.0000 - AUC_PR: 0.8993 - Precsion: 0.9436 - Recall: 0.8179 - val_loss: 0.0052 - val_tp: 61.0000 - val_fp: 5.0000 - val_fn: 14.0000 - val_AUC_PR: 0.8713 - val_Precsion: 0.9242 - val_Recall: 0.8133\n",
      "Epoch 28/100\n",
      "802/802 [==============================] - 3s 4ms/step - loss: 0.0052 - tp: 296.0000 - fp: 22.0000 - fn: 72.0000 - AUC_PR: 0.8929 - Precsion: 0.9308 - Recall: 0.8043 - val_loss: 0.0052 - val_tp: 62.0000 - val_fp: 8.0000 - val_fn: 13.0000 - val_AUC_PR: 0.8658 - val_Precsion: 0.8857 - val_Recall: 0.8267\n",
      "Epoch 29/100\n",
      "802/802 [==============================] - 3s 4ms/step - loss: 0.0050 - tp: 301.0000 - fp: 15.0000 - fn: 67.0000 - AUC_PR: 0.9065 - Precsion: 0.9525 - Recall: 0.8179 - val_loss: 0.0054 - val_tp: 62.0000 - val_fp: 13.0000 - val_fn: 13.0000 - val_AUC_PR: 0.8584 - val_Precsion: 0.8267 - val_Recall: 0.8267\n",
      "Epoch 30/100\n",
      "802/802 [==============================] - 3s 4ms/step - loss: 0.0050 - tp: 302.0000 - fp: 20.0000 - fn: 66.0000 - AUC_PR: 0.9034 - Precsion: 0.9379 - Recall: 0.8207 - val_loss: 0.0051 - val_tp: 62.0000 - val_fp: 9.0000 - val_fn: 13.0000 - val_AUC_PR: 0.8664 - val_Precsion: 0.8732 - val_Recall: 0.8267\n",
      "Epoch 31/100\n",
      "802/802 [==============================] - 3s 4ms/step - loss: 0.0048 - tp: 305.0000 - fp: 17.0000 - fn: 63.0000 - AUC_PR: 0.9047 - Precsion: 0.9472 - Recall: 0.8288 - val_loss: 0.0051 - val_tp: 62.0000 - val_fp: 11.0000 - val_fn: 13.0000 - val_AUC_PR: 0.8625 - val_Precsion: 0.8493 - val_Recall: 0.8267\n",
      "Epoch 32/100\n",
      "802/802 [==============================] - 3s 4ms/step - loss: 0.0048 - tp: 308.0000 - fp: 14.0000 - fn: 60.0000 - AUC_PR: 0.9075 - Precsion: 0.9565 - Recall: 0.8370 - val_loss: 0.0050 - val_tp: 62.0000 - val_fp: 6.0000 - val_fn: 13.0000 - val_AUC_PR: 0.8533 - val_Precsion: 0.9118 - val_Recall: 0.8267\n",
      "Epoch 33/100\n",
      "802/802 [==============================] - 3s 4ms/step - loss: 0.0047 - tp: 306.0000 - fp: 15.0000 - fn: 62.0000 - AUC_PR: 0.9101 - Precsion: 0.9533 - Recall: 0.8315 - val_loss: 0.0048 - val_tp: 62.0000 - val_fp: 3.0000 - val_fn: 13.0000 - val_AUC_PR: 0.8539 - val_Precsion: 0.9538 - val_Recall: 0.8267\n",
      "Epoch 34/100\n",
      "802/802 [==============================] - 3s 4ms/step - loss: 0.0046 - tp: 307.0000 - fp: 16.0000 - fn: 61.0000 - AUC_PR: 0.9115 - Precsion: 0.9505 - Recall: 0.8342 - val_loss: 0.0048 - val_tp: 61.0000 - val_fp: 7.0000 - val_fn: 14.0000 - val_AUC_PR: 0.8594 - val_Precsion: 0.8971 - val_Recall: 0.8133\n",
      "Epoch 35/100\n",
      "802/802 [==============================] - 3s 4ms/step - loss: 0.0046 - tp: 307.0000 - fp: 16.0000 - fn: 61.0000 - AUC_PR: 0.9088 - Precsion: 0.9505 - Recall: 0.8342 - val_loss: 0.0049 - val_tp: 62.0000 - val_fp: 9.0000 - val_fn: 13.0000 - val_AUC_PR: 0.8608 - val_Precsion: 0.8732 - val_Recall: 0.8267\n",
      "Epoch 36/100\n",
      "802/802 [==============================] - 3s 4ms/step - loss: 0.0044 - tp: 310.0000 - fp: 16.0000 - fn: 58.0000 - AUC_PR: 0.9175 - Precsion: 0.9509 - Recall: 0.8424 - val_loss: 0.0047 - val_tp: 62.0000 - val_fp: 5.0000 - val_fn: 13.0000 - val_AUC_PR: 0.8537 - val_Precsion: 0.9254 - val_Recall: 0.8267\n",
      "Epoch 37/100\n",
      "802/802 [==============================] - 3s 4ms/step - loss: 0.0044 - tp: 308.0000 - fp: 13.0000 - fn: 60.0000 - AUC_PR: 0.9171 - Precsion: 0.9595 - Recall: 0.8370 - val_loss: 0.0050 - val_tp: 62.0000 - val_fp: 10.0000 - val_fn: 13.0000 - val_AUC_PR: 0.8415 - val_Precsion: 0.8611 - val_Recall: 0.8267\n",
      "Epoch 38/100\n",
      "802/802 [==============================] - 3s 4ms/step - loss: 0.0043 - tp: 309.0000 - fp: 15.0000 - fn: 59.0000 - AUC_PR: 0.9201 - Precsion: 0.9537 - Recall: 0.8397 - val_loss: 0.0047 - val_tp: 62.0000 - val_fp: 6.0000 - val_fn: 13.0000 - val_AUC_PR: 0.8574 - val_Precsion: 0.9118 - val_Recall: 0.8267\n",
      "Epoch 39/100\n",
      "802/802 [==============================] - 3s 4ms/step - loss: 0.0042 - tp: 310.0000 - fp: 16.0000 - fn: 58.0000 - AUC_PR: 0.9237 - Precsion: 0.9509 - Recall: 0.8424 - val_loss: 0.0046 - val_tp: 62.0000 - val_fp: 6.0000 - val_fn: 13.0000 - val_AUC_PR: 0.8581 - val_Precsion: 0.9118 - val_Recall: 0.8267\n",
      "Epoch 40/100\n",
      "802/802 [==============================] - 3s 4ms/step - loss: 0.0042 - tp: 308.0000 - fp: 14.0000 - fn: 60.0000 - AUC_PR: 0.9176 - Precsion: 0.9565 - Recall: 0.8370 - val_loss: 0.0047 - val_tp: 62.0000 - val_fp: 6.0000 - val_fn: 13.0000 - val_AUC_PR: 0.8482 - val_Precsion: 0.9118 - val_Recall: 0.8267\n",
      "Epoch 41/100\n",
      "802/802 [==============================] - 3s 4ms/step - loss: 0.0041 - tp: 308.0000 - fp: 15.0000 - fn: 60.0000 - AUC_PR: 0.9241 - Precsion: 0.9536 - Recall: 0.8370 - val_loss: 0.0046 - val_tp: 62.0000 - val_fp: 8.0000 - val_fn: 13.0000 - val_AUC_PR: 0.8600 - val_Precsion: 0.8857 - val_Recall: 0.8267\n",
      "Epoch 42/100\n",
      "802/802 [==============================] - 3s 4ms/step - loss: 0.0040 - tp: 311.0000 - fp: 12.0000 - fn: 57.0000 - AUC_PR: 0.9286 - Precsion: 0.9628 - Recall: 0.8451 - val_loss: 0.0050 - val_tp: 62.0000 - val_fp: 8.0000 - val_fn: 13.0000 - val_AUC_PR: 0.8225 - val_Precsion: 0.8857 - val_Recall: 0.8267\n",
      "Epoch 43/100\n",
      "802/802 [==============================] - 3s 4ms/step - loss: 0.0040 - tp: 314.0000 - fp: 14.0000 - fn: 54.0000 - AUC_PR: 0.9300 - Precsion: 0.9573 - Recall: 0.8533 - val_loss: 0.0045 - val_tp: 62.0000 - val_fp: 5.0000 - val_fn: 13.0000 - val_AUC_PR: 0.8563 - val_Precsion: 0.9254 - val_Recall: 0.8267\n",
      "Epoch 44/100\n",
      "802/802 [==============================] - 3s 4ms/step - loss: 0.0039 - tp: 313.0000 - fp: 11.0000 - fn: 55.0000 - AUC_PR: 0.9325 - Precsion: 0.9660 - Recall: 0.8505 - val_loss: 0.0047 - val_tp: 62.0000 - val_fp: 6.0000 - val_fn: 13.0000 - val_AUC_PR: 0.8535 - val_Precsion: 0.9118 - val_Recall: 0.8267\n",
      "Epoch 45/100\n",
      "802/802 [==============================] - 3s 4ms/step - loss: 0.0039 - tp: 309.0000 - fp: 15.0000 - fn: 59.0000 - AUC_PR: 0.9298 - Precsion: 0.9537 - Recall: 0.8397 - val_loss: 0.0046 - val_tp: 62.0000 - val_fp: 5.0000 - val_fn: 13.0000 - val_AUC_PR: 0.8473 - val_Precsion: 0.9254 - val_Recall: 0.8267\n",
      "Epoch 46/100\n",
      "802/802 [==============================] - 3s 4ms/step - loss: 0.0039 - tp: 312.0000 - fp: 13.0000 - fn: 56.0000 - AUC_PR: 0.9298 - Precsion: 0.9600 - Recall: 0.8478 - val_loss: 0.0044 - val_tp: 62.0000 - val_fp: 3.0000 - val_fn: 13.0000 - val_AUC_PR: 0.8565 - val_Precsion: 0.9538 - val_Recall: 0.8267\n",
      "Epoch 47/100\n",
      "798/802 [============================>.] - ETA: 0s - loss: 0.0038 - tp: 316.0000 - fp: 14.0000 - fn: 49.0000 - AUC_PR: 0.9338 - Precsion: 0.9576 - Recall: 0.8658Restoring model weights from the end of the best epoch.\n",
      "802/802 [==============================] - 3s 4ms/step - loss: 0.0038 - tp: 318.0000 - fp: 14.0000 - fn: 50.0000 - AUC_PR: 0.9318 - Precsion: 0.9578 - Recall: 0.8641 - val_loss: 0.0044 - val_tp: 61.0000 - val_fp: 4.0000 - val_fn: 14.0000 - val_AUC_PR: 0.8544 - val_Precsion: 0.9385 - val_Recall: 0.8133\n",
      "Epoch 00047: early stopping\n"
     ]
    }
   ],
   "source": [
    "history = classifier.fit(train_set, epochs=epochs,shuffle=True,\n",
    "                         verbose = 1, validation_data=dev_set,\n",
    "                         callbacks=[earlystop])"
   ]
  },
  {
   "cell_type": "markdown",
   "metadata": {},
   "source": [
    "### Check out results"
   ]
  },
  {
   "cell_type": "code",
   "execution_count": 23,
   "metadata": {},
   "outputs": [
    {
     "data": {
      "image/png": "[encoded data removed]",
      "text/plain": [
       "<Figure size 432x288 with 1 Axes>"
      ]
     },
     "metadata": {
      "needs_background": "light"
     },
     "output_type": "display_data"
    }
   ],
   "source": [
    "plot_loss(history)"
   ]
  },
  {
   "cell_type": "code",
   "execution_count": 24,
   "metadata": {},
   "outputs": [
    {
     "data": {
      "image/png": "[encoded data removed]",
      "text/plain": [
       "<Figure size 432x432 with 1 Axes>"
      ]
     },
     "metadata": {
      "needs_background": "light"
     },
     "output_type": "display_data"
    }
   ],
   "source": [
    "plot_metrics(history)"
   ]
  },
  {
   "cell_type": "markdown",
   "metadata": {},
   "source": [
    "### check for testing results"
   ]
  },
  {
   "cell_type": "code",
   "execution_count": 25,
   "metadata": {},
   "outputs": [],
   "source": [
    "test_data, test_label = testing.drop(\"Class\",axis=1).values, testing.Class"
   ]
  },
  {
   "cell_type": "code",
   "execution_count": 26,
   "metadata": {},
   "outputs": [],
   "source": [
    "test_pred_score = classifier.predict_proba(test_data,batch_size=batch_size).ravel()"
   ]
  },
  {
   "cell_type": "code",
   "execution_count": 27,
   "metadata": {},
   "outputs": [
    {
     "name": "stdout",
     "output_type": "stream",
     "text": [
      "112/112 [==============================] - 0s 3ms/step - loss: 0.0053 - tp: 40.0000 - fp: 1.0000 - fn: 9.0000 - AUC_PR: 0.8882 - Precsion: 0.9756 - Recall: 0.8163        \n"
     ]
    }
   ],
   "source": [
    "test_evaluation = classifier.evaluate(test_data, test_label, batch_size=batch_size)"
   ]
  },
  {
   "cell_type": "code",
   "execution_count": 29,
   "metadata": {},
   "outputs": [
    {
     "name": "stdout",
     "output_type": "stream",
     "text": [
      "0.4\n",
      "[[28430     2]\n",
      " [    9    40]]\n",
      "              precision    recall  f1-score   support\n",
      "\n",
      "           0       1.00      1.00      1.00     28432\n",
      "           1       0.95      0.82      0.88        49\n",
      "\n",
      "    accuracy                           1.00     28481\n",
      "   macro avg       0.98      0.91      0.94     28481\n",
      "weighted avg       1.00      1.00      1.00     28481\n",
      "\n",
      "0.42000000000000004\n",
      "[[28430     2]\n",
      " [    9    40]]\n",
      "              precision    recall  f1-score   support\n",
      "\n",
      "           0       1.00      1.00      1.00     28432\n",
      "           1       0.95      0.82      0.88        49\n",
      "\n",
      "    accuracy                           1.00     28481\n",
      "   macro avg       0.98      0.91      0.94     28481\n",
      "weighted avg       1.00      1.00      1.00     28481\n",
      "\n",
      "0.44000000000000006\n",
      "[[28430     2]\n",
      " [    9    40]]\n",
      "              precision    recall  f1-score   support\n",
      "\n",
      "           0       1.00      1.00      1.00     28432\n",
      "           1       0.95      0.82      0.88        49\n",
      "\n",
      "    accuracy                           1.00     28481\n",
      "   macro avg       0.98      0.91      0.94     28481\n",
      "weighted avg       1.00      1.00      1.00     28481\n",
      "\n",
      "0.4600000000000001\n",
      "[[28430     2]\n",
      " [    9    40]]\n",
      "              precision    recall  f1-score   support\n",
      "\n",
      "           0       1.00      1.00      1.00     28432\n",
      "           1       0.95      0.82      0.88        49\n",
      "\n",
      "    accuracy                           1.00     28481\n",
      "   macro avg       0.98      0.91      0.94     28481\n",
      "weighted avg       1.00      1.00      1.00     28481\n",
      "\n",
      "0.4800000000000001\n",
      "[[28430     2]\n",
      " [    9    40]]\n",
      "              precision    recall  f1-score   support\n",
      "\n",
      "           0       1.00      1.00      1.00     28432\n",
      "           1       0.95      0.82      0.88        49\n",
      "\n",
      "    accuracy                           1.00     28481\n",
      "   macro avg       0.98      0.91      0.94     28481\n",
      "weighted avg       1.00      1.00      1.00     28481\n",
      "\n",
      "0.5000000000000001\n",
      "[[28431     1]\n",
      " [    9    40]]\n",
      "              precision    recall  f1-score   support\n",
      "\n",
      "           0       1.00      1.00      1.00     28432\n",
      "           1       0.98      0.82      0.89        49\n",
      "\n",
      "    accuracy                           1.00     28481\n",
      "   macro avg       0.99      0.91      0.94     28481\n",
      "weighted avg       1.00      1.00      1.00     28481\n",
      "\n",
      "0.5200000000000001\n",
      "[[28431     1]\n",
      " [    9    40]]\n",
      "              precision    recall  f1-score   support\n",
      "\n",
      "           0       1.00      1.00      1.00     28432\n",
      "           1       0.98      0.82      0.89        49\n",
      "\n",
      "    accuracy                           1.00     28481\n",
      "   macro avg       0.99      0.91      0.94     28481\n",
      "weighted avg       1.00      1.00      1.00     28481\n",
      "\n",
      "0.5400000000000001\n",
      "[[28431     1]\n",
      " [   10    39]]\n",
      "              precision    recall  f1-score   support\n",
      "\n",
      "           0       1.00      1.00      1.00     28432\n",
      "           1       0.97      0.80      0.88        49\n",
      "\n",
      "    accuracy                           1.00     28481\n",
      "   macro avg       0.99      0.90      0.94     28481\n",
      "weighted avg       1.00      1.00      1.00     28481\n",
      "\n",
      "0.5600000000000002\n",
      "[[28431     1]\n",
      " [   10    39]]\n",
      "              precision    recall  f1-score   support\n",
      "\n",
      "           0       1.00      1.00      1.00     28432\n",
      "           1       0.97      0.80      0.88        49\n",
      "\n",
      "    accuracy                           1.00     28481\n",
      "   macro avg       0.99      0.90      0.94     28481\n",
      "weighted avg       1.00      1.00      1.00     28481\n",
      "\n",
      "0.5800000000000002\n",
      "[[28431     1]\n",
      " [   10    39]]\n",
      "              precision    recall  f1-score   support\n",
      "\n",
      "           0       1.00      1.00      1.00     28432\n",
      "           1       0.97      0.80      0.88        49\n",
      "\n",
      "    accuracy                           1.00     28481\n",
      "   macro avg       0.99      0.90      0.94     28481\n",
      "weighted avg       1.00      1.00      1.00     28481\n",
      "\n",
      "0.6000000000000002\n",
      "[[28431     1]\n",
      " [   10    39]]\n",
      "              precision    recall  f1-score   support\n",
      "\n",
      "           0       1.00      1.00      1.00     28432\n",
      "           1       0.97      0.80      0.88        49\n",
      "\n",
      "    accuracy                           1.00     28481\n",
      "   macro avg       0.99      0.90      0.94     28481\n",
      "weighted avg       1.00      1.00      1.00     28481\n",
      "\n"
     ]
    }
   ],
   "source": [
    "for thr in np.arange(0.4,0.61,0.02):\n",
    "    print(thr)\n",
    "    output = model_results(test_label,test_pred_score,threshold=thr,ifprint=True)"
   ]
  },
  {
   "cell_type": "markdown",
   "metadata": {},
   "source": [
    "### With a threshold of [0.5,0.52] we are able to reach a f1 score for class 1 of 0.89"
   ]
  },
  {
   "cell_type": "code",
   "execution_count": 30,
   "metadata": {},
   "outputs": [
    {
     "name": "stdout",
     "output_type": "stream",
     "text": [
      "[[28431     1]\n",
      " [    9    40]]\n",
      "              precision    recall  f1-score   support\n",
      "\n",
      "           0       1.00      1.00      1.00     28432\n",
      "           1       0.98      0.82      0.89        49\n",
      "\n",
      "    accuracy                           1.00     28481\n",
      "   macro avg       0.99      0.91      0.94     28481\n",
      "weighted avg       1.00      1.00      1.00     28481\n",
      "\n"
     ]
    }
   ],
   "source": [
    "output = model_results(test_label,test_pred_score,threshold=0.5,ifprint=True)"
   ]
  }
 ],
 "metadata": {
  "kernelspec": {
   "display_name": "Python 3",
   "language": "python",
   "name": "python3"
  },
  "language_info": {
   "codemirror_mode": {
    "name": "ipython",
    "version": 3
   },
   "file_extension": ".py",
   "mimetype": "text/x-python",
   "name": "python",
   "nbconvert_exporter": "python",
   "pygments_lexer": "ipython3",
   "version": "3.6.9"
  }
 },
 "nbformat": 4,
 "nbformat_minor": 4
}
