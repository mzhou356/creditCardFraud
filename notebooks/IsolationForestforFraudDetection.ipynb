{
 "cells": [
  {
   "cell_type": "code",
   "execution_count": 1,
   "metadata": {},
   "outputs": [],
   "source": [
    "import sys\n",
    "import numpy as np\n",
    "import pandas as pd \n",
    "import matplotlib.pyplot as plt \n",
    "%matplotlib inline\n",
    "from sklearn.ensemble import IsolationForest\n",
    "from sklearn.model_selection import GridSearchCV,train_test_split\n",
    "sys.path.append(\"/home/mindy/Documents/projects/creditCardFraud/scripts/\")\n",
    "import warnings\n",
    "warnings.filterwarnings(\"ignore\")"
   ]
  },
  {
   "cell_type": "code",
   "execution_count": 2,
   "metadata": {},
   "outputs": [],
   "source": [
    "from util import *"
   ]
  },
  {
   "cell_type": "code",
   "execution_count": 3,
   "metadata": {},
   "outputs": [],
   "source": [
    "%load_ext autoreload\n",
    "%autoreload 2"
   ]
  },
  {
   "cell_type": "markdown",
   "metadata": {},
   "source": [
    "### Simple Isolation Forest Algorithm :\n",
    "\n",
    "* Forest: composed many trees \n",
    "\n",
    "* Isolation Tree:\n",
    "     * external node \n",
    "     * internal node \n",
    "     * randomly choose a feature and randomly choose a value in the feature between max and min and split the data\n",
    "     \n",
    "\n",
    "* Metrics: Path Length  \n",
    "\n",
    "  * abnormal cases tend to have shorter path length than normal cases "
   ]
  },
  {
   "cell_type": "markdown",
   "metadata": {},
   "source": [
    "### Basic forest constructions"
   ]
  },
  {
   "cell_type": "code",
   "execution_count": 4,
   "metadata": {},
   "outputs": [],
   "source": [
    "class ExNode:\n",
    "    def __init__(self,size):\n",
    "        self.size = size \n",
    "        \n",
    "class InNode:\n",
    "    def __init__(self,left,right,splitAt,splitVal):\n",
    "        self.left = left\n",
    "        self.right = right\n",
    "        self.splitAt = splitAt \n",
    "        self.splitVal = splitVal"
   ]
  },
  {
   "cell_type": "code",
   "execution_count": 5,
   "metadata": {},
   "outputs": [],
   "source": [
    "def Tree(data,currLength,maxDepth):\n",
    "    # either max depth or only one sample left \n",
    "    if currLength >=maxDepth or data.shape[0] <=1:  \n",
    "        return ExNode(data.shape[0])  # the num of sample per external node \n",
    "    else:\n",
    "        allFeatures = data.columns\n",
    "        chosenF = np.random.choice(allFeatures,1)[0]  # randomly choose a feature \n",
    "        chosenV = np.random.choice(data[chosenF].unique(),1)[0] # randomly choose a split value with the chosen feature \n",
    "        left = data[data[chosenF]<chosenV]\n",
    "        right = data[data[chosenF]>=chosenV]\n",
    "        return InNode(Tree(left,currLength+1,maxDepth),Tree(right,currLength+1,maxDepth),chosenF,chosenV)        "
   ]
  },
  {
   "cell_type": "code",
   "execution_count": 6,
   "metadata": {},
   "outputs": [],
   "source": [
    "def pathLength(data,Tree,currLength):\n",
    "    if isinstance(Tree,ExNode): # if it is an external node\n",
    "        return currLength \n",
    "    # if an internal node \n",
    "    feature = Tree.splitAt \n",
    "    if data[feature] < Tree.splitVal: \n",
    "        return pathLength(data,Tree.left,currLength+1)  # traverse down the left branch \n",
    "    else:\n",
    "        return pathLength(data,Tree.right,currLength+1)"
   ]
  },
  {
   "cell_type": "code",
   "execution_count": 7,
   "metadata": {},
   "outputs": [],
   "source": [
    "def Forest(data,numTrees, subsamplingSize):\n",
    "    # the maxDepth in the paper is log2(n), n is numer of samples \n",
    "    maxDepth = int(np.ceil(np.log2(subsamplingSize)))\n",
    "    forest = [Tree(data.sample(subsamplingSize),0,maxDepth) for i in range(numTrees)]\n",
    "    return forest"
   ]
  },
  {
   "cell_type": "markdown",
   "metadata": {},
   "source": [
    "### Import data "
   ]
  },
  {
   "cell_type": "code",
   "execution_count": 8,
   "metadata": {},
   "outputs": [],
   "source": [
    "train = pd.read_csv(\"../processedData/TrainingData_normal.csv\")\n",
    "dev = pd.read_csv(\"../processedData/DevData_normal.csv\")\n",
    "test = pd.read_csv(\"../processedData/hold_outset_moreFraud.csv\")"
   ]
  },
  {
   "cell_type": "markdown",
   "metadata": {},
   "source": [
    "### Generate train, test, and normal data "
   ]
  },
  {
   "cell_type": "code",
   "execution_count": 9,
   "metadata": {},
   "outputs": [],
   "source": [
    "training, norm, test_data, y_test = train_test_dfs(train,dev,test,\"Class\",0.2,1989)"
   ]
  },
  {
   "cell_type": "markdown",
   "metadata": {},
   "source": [
    "### Test one simple isolation Forest \n",
    "\n",
    "* in this case just simply wanting to see fraud cases actually have shorter pathlength "
   ]
  },
  {
   "cell_type": "code",
   "execution_count": 10,
   "metadata": {},
   "outputs": [],
   "source": [
    "forest = Forest(test_data,30,1000)"
   ]
  },
  {
   "cell_type": "code",
   "execution_count": 11,
   "metadata": {},
   "outputs": [],
   "source": [
    "norm_classes = test_data[y_test==0]\n",
    "fraud_classes = test_data[y_test==1]\n",
    "n_sample = fraud_classes.shape[0]\n",
    "sub_norm_classes = norm_classes.sample(n_sample)"
   ]
  },
  {
   "cell_type": "code",
   "execution_count": 12,
   "metadata": {},
   "outputs": [],
   "source": [
    "norm_pL=[]\n",
    "for i in range(n_sample):\n",
    "    row = sub_norm_classes.iloc[i]\n",
    "    L = []\n",
    "    for tr in forest:\n",
    "        L.append(pathLength(row,tr,0))\n",
    "    norm_pL.append(np.mean(L))"
   ]
  },
  {
   "cell_type": "code",
   "execution_count": 13,
   "metadata": {},
   "outputs": [],
   "source": [
    "fraud_pL=[]\n",
    "for i in range(n_sample):\n",
    "    row = fraud_classes.iloc[i]\n",
    "    L = []\n",
    "    for tr in forest:\n",
    "        L.append(pathLength(row,tr,0))\n",
    "    fraud_pL.append(np.mean(L))"
   ]
  },
  {
   "cell_type": "code",
   "execution_count": 14,
   "metadata": {},
   "outputs": [
    {
     "data": {
      "image/png": "[encoded data removed]",
      "text/plain": [
       "<Figure size 432x288 with 1 Axes>"
      ]
     },
     "metadata": {
      "needs_background": "light"
     },
     "output_type": "display_data"
    }
   ],
   "source": [
    "plot_relationship(norm_data=norm_pL,fraud_data=fraud_pL,feature_name=\"pathLength\")"
   ]
  },
  {
   "cell_type": "markdown",
   "metadata": {},
   "source": [
    "### Appears that fraud cases do have shorter pathLength than non fraud cases even though pathLength is not normalized by tree depth "
   ]
  },
  {
   "cell_type": "markdown",
   "metadata": {},
   "source": [
    "### Use more sophiscated Sklearn Isolation forest "
   ]
  },
  {
   "cell_type": "markdown",
   "metadata": {},
   "source": [
    "### the parameters are from trial and error "
   ]
  },
  {
   "cell_type": "code",
   "execution_count": 57,
   "metadata": {},
   "outputs": [],
   "source": [
    "contam=training.Class.value_counts(normalize=True).loc[1] \n",
    "iFor_norm = IsolationForest(n_estimators=80, max_samples=0.8, contamination=contam*1.5,max_features=1.0, \n",
    "                        bootstrap=False,random_state=42, n_jobs=20)\n",
    "iFor_all = IsolationForest(n_estimators=80, max_samples=0.8, contamination=contam*1.5,max_features=1.0, \n",
    "                        bootstrap=False,random_state=42, n_jobs=20)"
   ]
  },
  {
   "cell_type": "markdown",
   "metadata": {},
   "source": [
    "### Isolation Forest is supposed to be insensitive to outliers in the training dataset and we shall see if we get comparable outcome with normal vs data with fraud observations "
   ]
  },
  {
   "cell_type": "code",
   "execution_count": 58,
   "metadata": {},
   "outputs": [
    {
     "data": {
      "text/plain": [
       "IsolationForest(contamination=0.002607035484649652, max_samples=0.8,\n",
       "                n_estimators=80, n_jobs=20, random_state=42)"
      ]
     },
     "execution_count": 58,
     "metadata": {},
     "output_type": "execute_result"
    }
   ],
   "source": [
    "iFor_norm.fit(norm)\n",
    "iFor_all.fit(training.drop(\"Class\",axis=1))"
   ]
  },
  {
   "cell_type": "code",
   "execution_count": 59,
   "metadata": {},
   "outputs": [],
   "source": [
    "pred_score_norm = iFor_norm.decision_function(test_data)\n",
    "pred_score_all = iFor_all.decision_function(test_data)"
   ]
  },
  {
   "cell_type": "code",
   "execution_count": 60,
   "metadata": {},
   "outputs": [
    {
     "data": {
      "text/html": [
       "<div>\n",
       "<style scoped>\n",
       "    .dataframe tbody tr th:only-of-type {\n",
       "        vertical-align: middle;\n",
       "    }\n",
       "\n",
       "    .dataframe tbody tr th {\n",
       "        vertical-align: top;\n",
       "    }\n",
       "\n",
       "    .dataframe thead th {\n",
       "        text-align: right;\n",
       "    }\n",
       "</style>\n",
       "<table border=\"1\" class=\"dataframe\">\n",
       "  <thead>\n",
       "    <tr style=\"text-align: right;\">\n",
       "      <th></th>\n",
       "      <th>0</th>\n",
       "    </tr>\n",
       "  </thead>\n",
       "  <tbody>\n",
       "    <tr>\n",
       "      <th>count</th>\n",
       "      <td>56962.000000</td>\n",
       "    </tr>\n",
       "    <tr>\n",
       "      <th>mean</th>\n",
       "      <td>0.160984</td>\n",
       "    </tr>\n",
       "    <tr>\n",
       "      <th>std</th>\n",
       "      <td>0.020926</td>\n",
       "    </tr>\n",
       "    <tr>\n",
       "      <th>min</th>\n",
       "      <td>-0.295073</td>\n",
       "    </tr>\n",
       "    <tr>\n",
       "      <th>25%</th>\n",
       "      <td>0.157049</td>\n",
       "    </tr>\n",
       "    <tr>\n",
       "      <th>50%</th>\n",
       "      <td>0.165796</td>\n",
       "    </tr>\n",
       "    <tr>\n",
       "      <th>75%</th>\n",
       "      <td>0.171551</td>\n",
       "    </tr>\n",
       "    <tr>\n",
       "      <th>max</th>\n",
       "      <td>0.183105</td>\n",
       "    </tr>\n",
       "  </tbody>\n",
       "</table>\n",
       "</div>"
      ],
      "text/plain": [
       "                  0\n",
       "count  56962.000000\n",
       "mean       0.160984\n",
       "std        0.020926\n",
       "min       -0.295073\n",
       "25%        0.157049\n",
       "50%        0.165796\n",
       "75%        0.171551\n",
       "max        0.183105"
      ]
     },
     "execution_count": 60,
     "metadata": {},
     "output_type": "execute_result"
    }
   ],
   "source": [
    "pd.DataFrame(pred_score_all).describe()"
   ]
  },
  {
   "cell_type": "code",
   "execution_count": 61,
   "metadata": {},
   "outputs": [
    {
     "data": {
      "text/html": [
       "<div>\n",
       "<style scoped>\n",
       "    .dataframe tbody tr th:only-of-type {\n",
       "        vertical-align: middle;\n",
       "    }\n",
       "\n",
       "    .dataframe tbody tr th {\n",
       "        vertical-align: top;\n",
       "    }\n",
       "\n",
       "    .dataframe thead th {\n",
       "        text-align: right;\n",
       "    }\n",
       "</style>\n",
       "<table border=\"1\" class=\"dataframe\">\n",
       "  <thead>\n",
       "    <tr style=\"text-align: right;\">\n",
       "      <th></th>\n",
       "      <th>0</th>\n",
       "    </tr>\n",
       "  </thead>\n",
       "  <tbody>\n",
       "    <tr>\n",
       "      <th>count</th>\n",
       "      <td>56962.000000</td>\n",
       "    </tr>\n",
       "    <tr>\n",
       "      <th>mean</th>\n",
       "      <td>0.150670</td>\n",
       "    </tr>\n",
       "    <tr>\n",
       "      <th>std</th>\n",
       "      <td>0.023083</td>\n",
       "    </tr>\n",
       "    <tr>\n",
       "      <th>min</th>\n",
       "      <td>-0.318697</td>\n",
       "    </tr>\n",
       "    <tr>\n",
       "      <th>25%</th>\n",
       "      <td>0.145813</td>\n",
       "    </tr>\n",
       "    <tr>\n",
       "      <th>50%</th>\n",
       "      <td>0.155953</td>\n",
       "    </tr>\n",
       "    <tr>\n",
       "      <th>75%</th>\n",
       "      <td>0.162389</td>\n",
       "    </tr>\n",
       "    <tr>\n",
       "      <th>max</th>\n",
       "      <td>0.173886</td>\n",
       "    </tr>\n",
       "  </tbody>\n",
       "</table>\n",
       "</div>"
      ],
      "text/plain": [
       "                  0\n",
       "count  56962.000000\n",
       "mean       0.150670\n",
       "std        0.023083\n",
       "min       -0.318697\n",
       "25%        0.145813\n",
       "50%        0.155953\n",
       "75%        0.162389\n",
       "max        0.173886"
      ]
     },
     "execution_count": 61,
     "metadata": {},
     "output_type": "execute_result"
    }
   ],
   "source": [
    "pd.DataFrame(pred_score_norm).describe()"
   ]
  },
  {
   "cell_type": "code",
   "execution_count": 62,
   "metadata": {
    "scrolled": true
   },
   "outputs": [
    {
     "name": "stdout",
     "output_type": "stream",
     "text": [
      "[[56722   144]\n",
      " [   36    60]]\n",
      "              precision    recall  f1-score   support\n",
      "\n",
      "           0       1.00      1.00      1.00     56866\n",
      "           1       0.29      0.62      0.40        96\n",
      "\n",
      "    accuracy                           1.00     56962\n",
      "   macro avg       0.65      0.81      0.70     56962\n",
      "weighted avg       1.00      1.00      1.00     56962\n",
      "\n"
     ]
    }
   ],
   "source": [
    "model_results(y_test,-pred_score_norm,0.0)  # negative score in sklearn version means abnormal "
   ]
  },
  {
   "cell_type": "code",
   "execution_count": 63,
   "metadata": {
    "scrolled": true
   },
   "outputs": [
    {
     "name": "stdout",
     "output_type": "stream",
     "text": [
      "[[56776    90]\n",
      " [   53    43]]\n",
      "              precision    recall  f1-score   support\n",
      "\n",
      "           0       1.00      1.00      1.00     56866\n",
      "           1       0.32      0.45      0.38        96\n",
      "\n",
      "    accuracy                           1.00     56962\n",
      "   macro avg       0.66      0.72      0.69     56962\n",
      "weighted avg       1.00      1.00      1.00     56962\n",
      "\n"
     ]
    }
   ],
   "source": [
    "model_results(y_test,-pred_score_all,0.0) "
   ]
  },
  {
   "cell_type": "markdown",
   "metadata": {},
   "source": [
    "### Didn't appear to have a huge difference if train on all normal or contaminated samples. \n",
    "\n",
    "* but proves that Isolation forest is not as sensitive to outlier the same way as OneClassSVM but normal class only is still better "
   ]
  },
  {
   "cell_type": "markdown",
   "metadata": {},
   "source": [
    "### Try gridSearchCV and create pseudo label to see if the outcome of grid search matches with orthognol tuning\n",
    "  ### metrics are not the best for tuning since the class is very imbalanced "
   ]
  },
  {
   "cell_type": "code",
   "execution_count": 64,
   "metadata": {},
   "outputs": [],
   "source": [
    "parameters = {\n",
    "              \"n_estimators\":[80,120],\n",
    "              \"max_samples\":[0.5,0.8],\n",
    "              \"contamination\":[contam*1.5, contam*2.0]\n",
    "}\n",
    "\n",
    "CV = GridSearchCV(IsolationForest(max_features=1.0,\n",
    "                  bootstrap=False, random_state=42),\n",
    "                  parameters,\n",
    "                  scoring=\"f1_micro\",\n",
    "                  n_jobs=20,\n",
    "                  verbose=1,\n",
    "                  cv=2\n",
    "                 )"
   ]
  },
  {
   "cell_type": "markdown",
   "metadata": {},
   "source": [
    "### make sure y_true matches -1 for abnormal and 1 for normal "
   ]
  },
  {
   "cell_type": "code",
   "execution_count": 65,
   "metadata": {},
   "outputs": [],
   "source": [
    "y_true = np.ones(norm.shape[0])"
   ]
  },
  {
   "cell_type": "code",
   "execution_count": 66,
   "metadata": {
    "scrolled": false
   },
   "outputs": [
    {
     "name": "stdout",
     "output_type": "stream",
     "text": [
      "Fitting 2 folds for each of 8 candidates, totalling 16 fits\n"
     ]
    },
    {
     "name": "stderr",
     "output_type": "stream",
     "text": [
      "[Parallel(n_jobs=20)]: Using backend LokyBackend with 20 concurrent workers.\n",
      "[Parallel(n_jobs=20)]: Done  11 out of  16 | elapsed:   50.0s remaining:   22.7s\n",
      "[Parallel(n_jobs=20)]: Done  16 out of  16 | elapsed:   51.6s finished\n"
     ]
    }
   ],
   "source": [
    "cvResults = CV.fit(norm,y_true)"
   ]
  },
  {
   "cell_type": "code",
   "execution_count": 67,
   "metadata": {
    "scrolled": true
   },
   "outputs": [
    {
     "data": {
      "text/plain": [
       "({'contamination': 0.002607035484649652,\n",
       "  'max_samples': 0.8,\n",
       "  'n_estimators': 80},\n",
       " 0.9973444586318939)"
      ]
     },
     "execution_count": 67,
     "metadata": {},
     "output_type": "execute_result"
    }
   ],
   "source": [
    "cvResults.best_params_, cvResults.best_score_"
   ]
  },
  {
   "cell_type": "code",
   "execution_count": 68,
   "metadata": {},
   "outputs": [],
   "source": [
    "best_model = cvResults.best_estimator_"
   ]
  },
  {
   "cell_type": "code",
   "execution_count": 69,
   "metadata": {},
   "outputs": [],
   "source": [
    "best_pred_score = best_model.decision_function(test_data)"
   ]
  },
  {
   "cell_type": "code",
   "execution_count": 70,
   "metadata": {
    "scrolled": false
   },
   "outputs": [
    {
     "name": "stdout",
     "output_type": "stream",
     "text": [
      "[[56722   144]\n",
      " [   36    60]]\n",
      "              precision    recall  f1-score   support\n",
      "\n",
      "           0       1.00      1.00      1.00     56866\n",
      "           1       0.29      0.62      0.40        96\n",
      "\n",
      "    accuracy                           1.00     56962\n",
      "   macro avg       0.65      0.81      0.70     56962\n",
      "weighted avg       1.00      1.00      1.00     56962\n",
      "\n"
     ]
    }
   ],
   "source": [
    "model_results(y_test,-best_pred_score,0.0)"
   ]
  },
  {
   "cell_type": "markdown",
   "metadata": {},
   "source": [
    "### It appears that gridSearch reaches same conclusion as orthogonal tuning "
   ]
  }
 ],
 "metadata": {
  "kernelspec": {
   "display_name": "Python 3",
   "language": "python",
   "name": "python3"
  },
  "language_info": {
   "codemirror_mode": {
    "name": "ipython",
    "version": 3
   },
   "file_extension": ".py",
   "mimetype": "text/x-python",
   "name": "python",
   "nbconvert_exporter": "python",
   "pygments_lexer": "ipython3",
   "version": "3.6.9"
  }
 },
 "nbformat": 4,
 "nbformat_minor": 4
}
