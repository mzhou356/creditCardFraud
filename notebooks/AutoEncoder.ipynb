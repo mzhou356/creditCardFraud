{
 "cells": [
  {
   "cell_type": "code",
   "execution_count": 82,
   "metadata": {},
   "outputs": [],
   "source": [
    "import sys\n",
    "import numpy as np\n",
    "import pandas as pd \n",
    "import tensorflow_probability as tfp\n",
    "import tensorflow.compat.v2 as tf\n",
    "import matplotlib.pyplot as plt \n",
    "%matplotlib inline\n",
    "from sklearn.metrics import confusion_matrix, classification_report\n",
    "sys.path.append(\"/home/mindy/Documents/projects/creditCardFraud/scripts/\")"
   ]
  },
  {
   "cell_type": "code",
   "execution_count": 2,
   "metadata": {},
   "outputs": [],
   "source": [
    "tfk = tf.keras\n",
    "tfkl=tf.keras.layers\n",
    "tfpl= tfp.layers         # layers for tensor flow probability \n",
    "tfd = tfp.distributions # distribution layer "
   ]
  },
  {
   "cell_type": "code",
   "execution_count": 3,
   "metadata": {},
   "outputs": [],
   "source": [
    "from util import *\n",
    "%load_ext autoreload\n",
    "%autoreload 2"
   ]
  },
  {
   "cell_type": "code",
   "execution_count": 4,
   "metadata": {},
   "outputs": [
    {
     "data": {
      "text/plain": [
       "'/device:GPU:0'"
      ]
     },
     "execution_count": 4,
     "metadata": {},
     "output_type": "execute_result"
    }
   ],
   "source": [
    "# make sure GPU is running \n",
    "tf.test.gpu_device_name()"
   ]
  },
  {
   "cell_type": "markdown",
   "metadata": {},
   "source": [
    "## Import training and dev data and convert to numpy array for NN "
   ]
  },
  {
   "cell_type": "code",
   "execution_count": 5,
   "metadata": {},
   "outputs": [],
   "source": [
    "train = pd.read_csv(\"../processedData/TrainingData_normal.csv\").values\n",
    "dev = pd.read_csv(\"../processedData/DevData_normal.csv\").values"
   ]
  },
  {
   "cell_type": "markdown",
   "metadata": {},
   "source": [
    "### converting into tf data set to allow simple efficient data pipelines. \n",
    "* In autoencoder, you are predicting the original input x \n",
    "* shuffle and train data in batches with 1000 epochs "
   ]
  },
  {
   "cell_type": "code",
   "execution_count": 6,
   "metadata": {},
   "outputs": [],
   "source": [
    "buffer_size = 10000\n",
    "batch_size = 128\n",
    "epochs = 1000\n",
    "input_size = train.shape[1]"
   ]
  },
  {
   "cell_type": "code",
   "execution_count": 7,
   "metadata": {},
   "outputs": [],
   "source": [
    "train = tf.data.Dataset.from_tensor_slices((train,train)).batch(batch_size).prefetch(tf.data.experimental.AUTOTUNE).shuffle(buffer_size)\n",
    "dev = tf.data.Dataset.from_tensor_slices((dev,dev)).batch(batch_size).prefetch(tf.data.experimental.AUTOTUNE).shuffle(buffer_size)"
   ]
  },
  {
   "cell_type": "markdown",
   "metadata": {},
   "source": [
    "### set up checkpoint and other settings "
   ]
  },
  {
   "cell_type": "code",
   "execution_count": 8,
   "metadata": {},
   "outputs": [],
   "source": [
    "checkpoint = tfk.callbacks.ModelCheckpoint(\"../savedModels/encoderModel.h5\",verbose=1,save_best_only=True)\n",
    "earlystop = tfk.callbacks.EarlyStopping(monitor=\"val_loss\", mode=\"min\", min_delta=0.001, patience=20, verbose=1, restore_best_weights=True)"
   ]
  },
  {
   "cell_type": "markdown",
   "metadata": {},
   "source": [
    "## encoder model for autoencoder:\n",
    "* encoder: 3 layers:\n",
    "  * 3 dense layers "
   ]
  },
  {
   "cell_type": "code",
   "execution_count": 9,
   "metadata": {},
   "outputs": [
    {
     "name": "stdout",
     "output_type": "stream",
     "text": [
      "Model: \"encoder\"\n",
      "_________________________________________________________________\n",
      "Layer (type)                 Output Shape              Param #   \n",
      "=================================================================\n",
      "dense (Dense)                (None, 20)                620       \n",
      "_________________________________________________________________\n",
      "dense_1 (Dense)              (None, 10)                210       \n",
      "_________________________________________________________________\n",
      "dense_2 (Dense)              (None, 7)                 77        \n",
      "=================================================================\n",
      "Total params: 907\n",
      "Trainable params: 907\n",
      "Non-trainable params: 0\n",
      "_________________________________________________________________\n"
     ]
    }
   ],
   "source": [
    "encoder = tfk.Sequential([\n",
    "    tfkl.InputLayer(input_shape = 30),  # 30 input features \n",
    "    tfkl.Dense(units=20, activation=tf.nn.leaky_relu, activity_regularizer=tfk.regularizers.l1(10e-5)),\n",
    "    tfkl.Dense(units=10, activation=tf.nn.leaky_relu, activity_regularizer=tfk.regularizers.l1(10e-5)),\n",
    "    tfkl.Dense(units=7, activation =tf.nn.leaky_relu, activity_regularizer=tfk.regularizers.l1(10e-5))\n",
    "    ], name=\"encoder\")\n",
    "encoder.summary()    "
   ]
  },
  {
   "cell_type": "markdown",
   "metadata": {},
   "source": [
    "## decoder model for autoencoder:\n",
    "* decoder: 3 layers:\n",
    "   * 3 dense layers"
   ]
  },
  {
   "cell_type": "code",
   "execution_count": 10,
   "metadata": {},
   "outputs": [
    {
     "name": "stdout",
     "output_type": "stream",
     "text": [
      "Model: \"decoder\"\n",
      "_________________________________________________________________\n",
      "Layer (type)                 Output Shape              Param #   \n",
      "=================================================================\n",
      "dense_3 (Dense)              (None, 10)                80        \n",
      "_________________________________________________________________\n",
      "dense_4 (Dense)              (None, 20)                220       \n",
      "_________________________________________________________________\n",
      "dense_5 (Dense)              (None, 30)                630       \n",
      "=================================================================\n",
      "Total params: 930\n",
      "Trainable params: 930\n",
      "Non-trainable params: 0\n",
      "_________________________________________________________________\n"
     ]
    }
   ],
   "source": [
    "decoder = tfk.Sequential([\n",
    "    tfkl.InputLayer(input_shape=7),\n",
    "    tfkl.Dense(units=10, activation=tf.nn.leaky_relu, activity_regularizer=tfk.regularizers.l1(10e-5)),\n",
    "    tfkl.Dense(units=20, activation=tf.nn.leaky_relu, activity_regularizer=tfk.regularizers.l1(10e-5)),\n",
    "    tfkl.Dense(units=30, activation=None)\n",
    "    ], name = \"decoder\")\n",
    "decoder.summary()"
   ]
  },
  {
   "cell_type": "markdown",
   "metadata": {},
   "source": [
    "### Add encoders together \n"
   ]
  },
  {
   "cell_type": "code",
   "execution_count": 11,
   "metadata": {},
   "outputs": [],
   "source": [
    "autoencoder = tfk.Model(inputs=encoder.inputs, outputs=decoder(encoder.outputs),name=\"encoder\")"
   ]
  },
  {
   "cell_type": "code",
   "execution_count": 12,
   "metadata": {},
   "outputs": [
    {
     "name": "stdout",
     "output_type": "stream",
     "text": [
      "Model: \"encoder\"\n",
      "_________________________________________________________________\n",
      "Layer (type)                 Output Shape              Param #   \n",
      "=================================================================\n",
      "input_1 (InputLayer)         [(None, 30)]              0         \n",
      "_________________________________________________________________\n",
      "dense (Dense)                (None, 20)                620       \n",
      "_________________________________________________________________\n",
      "dense_1 (Dense)              (None, 10)                210       \n",
      "_________________________________________________________________\n",
      "dense_2 (Dense)              (None, 7)                 77        \n",
      "_________________________________________________________________\n",
      "decoder (Sequential)         (None, 30)                930       \n",
      "=================================================================\n",
      "Total params: 1,837\n",
      "Trainable params: 1,837\n",
      "Non-trainable params: 0\n",
      "_________________________________________________________________\n"
     ]
    }
   ],
   "source": [
    "autoencoder.summary()"
   ]
  },
  {
   "cell_type": "markdown",
   "metadata": {},
   "source": [
    "### compile the model and train model"
   ]
  },
  {
   "cell_type": "code",
   "execution_count": 13,
   "metadata": {},
   "outputs": [],
   "source": [
    "autoencoder.compile(optimizer=tf.optimizers.Adam(learning_rate=1e-3), loss=\"mse\")"
   ]
  },
  {
   "cell_type": "code",
   "execution_count": 15,
   "metadata": {
    "scrolled": false
   },
   "outputs": [
    {
     "name": "stdout",
     "output_type": "stream",
     "text": [
      "Epoch 1/1000\n",
      "1418/1422 [============================>.] - ETA: 0s - loss: 0.2830\n",
      "Epoch 00001: val_loss did not improve from 0.27826\n",
      "1422/1422 [==============================] - 3s 2ms/step - loss: 0.2830 - val_loss: 0.2826\n",
      "Epoch 2/1000\n",
      "1405/1422 [============================>.] - ETA: 0s - loss: 0.2823\n",
      "Epoch 00002: val_loss did not improve from 0.27826\n",
      "1422/1422 [==============================] - 3s 2ms/step - loss: 0.2824 - val_loss: 0.2801\n",
      "Epoch 3/1000\n",
      "1422/1422 [==============================] - ETA: 0s - loss: 0.2819\n",
      "Epoch 00003: val_loss did not improve from 0.27826\n",
      "1422/1422 [==============================] - 3s 2ms/step - loss: 0.2819 - val_loss: 0.2816\n",
      "Epoch 4/1000\n",
      "1411/1422 [============================>.] - ETA: 0s - loss: 0.2833\n",
      "Epoch 00004: val_loss did not improve from 0.27826\n",
      "1422/1422 [==============================] - 3s 2ms/step - loss: 0.2832 - val_loss: 0.2799\n",
      "Epoch 5/1000\n",
      "1419/1422 [============================>.] - ETA: 0s - loss: 0.2819\n",
      "Epoch 00005: val_loss did not improve from 0.27826\n",
      "1422/1422 [==============================] - 3s 2ms/step - loss: 0.2819 - val_loss: 0.2799\n",
      "Epoch 6/1000\n",
      "1404/1422 [============================>.] - ETA: 0s - loss: 0.2818\n",
      "Epoch 00006: val_loss did not improve from 0.27826\n",
      "1422/1422 [==============================] - 3s 2ms/step - loss: 0.2819 - val_loss: 0.2809\n",
      "Epoch 7/1000\n",
      "1420/1422 [============================>.] - ETA: 0s - loss: 0.2846\n",
      "Epoch 00007: val_loss did not improve from 0.27826\n",
      "1422/1422 [==============================] - 3s 2ms/step - loss: 0.2846 - val_loss: 0.2804\n",
      "Epoch 8/1000\n",
      "1418/1422 [============================>.] - ETA: 0s - loss: 0.2823\n",
      "Epoch 00008: val_loss did not improve from 0.27826\n",
      "1422/1422 [==============================] - 3s 2ms/step - loss: 0.2824 - val_loss: 0.2885\n",
      "Epoch 9/1000\n",
      "1404/1422 [============================>.] - ETA: 0s - loss: 0.2822\n",
      "Epoch 00009: val_loss did not improve from 0.27826\n",
      "1422/1422 [==============================] - 3s 2ms/step - loss: 0.2821 - val_loss: 0.2789\n",
      "Epoch 10/1000\n",
      "1417/1422 [============================>.] - ETA: 0s - loss: 0.2819\n",
      "Epoch 00010: val_loss did not improve from 0.27826\n",
      "1422/1422 [==============================] - 3s 2ms/step - loss: 0.2818 - val_loss: 0.2788\n",
      "Epoch 11/1000\n",
      "1422/1422 [==============================] - ETA: 0s - loss: 0.2821\n",
      "Epoch 00011: val_loss did not improve from 0.27826\n",
      "1422/1422 [==============================] - 3s 2ms/step - loss: 0.2821 - val_loss: 0.2793\n",
      "Epoch 12/1000\n",
      "1414/1422 [============================>.] - ETA: 0s - loss: 0.2820\n",
      "Epoch 00012: val_loss did not improve from 0.27826\n",
      "1422/1422 [==============================] - 3s 2ms/step - loss: 0.2820 - val_loss: 0.2808\n",
      "Epoch 13/1000\n",
      "1408/1422 [============================>.] - ETA: 0s - loss: 0.2815\n",
      "Epoch 00013: val_loss did not improve from 0.27826\n",
      "1422/1422 [==============================] - 3s 2ms/step - loss: 0.2815 - val_loss: 0.2793\n",
      "Epoch 14/1000\n",
      "1418/1422 [============================>.] - ETA: 0s - loss: 0.2825\n",
      "Epoch 00014: val_loss did not improve from 0.27826\n",
      "1422/1422 [==============================] - 3s 2ms/step - loss: 0.2824 - val_loss: 0.2796\n",
      "Epoch 15/1000\n",
      "1397/1422 [============================>.] - ETA: 0s - loss: 0.2815\n",
      "Epoch 00015: val_loss did not improve from 0.27826\n",
      "1422/1422 [==============================] - 3s 2ms/step - loss: 0.2813 - val_loss: 0.2796\n",
      "Epoch 16/1000\n",
      "1421/1422 [============================>.] - ETA: 0s - loss: 0.2831\n",
      "Epoch 00016: val_loss did not improve from 0.27826\n",
      "1422/1422 [==============================] - 3s 2ms/step - loss: 0.2831 - val_loss: 0.2790\n",
      "Epoch 17/1000\n",
      "1412/1422 [============================>.] - ETA: 0s - loss: 0.2809\n",
      "Epoch 00017: val_loss did not improve from 0.27826\n",
      "1422/1422 [==============================] - 3s 2ms/step - loss: 0.2808 - val_loss: 0.2795\n",
      "Epoch 18/1000\n",
      "1411/1422 [============================>.] - ETA: 0s - loss: 0.2814\n",
      "Epoch 00018: val_loss did not improve from 0.27826\n",
      "1422/1422 [==============================] - 3s 2ms/step - loss: 0.2813 - val_loss: 0.2802\n",
      "Epoch 19/1000\n",
      "1421/1422 [============================>.] - ETA: 0s - loss: 0.2827\n",
      "Epoch 00019: val_loss did not improve from 0.27826\n",
      "1422/1422 [==============================] - 3s 2ms/step - loss: 0.2826 - val_loss: 0.2785\n",
      "Epoch 20/1000\n",
      "1415/1422 [============================>.] - ETA: 0s - loss: 0.2809\n",
      "Epoch 00020: val_loss did not improve from 0.27826\n",
      "1422/1422 [==============================] - 3s 2ms/step - loss: 0.2809 - val_loss: 0.2799\n",
      "Epoch 21/1000\n",
      "1413/1422 [============================>.] - ETA: 0s - loss: 0.2810\n",
      "Epoch 00021: val_loss improved from 0.27826 to 0.27814, saving model to ../savedModels/encoderModel.h5\n",
      "1422/1422 [==============================] - 3s 2ms/step - loss: 0.2809 - val_loss: 0.2781\n",
      "Epoch 22/1000\n",
      "1398/1422 [============================>.] - ETA: 0s - loss: 0.2810\n",
      "Epoch 00022: val_loss did not improve from 0.27814\n",
      "1422/1422 [==============================] - 3s 2ms/step - loss: 0.2815 - val_loss: 0.2862\n",
      "Epoch 23/1000\n",
      "1403/1422 [============================>.] - ETA: 0s - loss: 0.2828\n",
      "Epoch 00023: val_loss improved from 0.27814 to 0.27706, saving model to ../savedModels/encoderModel.h5\n",
      "1422/1422 [==============================] - 3s 2ms/step - loss: 0.2825 - val_loss: 0.2771\n",
      "Epoch 24/1000\n",
      "1398/1422 [============================>.] - ETA: 0s - loss: 0.2812\n",
      "Epoch 00024: val_loss did not improve from 0.27706\n",
      "1422/1422 [==============================] - 3s 2ms/step - loss: 0.2810 - val_loss: 0.2774\n",
      "Epoch 25/1000\n",
      "1406/1422 [============================>.] - ETA: 0s - loss: 0.2808\n",
      "Epoch 00025: val_loss did not improve from 0.27706\n",
      "1422/1422 [==============================] - 3s 2ms/step - loss: 0.2810 - val_loss: 0.2871\n",
      "Epoch 26/1000\n",
      "1407/1422 [============================>.] - ETA: 0s - loss: 0.2807\n",
      "Epoch 00026: val_loss did not improve from 0.27706\n",
      "1422/1422 [==============================] - 3s 2ms/step - loss: 0.2807 - val_loss: 0.2812\n",
      "Epoch 27/1000\n",
      "1410/1422 [============================>.] - ETA: 0s - loss: 0.2818\n",
      "Epoch 00027: val_loss did not improve from 0.27706\n",
      "1422/1422 [==============================] - 3s 2ms/step - loss: 0.2818 - val_loss: 0.2783\n",
      "Epoch 28/1000\n",
      "1413/1422 [============================>.] - ETA: 0s - loss: 0.2811\n",
      "Epoch 00028: val_loss did not improve from 0.27706\n",
      "1422/1422 [==============================] - 3s 2ms/step - loss: 0.2810 - val_loss: 0.2778\n",
      "Epoch 29/1000\n",
      "1404/1422 [============================>.] - ETA: 0s - loss: 0.2816\n",
      "Epoch 00029: val_loss did not improve from 0.27706\n",
      "1422/1422 [==============================] - 3s 2ms/step - loss: 0.2817 - val_loss: 0.2847\n",
      "Epoch 30/1000\n",
      "1404/1422 [============================>.] - ETA: 0s - loss: 0.2827\n",
      "Epoch 00030: val_loss did not improve from 0.27706\n",
      "1422/1422 [==============================] - 3s 2ms/step - loss: 0.2827 - val_loss: 0.2807\n",
      "Epoch 31/1000\n",
      "1407/1422 [============================>.] - ETA: 0s - loss: 0.2804\n",
      "Epoch 00031: val_loss did not improve from 0.27706\n",
      "1422/1422 [==============================] - 3s 2ms/step - loss: 0.2805 - val_loss: 0.2787\n",
      "Epoch 32/1000\n",
      "1404/1422 [============================>.] - ETA: 0s - loss: 0.2813\n",
      "Epoch 00032: val_loss did not improve from 0.27706\n",
      "1422/1422 [==============================] - 3s 2ms/step - loss: 0.2812 - val_loss: 0.2799\n",
      "Epoch 33/1000\n",
      "1400/1422 [============================>.] - ETA: 0s - loss: 0.2817\n",
      "Epoch 00033: val_loss did not improve from 0.27706\n",
      "1422/1422 [==============================] - 3s 2ms/step - loss: 0.2816 - val_loss: 0.2824\n",
      "Epoch 34/1000\n",
      "1418/1422 [============================>.] - ETA: 0s - loss: 0.2811\n",
      "Epoch 00034: val_loss did not improve from 0.27706\n",
      "1422/1422 [==============================] - 3s 2ms/step - loss: 0.2810 - val_loss: 0.2872\n",
      "Epoch 35/1000\n",
      "1421/1422 [============================>.] - ETA: 0s - loss: 0.2805\n",
      "Epoch 00035: val_loss did not improve from 0.27706\n",
      "1422/1422 [==============================] - 3s 2ms/step - loss: 0.2805 - val_loss: 0.2806\n",
      "Epoch 36/1000\n",
      "1409/1422 [============================>.] - ETA: 0s - loss: 0.2798\n",
      "Epoch 00036: val_loss did not improve from 0.27706\n",
      "1422/1422 [==============================] - 3s 2ms/step - loss: 0.2798 - val_loss: 0.2789\n",
      "Epoch 37/1000\n"
     ]
    },
    {
     "name": "stdout",
     "output_type": "stream",
     "text": [
      "1412/1422 [============================>.] - ETA: 0s - loss: 0.2810\n",
      "Epoch 00037: val_loss did not improve from 0.27706\n",
      "1422/1422 [==============================] - 3s 2ms/step - loss: 0.2809 - val_loss: 0.2779\n",
      "Epoch 38/1000\n",
      "1404/1422 [============================>.] - ETA: 0s - loss: 0.2801\n",
      "Epoch 00038: val_loss did not improve from 0.27706\n",
      "1422/1422 [==============================] - 3s 2ms/step - loss: 0.2800 - val_loss: 0.2797\n",
      "Epoch 39/1000\n",
      "1407/1422 [============================>.] - ETA: 0s - loss: 0.2803\n",
      "Epoch 00039: val_loss did not improve from 0.27706\n",
      "1422/1422 [==============================] - 3s 2ms/step - loss: 0.2805 - val_loss: 0.2792\n",
      "Epoch 40/1000\n",
      "1401/1422 [============================>.] - ETA: 0s - loss: 0.2805\n",
      "Epoch 00040: val_loss did not improve from 0.27706\n",
      "1422/1422 [==============================] - 3s 2ms/step - loss: 0.2804 - val_loss: 0.2777\n",
      "Epoch 41/1000\n",
      "1403/1422 [============================>.] - ETA: 0s - loss: 0.2805\n",
      "Epoch 00041: val_loss did not improve from 0.27706\n",
      "1422/1422 [==============================] - 3s 2ms/step - loss: 0.2804 - val_loss: 0.2796\n",
      "Epoch 42/1000\n",
      "1419/1422 [============================>.] - ETA: 0s - loss: 0.2801\n",
      "Epoch 00042: val_loss did not improve from 0.27706\n",
      "1422/1422 [==============================] - 3s 2ms/step - loss: 0.2801 - val_loss: 0.2834\n",
      "Epoch 43/1000\n",
      "1417/1422 [============================>.] - ETA: 0s - loss: 0.2805\n",
      "Epoch 00043: val_loss did not improve from 0.27706\n",
      "Restoring model weights from the end of the best epoch.\n",
      "1422/1422 [==============================] - 3s 2ms/step - loss: 0.2806 - val_loss: 0.2805\n",
      "Epoch 00043: early stopping\n"
     ]
    }
   ],
   "source": [
    "history = autoencoder.fit(train,epochs=epochs,shuffle=True,\n",
    "                          verbose=1,validation_data=dev,\n",
    "                          callbacks=[checkpoint,earlystop])"
   ]
  },
  {
   "cell_type": "code",
   "execution_count": 20,
   "metadata": {
    "scrolled": true
   },
   "outputs": [
    {
     "data": {
      "image/png": "[encoded data removed]",
      "text/plain": [
       "<Figure size 432x288 with 1 Axes>"
      ]
     },
     "metadata": {
      "needs_background": "light"
     },
     "output_type": "display_data"
    }
   ],
   "source": [
    "plot_loss(history.history)"
   ]
  },
  {
   "cell_type": "code",
   "execution_count": 86,
   "metadata": {},
   "outputs": [],
   "source": [
    "autoencoder.load_weights(\"../savedModels/encoderModel.h5\")"
   ]
  },
  {
   "cell_type": "markdown",
   "metadata": {},
   "source": [
    "### Load in test dataset to see the results "
   ]
  },
  {
   "cell_type": "code",
   "execution_count": 87,
   "metadata": {},
   "outputs": [],
   "source": [
    "test = pd.read_csv(\"../processedData/hold_outset_moreFraud.csv\")"
   ]
  },
  {
   "cell_type": "code",
   "execution_count": 88,
   "metadata": {},
   "outputs": [],
   "source": [
    "test_tf_data, label = test.drop(\"Class\",axis=1).values, test[\"Class\"]"
   ]
  },
  {
   "cell_type": "code",
   "execution_count": 89,
   "metadata": {},
   "outputs": [
    {
     "name": "stdout",
     "output_type": "stream",
     "text": [
      "1793/1793 [==============================] - 2s 1ms/step - loss: 0.4331\n"
     ]
    },
    {
     "data": {
      "text/plain": [
       "0.43313878774642944"
      ]
     },
     "execution_count": 89,
     "metadata": {},
     "output_type": "execute_result"
    }
   ],
   "source": [
    "autoencoder.evaluate(test_tf_data,test_tf_data)"
   ]
  },
  {
   "cell_type": "code",
   "execution_count": 90,
   "metadata": {},
   "outputs": [],
   "source": [
    "pred_results = autoencoder.predict(test_tf_data)"
   ]
  },
  {
   "cell_type": "code",
   "execution_count": 91,
   "metadata": {},
   "outputs": [],
   "source": [
    "results = pd.DataFrame({\"Class\":label,\"MSE\":np.mean(np.square(test_tf_data-pred_results),axis=1)})"
   ]
  },
  {
   "cell_type": "code",
   "execution_count": 92,
   "metadata": {},
   "outputs": [
    {
     "data": {
      "image/png": "[encoded data removed]",
      "text/plain": [
       "<Figure size 432x288 with 1 Axes>"
      ]
     },
     "metadata": {
      "needs_background": "light"
     },
     "output_type": "display_data"
    }
   ],
   "source": [
    "plot_relationship(results, \"Class\",\"MSE\")"
   ]
  },
  {
   "cell_type": "code",
   "execution_count": 93,
   "metadata": {},
   "outputs": [
    {
     "data": {
      "text/html": [
       "<div>\n",
       "<style scoped>\n",
       "    .dataframe tbody tr th:only-of-type {\n",
       "        vertical-align: middle;\n",
       "    }\n",
       "\n",
       "    .dataframe tbody tr th {\n",
       "        vertical-align: top;\n",
       "    }\n",
       "\n",
       "    .dataframe thead th {\n",
       "        text-align: right;\n",
       "    }\n",
       "</style>\n",
       "<table border=\"1\" class=\"dataframe\">\n",
       "  <thead>\n",
       "    <tr style=\"text-align: right;\">\n",
       "      <th></th>\n",
       "      <th>MSE</th>\n",
       "    </tr>\n",
       "  </thead>\n",
       "  <tbody>\n",
       "    <tr>\n",
       "      <th>count</th>\n",
       "      <td>56858.000000</td>\n",
       "    </tr>\n",
       "    <tr>\n",
       "      <th>mean</th>\n",
       "      <td>0.275824</td>\n",
       "    </tr>\n",
       "    <tr>\n",
       "      <th>std</th>\n",
       "      <td>0.723319</td>\n",
       "    </tr>\n",
       "    <tr>\n",
       "      <th>min</th>\n",
       "      <td>0.013358</td>\n",
       "    </tr>\n",
       "    <tr>\n",
       "      <th>25%</th>\n",
       "      <td>0.131766</td>\n",
       "    </tr>\n",
       "    <tr>\n",
       "      <th>50%</th>\n",
       "      <td>0.203169</td>\n",
       "    </tr>\n",
       "    <tr>\n",
       "      <th>75%</th>\n",
       "      <td>0.313215</td>\n",
       "    </tr>\n",
       "    <tr>\n",
       "      <th>max</th>\n",
       "      <td>93.499242</td>\n",
       "    </tr>\n",
       "  </tbody>\n",
       "</table>\n",
       "</div>"
      ],
      "text/plain": [
       "                MSE\n",
       "count  56858.000000\n",
       "mean       0.275824\n",
       "std        0.723319\n",
       "min        0.013358\n",
       "25%        0.131766\n",
       "50%        0.203169\n",
       "75%        0.313215\n",
       "max       93.499242"
      ]
     },
     "execution_count": 93,
     "metadata": {},
     "output_type": "execute_result"
    }
   ],
   "source": [
    "results[results[\"Class\"]==0][[\"MSE\"]].describe()"
   ]
  },
  {
   "cell_type": "code",
   "execution_count": 94,
   "metadata": {
    "scrolled": true
   },
   "outputs": [
    {
     "data": {
      "text/html": [
       "<div>\n",
       "<style scoped>\n",
       "    .dataframe tbody tr th:only-of-type {\n",
       "        vertical-align: middle;\n",
       "    }\n",
       "\n",
       "    .dataframe tbody tr th {\n",
       "        vertical-align: top;\n",
       "    }\n",
       "\n",
       "    .dataframe thead th {\n",
       "        text-align: right;\n",
       "    }\n",
       "</style>\n",
       "<table border=\"1\" class=\"dataframe\">\n",
       "  <thead>\n",
       "    <tr style=\"text-align: right;\">\n",
       "      <th></th>\n",
       "      <th>MSE</th>\n",
       "    </tr>\n",
       "  </thead>\n",
       "  <tbody>\n",
       "    <tr>\n",
       "      <th>count</th>\n",
       "      <td>492.000000</td>\n",
       "    </tr>\n",
       "    <tr>\n",
       "      <th>mean</th>\n",
       "      <td>17.899928</td>\n",
       "    </tr>\n",
       "    <tr>\n",
       "      <th>std</th>\n",
       "      <td>20.675015</td>\n",
       "    </tr>\n",
       "    <tr>\n",
       "      <th>min</th>\n",
       "      <td>0.072200</td>\n",
       "    </tr>\n",
       "    <tr>\n",
       "      <th>25%</th>\n",
       "      <td>3.673039</td>\n",
       "    </tr>\n",
       "    <tr>\n",
       "      <th>50%</th>\n",
       "      <td>8.246633</td>\n",
       "    </tr>\n",
       "    <tr>\n",
       "      <th>75%</th>\n",
       "      <td>23.659988</td>\n",
       "    </tr>\n",
       "    <tr>\n",
       "      <th>max</th>\n",
       "      <td>63.731148</td>\n",
       "    </tr>\n",
       "  </tbody>\n",
       "</table>\n",
       "</div>"
      ],
      "text/plain": [
       "              MSE\n",
       "count  492.000000\n",
       "mean    17.899928\n",
       "std     20.675015\n",
       "min      0.072200\n",
       "25%      3.673039\n",
       "50%      8.246633\n",
       "75%     23.659988\n",
       "max     63.731148"
      ]
     },
     "execution_count": 94,
     "metadata": {},
     "output_type": "execute_result"
    }
   ],
   "source": [
    "results[results[\"Class\"]==1][[\"MSE\"]].describe()"
   ]
  },
  {
   "cell_type": "markdown",
   "metadata": {},
   "source": [
    "### cut off for fraud is class = 0 mean + 3std "
   ]
  },
  {
   "cell_type": "code",
   "execution_count": 95,
   "metadata": {},
   "outputs": [],
   "source": [
    "results[\"pred_class\"]=results.MSE.apply(lambda x: 1 if x>0.28+3*0.72 else 0)"
   ]
  },
  {
   "cell_type": "code",
   "execution_count": 96,
   "metadata": {},
   "outputs": [
    {
     "data": {
      "text/plain": [
       "array([[56727,   131],\n",
       "       [   93,   399]])"
      ]
     },
     "execution_count": 96,
     "metadata": {},
     "output_type": "execute_result"
    }
   ],
   "source": [
    "confusion_matrix(results.Class,results.pred_class)"
   ]
  },
  {
   "cell_type": "code",
   "execution_count": 97,
   "metadata": {},
   "outputs": [
    {
     "name": "stdout",
     "output_type": "stream",
     "text": [
      "              precision    recall  f1-score   support\n",
      "\n",
      "           0       1.00      1.00      1.00     56858\n",
      "           1       0.75      0.81      0.78       492\n",
      "\n",
      "    accuracy                           1.00     57350\n",
      "   macro avg       0.88      0.90      0.89     57350\n",
      "weighted avg       1.00      1.00      1.00     57350\n",
      "\n"
     ]
    }
   ],
   "source": [
    "print(classification_report(results.Class, results.pred_class))"
   ]
  }
 ],
 "metadata": {
  "kernelspec": {
   "display_name": "Python 3",
   "language": "python",
   "name": "python3"
  },
  "language_info": {
   "codemirror_mode": {
    "name": "ipython",
    "version": 3
   },
   "file_extension": ".py",
   "mimetype": "text/x-python",
   "name": "python",
   "nbconvert_exporter": "python",
   "pygments_lexer": "ipython3",
   "version": "3.6.9"
  }
 },
 "nbformat": 4,
 "nbformat_minor": 4
}
