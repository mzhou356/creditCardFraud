{
 "cells": [
  {
   "cell_type": "code",
   "execution_count": 2,
   "metadata": {},
   "outputs": [],
   "source": [
    "import sys\n",
    "import numpy as np\n",
    "import pandas as pd \n",
    "import tensorflow_probability as tfp\n",
    "import tensorflow.compat.v2 as tf\n",
    "import matplotlib.pyplot as plt \n",
    "%matplotlib inline\n",
    "sys.path.append(\"/home/mindy/Documents/projects/creditCardFraud/scripts/\")"
   ]
  },
  {
   "cell_type": "code",
   "execution_count": 3,
   "metadata": {},
   "outputs": [],
   "source": [
    "tfk = tf.keras\n",
    "tfkl=tf.keras.layers\n",
    "tfpl= tfp.layers         # layers for tensor flow probability \n",
    "tfd = tfp.distributions # distribution layer "
   ]
  },
  {
   "cell_type": "code",
   "execution_count": 10,
   "metadata": {},
   "outputs": [
    {
     "name": "stdout",
     "output_type": "stream",
     "text": [
      "The autoreload extension is already loaded. To reload it, use:\n",
      "  %reload_ext autoreload\n"
     ]
    }
   ],
   "source": [
    "from util import *\n",
    "from NN_util import *\n",
    "%load_ext autoreload\n",
    "%autoreload 2"
   ]
  },
  {
   "cell_type": "code",
   "execution_count": 5,
   "metadata": {},
   "outputs": [],
   "source": [
    "# make sure GPU is running \n",
    "tf.test.gpu_device_name()\n",
    "# set max limit to 7.5 G /8 total available \n",
    "set_gpu_limit(7.5)"
   ]
  },
  {
   "cell_type": "markdown",
   "metadata": {},
   "source": [
    "## Import training and dev data and convert to numpy array for NN "
   ]
  },
  {
   "cell_type": "code",
   "execution_count": 16,
   "metadata": {},
   "outputs": [],
   "source": [
    "train = pd.read_csv(\"../processedData/TrainingData_normal.csv\")\n",
    "dev = pd.read_csv(\"../processedData/DevData_normal.csv\")"
   ]
  },
  {
   "cell_type": "markdown",
   "metadata": {},
   "source": [
    "### converting into tf data set to allow simple efficient data pipelines. \n",
    "* In autoencoder, you are predicting the original input x \n",
    "* shuffle and train data in batches with 1000 epochs "
   ]
  },
  {
   "cell_type": "code",
   "execution_count": 17,
   "metadata": {},
   "outputs": [],
   "source": [
    "buffer_size = 10000\n",
    "batch_size = 256\n",
    "epochs = 500\n",
    "input_size = train.shape[1]\n",
    "encoded_size = 5"
   ]
  },
  {
   "cell_type": "code",
   "execution_count": 19,
   "metadata": {},
   "outputs": [],
   "source": [
    "train_data, dev_data = make_tensor_dataset([train,dev],buffer_size,batch_size)"
   ]
  },
  {
   "cell_type": "markdown",
   "metadata": {},
   "source": [
    "### set up checkpoint and other settings "
   ]
  },
  {
   "cell_type": "code",
   "execution_count": 20,
   "metadata": {},
   "outputs": [],
   "source": [
    "checkpoint = tfk.callbacks.ModelCheckpoint(\"../savedModels/VariationalEncoderModel_2.h5\",verbose=1,save_best_only=True)\n",
    "earlystop = tfk.callbacks.EarlyStopping(monitor=\"val_loss\", mode=\"min\", min_delta=0.005, patience=20, verbose=1, restore_best_weights=True)"
   ]
  },
  {
   "cell_type": "markdown",
   "metadata": {},
   "source": [
    "### For variational autoencoder we need to maximize ELBO (evidence lower bound objective):\n",
    "\n",
    "$$ELBO(x)= \\int dzq(z|x)logp(x|z) + \\int dzq(z|x)log\\frac{q(z|x)}{p(z)} $$\n",
    "\n",
    "* p(z): the prior on the latent representation z (last layer of encoder) \n",
    "* q(z|x_input): the encoder (how likely is z given x_input)\n",
    "* p(x_hat|z): the decoder (how likely is x_hat given z) \n",
    "* $\\int dzq(z|x)logp(x|z)$: reconstructin term. (how likely for us to get output_x given input_x and encode to z then decode to x_output) \n",
    "* $\\int dzq(z|x)log\\frac{q(z|x)}{p(z)} $: KL divergence. How similar are the encoder distribution and the prior distribution. "
   ]
  },
  {
   "cell_type": "markdown",
   "metadata": {},
   "source": [
    "### Prior distribution for z: \n",
    "\n",
    "* Since this is latent representation (noise has been removed), it is okay to assume it is isotropic gaussian "
   ]
  },
  {
   "cell_type": "code",
   "execution_count": 21,
   "metadata": {},
   "outputs": [],
   "source": [
    "prior = tfd.Independent(tfd.Normal(loc=tf.zeros(encoded_size), scale=1),\n",
    "                        reinterpreted_batch_ndims=1)"
   ]
  },
  {
   "cell_type": "markdown",
   "metadata": {},
   "source": [
    "## encoder model for autoencoder:\n",
    "* encoder: 3 layers:\n",
    "  * 3 dense layers \n",
    "  * 3 dimensional multivariable non zero covariance normal distribution"
   ]
  },
  {
   "cell_type": "code",
   "execution_count": 11,
   "metadata": {},
   "outputs": [
    {
     "name": "stdout",
     "output_type": "stream",
     "text": [
      "WARNING:tensorflow:From /home/mindy/.venv/tf/lib/python3.6/site-packages/tensorflow/python/ops/linalg/linear_operator_lower_triangular.py:158: calling LinearOperator.__init__ (from tensorflow.python.ops.linalg.linear_operator) with graph_parents is deprecated and will be removed in a future version.\n",
      "Instructions for updating:\n",
      "Do not pass `graph_parents`.  They will  no longer be used.\n",
      "Model: \"encoder\"\n",
      "_________________________________________________________________\n",
      "Layer (type)                 Output Shape              Param #   \n",
      "=================================================================\n",
      "dense (Dense)                (None, 20)                620       \n",
      "_________________________________________________________________\n",
      "dense_1 (Dense)              (None, 10)                210       \n",
      "_________________________________________________________________\n",
      "dense_2 (Dense)              (None, 20)                220       \n",
      "_________________________________________________________________\n",
      "multivariate_normal_tri_l (M ((None, 5), (None, 5))    0         \n",
      "=================================================================\n",
      "Total params: 1,050\n",
      "Trainable params: 1,050\n",
      "Non-trainable params: 0\n",
      "_________________________________________________________________\n"
     ]
    }
   ],
   "source": [
    "encoder = tfk.Sequential([\n",
    "    tfkl.InputLayer(input_shape = input_size),  # 30 input features \n",
    "    tfkl.Dense(units=20, activation=tf.nn.leaky_relu, activity_regularizer=tfk.regularizers.l1(10e-5)),\n",
    "    tfkl.Dense(units=10, activation=tf.nn.leaky_relu, activity_regularizer=tfk.regularizers.l1(10e-5)),\n",
    "    tfkl.Dense(tfpl.MultivariateNormalTriL.params_size(encoded_size),activation=None),\n",
    "    tfpl.MultivariateNormalTriL(encoded_size,activity_regularizer=tfpl.KLDivergenceRegularizer(prior))\n",
    "    ], name=\"encoder\")\n",
    "encoder.summary()    "
   ]
  },
  {
   "cell_type": "markdown",
   "metadata": {},
   "source": [
    "## decoder model for autoencoder:\n",
    "* decoder: 3 layers:\n",
    "   * 3 dense layers\n",
    "   * independent normal distributions as output "
   ]
  },
  {
   "cell_type": "code",
   "execution_count": 12,
   "metadata": {},
   "outputs": [
    {
     "name": "stdout",
     "output_type": "stream",
     "text": [
      "Model: \"decoder\"\n",
      "_________________________________________________________________\n",
      "Layer (type)                 Output Shape              Param #   \n",
      "=================================================================\n",
      "dense_3 (Dense)              (None, 10)                60        \n",
      "_________________________________________________________________\n",
      "dense_4 (Dense)              (None, 20)                220       \n",
      "_________________________________________________________________\n",
      "dense_5 (Dense)              (None, 60)                1260      \n",
      "_________________________________________________________________\n",
      "independent_normal (Independ ((None, 30), (None, 30))  0         \n",
      "=================================================================\n",
      "Total params: 1,540\n",
      "Trainable params: 1,540\n",
      "Non-trainable params: 0\n",
      "_________________________________________________________________\n"
     ]
    }
   ],
   "source": [
    "decoder = tfk.Sequential([\n",
    "    tfkl.InputLayer(input_shape=[encoded_size]),\n",
    "    tfkl.Dense(units=10, activation=tf.nn.leaky_relu, activity_regularizer=tfk.regularizers.l1(10e-5)),\n",
    "    tfkl.Dense(units=20, activation=tf.nn.leaky_relu, activity_regularizer=tfk.regularizers.l1(10e-5)),\n",
    "    tfkl.Dense(tfpl.IndependentNormal.params_size(input_size),activation=None),\n",
    "    tfpl.IndependentNormal(input_size)\n",
    "    ], name = \"decoder\")\n",
    "decoder.summary()"
   ]
  },
  {
   "cell_type": "markdown",
   "metadata": {},
   "source": [
    "### Add encoders together \n"
   ]
  },
  {
   "cell_type": "code",
   "execution_count": 13,
   "metadata": {},
   "outputs": [],
   "source": [
    "VAE = tfk.Model(inputs=encoder.inputs, outputs=decoder(encoder.outputs[0]),name=\"VAE\")"
   ]
  },
  {
   "cell_type": "code",
   "execution_count": 14,
   "metadata": {
    "scrolled": false
   },
   "outputs": [
    {
     "name": "stdout",
     "output_type": "stream",
     "text": [
      "Model: \"VAE\"\n",
      "_________________________________________________________________\n",
      "Layer (type)                 Output Shape              Param #   \n",
      "=================================================================\n",
      "input_1 (InputLayer)         [(None, 30)]              0         \n",
      "_________________________________________________________________\n",
      "dense (Dense)                (None, 20)                620       \n",
      "_________________________________________________________________\n",
      "dense_1 (Dense)              (None, 10)                210       \n",
      "_________________________________________________________________\n",
      "dense_2 (Dense)              (None, 20)                220       \n",
      "_________________________________________________________________\n",
      "multivariate_normal_tri_l (M ((None, 5), (None, 5))    0         \n",
      "_________________________________________________________________\n",
      "decoder (Sequential)         (None, 30)                1540      \n",
      "=================================================================\n",
      "Total params: 2,590\n",
      "Trainable params: 2,590\n",
      "Non-trainable params: 0\n",
      "_________________________________________________________________\n"
     ]
    }
   ],
   "source": [
    "VAE.summary()"
   ]
  },
  {
   "cell_type": "markdown",
   "metadata": {},
   "source": [
    "### define reconstruction loss"
   ]
  },
  {
   "cell_type": "code",
   "execution_count": 15,
   "metadata": {},
   "outputs": [],
   "source": [
    "negloglik = lambda x_input, x_output: -x_output.log_prob(x_input)"
   ]
  },
  {
   "cell_type": "markdown",
   "metadata": {},
   "source": [
    "### compile the model and train model"
   ]
  },
  {
   "cell_type": "code",
   "execution_count": 16,
   "metadata": {},
   "outputs": [],
   "source": [
    "VAE.compile(optimizer=tf.optimizers.Adam(learning_rate=1e-3), loss=negloglik)"
   ]
  },
  {
   "cell_type": "code",
   "execution_count": 17,
   "metadata": {
    "scrolled": false
   },
   "outputs": [
    {
     "name": "stdout",
     "output_type": "stream",
     "text": [
      "Epoch 1/500\n",
      "706/711 [============================>.] - ETA: 0s - loss: 714.3268\n",
      "Epoch 00001: val_loss improved from inf to 127.02262, saving model to ../savedModels/VariationalEncoderModel_2.h5\n",
      "711/711 [==============================] - 3s 4ms/step - loss: 710.1678 - val_loss: 127.0226\n",
      "Epoch 2/500\n",
      "702/711 [============================>.] - ETA: 0s - loss: 618.9617\n",
      "Epoch 00002: val_loss improved from 127.02262 to 101.20383, saving model to ../savedModels/VariationalEncoderModel_2.h5\n",
      "711/711 [==============================] - 3s 4ms/step - loss: 612.4127 - val_loss: 101.2038\n",
      "Epoch 3/500\n",
      "700/711 [============================>.] - ETA: 0s - loss: 352046.9375\n",
      "Epoch 00003: val_loss improved from 101.20383 to 86.85255, saving model to ../savedModels/VariationalEncoderModel_2.h5\n",
      "711/711 [==============================] - 3s 4ms/step - loss: 346600.1562 - val_loss: 86.8525\n",
      "Epoch 4/500\n",
      "710/711 [============================>.] - ETA: 0s - loss: 143.5374\n",
      "Epoch 00004: val_loss improved from 86.85255 to 83.56260, saving model to ../savedModels/VariationalEncoderModel_2.h5\n",
      "711/711 [==============================] - 3s 4ms/step - loss: 143.4506 - val_loss: 83.5626\n",
      "Epoch 5/500\n",
      "711/711 [==============================] - ETA: 0s - loss: 82.4636\n",
      "Epoch 00005: val_loss improved from 83.56260 to 81.86973, saving model to ../savedModels/VariationalEncoderModel_2.h5\n",
      "711/711 [==============================] - 3s 4ms/step - loss: 82.4636 - val_loss: 81.8697\n",
      "Epoch 6/500\n",
      "706/711 [============================>.] - ETA: 0s - loss: 80.7035\n",
      "Epoch 00006: val_loss improved from 81.86973 to 79.81298, saving model to ../savedModels/VariationalEncoderModel_2.h5\n",
      "711/711 [==============================] - 3s 4ms/step - loss: 80.6791 - val_loss: 79.8130\n",
      "Epoch 7/500\n",
      "704/711 [============================>.] - ETA: 0s - loss: 84.5467\n",
      "Epoch 00007: val_loss improved from 79.81298 to 78.91199, saving model to ../savedModels/VariationalEncoderModel_2.h5\n",
      "711/711 [==============================] - 3s 4ms/step - loss: 84.4973 - val_loss: 78.9120\n",
      "Epoch 8/500\n",
      "711/711 [==============================] - ETA: 0s - loss: 268.2910\n",
      "Epoch 00008: val_loss improved from 78.91199 to 77.91272, saving model to ../savedModels/VariationalEncoderModel_2.h5\n",
      "711/711 [==============================] - 3s 4ms/step - loss: 268.2910 - val_loss: 77.9127\n",
      "Epoch 9/500\n",
      "710/711 [============================>.] - ETA: 0s - loss: 77.9236\n",
      "Epoch 00009: val_loss improved from 77.91272 to 77.49155, saving model to ../savedModels/VariationalEncoderModel_2.h5\n",
      "711/711 [==============================] - 3s 4ms/step - loss: 77.9226 - val_loss: 77.4916\n",
      "Epoch 10/500\n",
      "700/711 [============================>.] - ETA: 0s - loss: 491.6370\n",
      "Epoch 00010: val_loss improved from 77.49155 to 75.70221, saving model to ../savedModels/VariationalEncoderModel_2.h5\n",
      "711/711 [==============================] - 3s 4ms/step - loss: 485.1787 - val_loss: 75.7022\n",
      "Epoch 11/500\n",
      "706/711 [============================>.] - ETA: 0s - loss: 75.5756\n",
      "Epoch 00011: val_loss improved from 75.70221 to 74.97881, saving model to ../savedModels/VariationalEncoderModel_2.h5\n",
      "711/711 [==============================] - 3s 4ms/step - loss: 75.5668 - val_loss: 74.9788\n",
      "Epoch 12/500\n",
      "710/711 [============================>.] - ETA: 0s - loss: 75.0302\n",
      "Epoch 00012: val_loss improved from 74.97881 to 74.59526, saving model to ../savedModels/VariationalEncoderModel_2.h5\n",
      "711/711 [==============================] - 3s 4ms/step - loss: 75.0293 - val_loss: 74.5953\n",
      "Epoch 13/500\n",
      "704/711 [============================>.] - ETA: 0s - loss: 74.4200\n",
      "Epoch 00013: val_loss improved from 74.59526 to 73.83689, saving model to ../savedModels/VariationalEncoderModel_2.h5\n",
      "711/711 [==============================] - 3s 4ms/step - loss: 74.4317 - val_loss: 73.8369\n",
      "Epoch 14/500\n",
      "699/711 [============================>.] - ETA: 0s - loss: 73.6164\n",
      "Epoch 00014: val_loss improved from 73.83689 to 73.48008, saving model to ../savedModels/VariationalEncoderModel_2.h5\n",
      "711/711 [==============================] - 3s 4ms/step - loss: 73.6048 - val_loss: 73.4801\n",
      "Epoch 15/500\n",
      "700/711 [============================>.] - ETA: 0s - loss: 73.1602\n",
      "Epoch 00015: val_loss improved from 73.48008 to 72.25481, saving model to ../savedModels/VariationalEncoderModel_2.h5\n",
      "711/711 [==============================] - 3s 4ms/step - loss: 73.1320 - val_loss: 72.2548\n",
      "Epoch 16/500\n",
      "706/711 [============================>.] - ETA: 0s - loss: 71.5376\n",
      "Epoch 00016: val_loss improved from 72.25481 to 71.06036, saving model to ../savedModels/VariationalEncoderModel_2.h5\n",
      "711/711 [==============================] - 3s 4ms/step - loss: 71.5433 - val_loss: 71.0604\n",
      "Epoch 17/500\n",
      "700/711 [============================>.] - ETA: 0s - loss: 70.2111\n",
      "Epoch 00017: val_loss improved from 71.06036 to 69.29050, saving model to ../savedModels/VariationalEncoderModel_2.h5\n",
      "711/711 [==============================] - 3s 4ms/step - loss: 70.1787 - val_loss: 69.2905\n",
      "Epoch 18/500\n",
      "699/711 [============================>.] - ETA: 0s - loss: 68.2454\n",
      "Epoch 00018: val_loss improved from 69.29050 to 67.25780, saving model to ../savedModels/VariationalEncoderModel_2.h5\n",
      "711/711 [==============================] - 3s 4ms/step - loss: 68.2438 - val_loss: 67.2578\n",
      "Epoch 19/500\n",
      "709/711 [============================>.] - ETA: 0s - loss: 66.1341\n",
      "Epoch 00019: val_loss improved from 67.25780 to 64.74639, saving model to ../savedModels/VariationalEncoderModel_2.h5\n",
      "711/711 [==============================] - 3s 4ms/step - loss: 66.1203 - val_loss: 64.7464\n",
      "Epoch 20/500\n",
      "705/711 [============================>.] - ETA: 0s - loss: 63.6693\n",
      "Epoch 00020: val_loss improved from 64.74639 to 62.33298, saving model to ../savedModels/VariationalEncoderModel_2.h5\n",
      "711/711 [==============================] - 3s 4ms/step - loss: 63.6582 - val_loss: 62.3330\n",
      "Epoch 21/500\n",
      "704/711 [============================>.] - ETA: 0s - loss: 61.0681\n",
      "Epoch 00021: val_loss improved from 62.33298 to 59.74157, saving model to ../savedModels/VariationalEncoderModel_2.h5\n",
      "711/711 [==============================] - 3s 4ms/step - loss: 61.0529 - val_loss: 59.7416\n",
      "Epoch 22/500\n",
      "706/711 [============================>.] - ETA: 0s - loss: 58.2956\n",
      "Epoch 00022: val_loss improved from 59.74157 to 57.03807, saving model to ../savedModels/VariationalEncoderModel_2.h5\n",
      "711/711 [==============================] - 3s 4ms/step - loss: 58.2924 - val_loss: 57.0381\n",
      "Epoch 23/500\n",
      "705/711 [============================>.] - ETA: 0s - loss: 55.5442\n",
      "Epoch 00023: val_loss improved from 57.03807 to 54.19976, saving model to ../savedModels/VariationalEncoderModel_2.h5\n",
      "711/711 [==============================] - 3s 4ms/step - loss: 55.5370 - val_loss: 54.1998\n",
      "Epoch 24/500\n",
      "702/711 [============================>.] - ETA: 0s - loss: 52.7985\n",
      "Epoch 00024: val_loss improved from 54.19976 to 51.45391, saving model to ../savedModels/VariationalEncoderModel_2.h5\n",
      "711/711 [==============================] - 3s 4ms/step - loss: 52.7801 - val_loss: 51.4539\n",
      "Epoch 25/500\n",
      "699/711 [============================>.] - ETA: 0s - loss: 50.1541\n",
      "Epoch 00025: val_loss improved from 51.45391 to 48.94968, saving model to ../savedModels/VariationalEncoderModel_2.h5\n",
      "711/711 [==============================] - 3s 4ms/step - loss: 50.1370 - val_loss: 48.9497\n",
      "Epoch 26/500\n",
      "702/711 [============================>.] - ETA: 0s - loss: 47.9117\n",
      "Epoch 00026: val_loss improved from 48.94968 to 46.96243, saving model to ../savedModels/VariationalEncoderModel_2.h5\n",
      "711/711 [==============================] - 3s 4ms/step - loss: 47.8983 - val_loss: 46.9624\n",
      "Epoch 27/500\n",
      "702/711 [============================>.] - ETA: 0s - loss: 46.0389\n",
      "Epoch 00027: val_loss improved from 46.96243 to 45.60429, saving model to ../savedModels/VariationalEncoderModel_2.h5\n",
      "711/711 [==============================] - 3s 4ms/step - loss: 46.0301 - val_loss: 45.6043\n",
      "Epoch 28/500\n",
      "707/711 [============================>.] - ETA: 0s - loss: 44.6470\n",
      "Epoch 00028: val_loss improved from 45.60429 to 44.14147, saving model to ../savedModels/VariationalEncoderModel_2.h5\n",
      "711/711 [==============================] - 3s 4ms/step - loss: 44.6447 - val_loss: 44.1415\n",
      "Epoch 29/500\n",
      "698/711 [============================>.] - ETA: 0s - loss: 43.5923\n",
      "Epoch 00029: val_loss improved from 44.14147 to 43.02106, saving model to ../savedModels/VariationalEncoderModel_2.h5\n",
      "711/711 [==============================] - 3s 4ms/step - loss: 43.5741 - val_loss: 43.0211\n"
     ]
    },
    {
     "name": "stdout",
     "output_type": "stream",
     "text": [
      "Epoch 30/500\n",
      "703/711 [============================>.] - ETA: 0s - loss: 42.6498\n",
      "Epoch 00030: val_loss improved from 43.02106 to 42.30232, saving model to ../savedModels/VariationalEncoderModel_2.h5\n",
      "711/711 [==============================] - 3s 4ms/step - loss: 42.6443 - val_loss: 42.3023\n",
      "Epoch 31/500\n",
      "696/711 [============================>.] - ETA: 0s - loss: 41.9472\n",
      "Epoch 00031: val_loss improved from 42.30232 to 41.64722, saving model to ../savedModels/VariationalEncoderModel_2.h5\n",
      "711/711 [==============================] - 3s 4ms/step - loss: 41.9415 - val_loss: 41.6472\n",
      "Epoch 32/500\n",
      "705/711 [============================>.] - ETA: 0s - loss: 41.3181\n",
      "Epoch 00032: val_loss improved from 41.64722 to 41.05382, saving model to ../savedModels/VariationalEncoderModel_2.h5\n",
      "711/711 [==============================] - 3s 4ms/step - loss: 41.3124 - val_loss: 41.0538\n",
      "Epoch 33/500\n",
      "701/711 [============================>.] - ETA: 0s - loss: 40.8512\n",
      "Epoch 00033: val_loss improved from 41.05382 to 40.67692, saving model to ../savedModels/VariationalEncoderModel_2.h5\n",
      "711/711 [==============================] - 3s 4ms/step - loss: 40.8551 - val_loss: 40.6769\n",
      "Epoch 34/500\n",
      "710/711 [============================>.] - ETA: 0s - loss: 40.4852\n",
      "Epoch 00034: val_loss improved from 40.67692 to 40.28920, saving model to ../savedModels/VariationalEncoderModel_2.h5\n",
      "711/711 [==============================] - 3s 4ms/step - loss: 40.4862 - val_loss: 40.2892\n",
      "Epoch 35/500\n",
      "708/711 [============================>.] - ETA: 0s - loss: 40.0942\n",
      "Epoch 00035: val_loss improved from 40.28920 to 39.99139, saving model to ../savedModels/VariationalEncoderModel_2.h5\n",
      "711/711 [==============================] - 3s 4ms/step - loss: 40.0912 - val_loss: 39.9914\n",
      "Epoch 36/500\n",
      "700/711 [============================>.] - ETA: 0s - loss: 39.7018\n",
      "Epoch 00036: val_loss improved from 39.99139 to 39.58932, saving model to ../savedModels/VariationalEncoderModel_2.h5\n",
      "711/711 [==============================] - 3s 4ms/step - loss: 39.6988 - val_loss: 39.5893\n",
      "Epoch 37/500\n",
      "701/711 [============================>.] - ETA: 0s - loss: 39.3177\n",
      "Epoch 00037: val_loss improved from 39.58932 to 39.14284, saving model to ../savedModels/VariationalEncoderModel_2.h5\n",
      "711/711 [==============================] - 3s 4ms/step - loss: 39.3091 - val_loss: 39.1428\n",
      "Epoch 38/500\n",
      "700/711 [============================>.] - ETA: 0s - loss: 38.8830\n",
      "Epoch 00038: val_loss improved from 39.14284 to 38.74326, saving model to ../savedModels/VariationalEncoderModel_2.h5\n",
      "711/711 [==============================] - 3s 4ms/step - loss: 38.8801 - val_loss: 38.7433\n",
      "Epoch 39/500\n",
      "703/711 [============================>.] - ETA: 0s - loss: 38.4590\n",
      "Epoch 00039: val_loss improved from 38.74326 to 38.32243, saving model to ../savedModels/VariationalEncoderModel_2.h5\n",
      "711/711 [==============================] - 3s 4ms/step - loss: 38.4533 - val_loss: 38.3224\n",
      "Epoch 40/500\n",
      "698/711 [============================>.] - ETA: 0s - loss: 37.9964\n",
      "Epoch 00040: val_loss improved from 38.32243 to 37.83699, saving model to ../savedModels/VariationalEncoderModel_2.h5\n",
      "711/711 [==============================] - 3s 4ms/step - loss: 37.9822 - val_loss: 37.8370\n",
      "Epoch 41/500\n",
      "708/711 [============================>.] - ETA: 0s - loss: 37.5347\n",
      "Epoch 00041: val_loss improved from 37.83699 to 37.34751, saving model to ../savedModels/VariationalEncoderModel_2.h5\n",
      "711/711 [==============================] - 3s 4ms/step - loss: 37.5316 - val_loss: 37.3475\n",
      "Epoch 42/500\n",
      "702/711 [============================>.] - ETA: 0s - loss: 37.0382\n",
      "Epoch 00042: val_loss improved from 37.34751 to 37.11637, saving model to ../savedModels/VariationalEncoderModel_2.h5\n",
      "711/711 [==============================] - 3s 4ms/step - loss: 37.0389 - val_loss: 37.1164\n",
      "Epoch 43/500\n",
      "701/711 [============================>.] - ETA: 0s - loss: 36.6207\n",
      "Epoch 00043: val_loss improved from 37.11637 to 36.46012, saving model to ../savedModels/VariationalEncoderModel_2.h5\n",
      "711/711 [==============================] - 3s 4ms/step - loss: 36.6181 - val_loss: 36.4601\n",
      "Epoch 44/500\n",
      "702/711 [============================>.] - ETA: 0s - loss: 36.1957\n",
      "Epoch 00044: val_loss improved from 36.46012 to 36.18133, saving model to ../savedModels/VariationalEncoderModel_2.h5\n",
      "711/711 [==============================] - 3s 4ms/step - loss: 36.1913 - val_loss: 36.1813\n",
      "Epoch 45/500\n",
      "709/711 [============================>.] - ETA: 0s - loss: 35.8846\n",
      "Epoch 00045: val_loss improved from 36.18133 to 35.83656, saving model to ../savedModels/VariationalEncoderModel_2.h5\n",
      "711/711 [==============================] - 3s 4ms/step - loss: 35.8813 - val_loss: 35.8366\n",
      "Epoch 46/500\n",
      "704/711 [============================>.] - ETA: 0s - loss: 35.6586\n",
      "Epoch 00046: val_loss improved from 35.83656 to 35.61667, saving model to ../savedModels/VariationalEncoderModel_2.h5\n",
      "711/711 [==============================] - 3s 4ms/step - loss: 35.6570 - val_loss: 35.6167\n",
      "Epoch 47/500\n",
      "707/711 [============================>.] - ETA: 0s - loss: 35.4723\n",
      "Epoch 00047: val_loss improved from 35.61667 to 35.45600, saving model to ../savedModels/VariationalEncoderModel_2.h5\n",
      "711/711 [==============================] - 3s 4ms/step - loss: 35.4665 - val_loss: 35.4560\n",
      "Epoch 48/500\n",
      "702/711 [============================>.] - ETA: 0s - loss: 35.3014\n",
      "Epoch 00048: val_loss improved from 35.45600 to 35.30256, saving model to ../savedModels/VariationalEncoderModel_2.h5\n",
      "711/711 [==============================] - 3s 4ms/step - loss: 35.3014 - val_loss: 35.3026\n",
      "Epoch 49/500\n",
      "708/711 [============================>.] - ETA: 0s - loss: 35.1351\n",
      "Epoch 00049: val_loss improved from 35.30256 to 35.09921, saving model to ../savedModels/VariationalEncoderModel_2.h5\n",
      "711/711 [==============================] - 3s 4ms/step - loss: 35.1357 - val_loss: 35.0992\n",
      "Epoch 50/500\n",
      "707/711 [============================>.] - ETA: 0s - loss: 34.9297\n",
      "Epoch 00050: val_loss improved from 35.09921 to 34.86952, saving model to ../savedModels/VariationalEncoderModel_2.h5\n",
      "711/711 [==============================] - 3s 4ms/step - loss: 34.9329 - val_loss: 34.8695\n",
      "Epoch 51/500\n",
      "710/711 [============================>.] - ETA: 0s - loss: 34.7133\n",
      "Epoch 00051: val_loss improved from 34.86952 to 34.62662, saving model to ../savedModels/VariationalEncoderModel_2.h5\n",
      "711/711 [==============================] - 3s 4ms/step - loss: 34.7115 - val_loss: 34.6266\n",
      "Epoch 52/500\n",
      "703/711 [============================>.] - ETA: 0s - loss: 34.4841\n",
      "Epoch 00052: val_loss improved from 34.62662 to 34.42563, saving model to ../savedModels/VariationalEncoderModel_2.h5\n",
      "711/711 [==============================] - 3s 4ms/step - loss: 34.4830 - val_loss: 34.4256\n",
      "Epoch 53/500\n",
      "701/711 [============================>.] - ETA: 0s - loss: 34.2799\n",
      "Epoch 00053: val_loss improved from 34.42563 to 34.28000, saving model to ../savedModels/VariationalEncoderModel_2.h5\n",
      "711/711 [==============================] - 3s 4ms/step - loss: 34.2778 - val_loss: 34.2800\n",
      "Epoch 54/500\n",
      "702/711 [============================>.] - ETA: 0s - loss: 34.1271\n",
      "Epoch 00054: val_loss improved from 34.28000 to 34.11866, saving model to ../savedModels/VariationalEncoderModel_2.h5\n",
      "711/711 [==============================] - 3s 4ms/step - loss: 34.1252 - val_loss: 34.1187\n",
      "Epoch 55/500\n",
      "702/711 [============================>.] - ETA: 0s - loss: 34.0048\n",
      "Epoch 00055: val_loss improved from 34.11866 to 34.01766, saving model to ../savedModels/VariationalEncoderModel_2.h5\n",
      "711/711 [==============================] - 3s 4ms/step - loss: 34.0037 - val_loss: 34.0177\n",
      "Epoch 56/500\n",
      "698/711 [============================>.] - ETA: 0s - loss: 33.8954\n",
      "Epoch 00056: val_loss improved from 34.01766 to 33.95015, saving model to ../savedModels/VariationalEncoderModel_2.h5\n",
      "711/711 [==============================] - 3s 4ms/step - loss: 33.8931 - val_loss: 33.9501\n",
      "Epoch 57/500\n",
      "699/711 [============================>.] - ETA: 0s - loss: 33.7942\n",
      "Epoch 00057: val_loss improved from 33.95015 to 33.80333, saving model to ../savedModels/VariationalEncoderModel_2.h5\n",
      "711/711 [==============================] - 3s 4ms/step - loss: 33.7936 - val_loss: 33.8033\n",
      "Epoch 58/500\n",
      "699/711 [============================>.] - ETA: 0s - loss: 33.7069\n",
      "Epoch 00058: val_loss improved from 33.80333 to 33.68774, saving model to ../savedModels/VariationalEncoderModel_2.h5\n",
      "711/711 [==============================] - 3s 4ms/step - loss: 33.7057 - val_loss: 33.6877\n"
     ]
    },
    {
     "name": "stdout",
     "output_type": "stream",
     "text": [
      "Epoch 59/500\n",
      "709/711 [============================>.] - ETA: 0s - loss: 33.5873\n",
      "Epoch 00059: val_loss improved from 33.68774 to 33.61109, saving model to ../savedModels/VariationalEncoderModel_2.h5\n",
      "711/711 [==============================] - 3s 4ms/step - loss: 33.5866 - val_loss: 33.6111\n",
      "Epoch 60/500\n",
      "710/711 [============================>.] - ETA: 0s - loss: 33.5035\n",
      "Epoch 00060: val_loss did not improve from 33.61109\n",
      "711/711 [==============================] - 3s 4ms/step - loss: 33.5023 - val_loss: 33.7342\n",
      "Epoch 61/500\n",
      "708/711 [============================>.] - ETA: 0s - loss: 33.4175\n",
      "Epoch 00061: val_loss improved from 33.61109 to 33.45820, saving model to ../savedModels/VariationalEncoderModel_2.h5\n",
      "711/711 [==============================] - 3s 4ms/step - loss: 33.4166 - val_loss: 33.4582\n",
      "Epoch 62/500\n",
      "706/711 [============================>.] - ETA: 0s - loss: 33.3496\n",
      "Epoch 00062: val_loss improved from 33.45820 to 33.41706, saving model to ../savedModels/VariationalEncoderModel_2.h5\n",
      "711/711 [==============================] - 3s 4ms/step - loss: 33.3527 - val_loss: 33.4171\n",
      "Epoch 63/500\n",
      "710/711 [============================>.] - ETA: 0s - loss: 33.2742\n",
      "Epoch 00063: val_loss improved from 33.41706 to 33.29099, saving model to ../savedModels/VariationalEncoderModel_2.h5\n",
      "711/711 [==============================] - 3s 4ms/step - loss: 33.2741 - val_loss: 33.2910\n",
      "Epoch 64/500\n",
      "705/711 [============================>.] - ETA: 0s - loss: 33.2174\n",
      "Epoch 00064: val_loss improved from 33.29099 to 33.26331, saving model to ../savedModels/VariationalEncoderModel_2.h5\n",
      "711/711 [==============================] - 3s 4ms/step - loss: 33.2174 - val_loss: 33.2633\n",
      "Epoch 65/500\n",
      "698/711 [============================>.] - ETA: 0s - loss: 33.1706\n",
      "Epoch 00065: val_loss improved from 33.26331 to 33.19639, saving model to ../savedModels/VariationalEncoderModel_2.h5\n",
      "711/711 [==============================] - 3s 4ms/step - loss: 33.1643 - val_loss: 33.1964\n",
      "Epoch 66/500\n",
      "705/711 [============================>.] - ETA: 0s - loss: 33.1038\n",
      "Epoch 00066: val_loss improved from 33.19639 to 33.15207, saving model to ../savedModels/VariationalEncoderModel_2.h5\n",
      "711/711 [==============================] - 3s 4ms/step - loss: 33.1103 - val_loss: 33.1521\n",
      "Epoch 67/500\n",
      "708/711 [============================>.] - ETA: 0s - loss: 33.0636\n",
      "Epoch 00067: val_loss improved from 33.15207 to 33.11419, saving model to ../savedModels/VariationalEncoderModel_2.h5\n",
      "711/711 [==============================] - 3s 4ms/step - loss: 33.0619 - val_loss: 33.1142\n",
      "Epoch 68/500\n",
      "709/711 [============================>.] - ETA: 0s - loss: 33.0307\n",
      "Epoch 00068: val_loss improved from 33.11419 to 33.05779, saving model to ../savedModels/VariationalEncoderModel_2.h5\n",
      "711/711 [==============================] - 3s 4ms/step - loss: 33.0329 - val_loss: 33.0578\n",
      "Epoch 69/500\n",
      "710/711 [============================>.] - ETA: 0s - loss: 33.0001\n",
      "Epoch 00069: val_loss improved from 33.05779 to 33.05213, saving model to ../savedModels/VariationalEncoderModel_2.h5\n",
      "711/711 [==============================] - 3s 4ms/step - loss: 33.0003 - val_loss: 33.0521\n",
      "Epoch 70/500\n",
      "702/711 [============================>.] - ETA: 0s - loss: 32.9630\n",
      "Epoch 00070: val_loss improved from 33.05213 to 32.98158, saving model to ../savedModels/VariationalEncoderModel_2.h5\n",
      "711/711 [==============================] - 3s 4ms/step - loss: 32.9573 - val_loss: 32.9816\n",
      "Epoch 71/500\n",
      "711/711 [==============================] - ETA: 0s - loss: 32.9231\n",
      "Epoch 00071: val_loss improved from 32.98158 to 32.94060, saving model to ../savedModels/VariationalEncoderModel_2.h5\n",
      "711/711 [==============================] - 3s 4ms/step - loss: 32.9231 - val_loss: 32.9406\n",
      "Epoch 72/500\n",
      "708/711 [============================>.] - ETA: 0s - loss: 32.8652\n",
      "Epoch 00072: val_loss improved from 32.94060 to 32.86858, saving model to ../savedModels/VariationalEncoderModel_2.h5\n",
      "711/711 [==============================] - 3s 4ms/step - loss: 32.8626 - val_loss: 32.8686\n",
      "Epoch 73/500\n",
      "701/711 [============================>.] - ETA: 0s - loss: 32.8045\n",
      "Epoch 00073: val_loss improved from 32.86858 to 32.84478, saving model to ../savedModels/VariationalEncoderModel_2.h5\n",
      "711/711 [==============================] - 3s 4ms/step - loss: 32.8013 - val_loss: 32.8448\n",
      "Epoch 74/500\n",
      "706/711 [============================>.] - ETA: 0s - loss: 32.7482\n",
      "Epoch 00074: val_loss improved from 32.84478 to 32.76433, saving model to ../savedModels/VariationalEncoderModel_2.h5\n",
      "711/711 [==============================] - 3s 4ms/step - loss: 32.7569 - val_loss: 32.7643\n",
      "Epoch 75/500\n",
      "701/711 [============================>.] - ETA: 0s - loss: 32.6946\n",
      "Epoch 00075: val_loss improved from 32.76433 to 32.73304, saving model to ../savedModels/VariationalEncoderModel_2.h5\n",
      "711/711 [==============================] - 3s 4ms/step - loss: 32.6950 - val_loss: 32.7330\n",
      "Epoch 76/500\n",
      "701/711 [============================>.] - ETA: 0s - loss: 32.6543\n",
      "Epoch 00076: val_loss improved from 32.73304 to 32.71221, saving model to ../savedModels/VariationalEncoderModel_2.h5\n",
      "711/711 [==============================] - 3s 4ms/step - loss: 32.6493 - val_loss: 32.7122\n",
      "Epoch 77/500\n",
      "702/711 [============================>.] - ETA: 0s - loss: 32.6212\n",
      "Epoch 00077: val_loss did not improve from 32.71221\n",
      "711/711 [==============================] - 3s 4ms/step - loss: 32.6245 - val_loss: 32.7158\n",
      "Epoch 78/500\n",
      "711/711 [==============================] - ETA: 0s - loss: 32.5884\n",
      "Epoch 00078: val_loss improved from 32.71221 to 32.66611, saving model to ../savedModels/VariationalEncoderModel_2.h5\n",
      "711/711 [==============================] - 3s 4ms/step - loss: 32.5884 - val_loss: 32.6661\n",
      "Epoch 79/500\n",
      "702/711 [============================>.] - ETA: 0s - loss: 32.5793\n",
      "Epoch 00079: val_loss improved from 32.66611 to 32.62580, saving model to ../savedModels/VariationalEncoderModel_2.h5\n",
      "711/711 [==============================] - 3s 4ms/step - loss: 32.5719 - val_loss: 32.6258\n",
      "Epoch 80/500\n",
      "710/711 [============================>.] - ETA: 0s - loss: 32.5502\n",
      "Epoch 00080: val_loss improved from 32.62580 to 32.60682, saving model to ../savedModels/VariationalEncoderModel_2.h5\n",
      "711/711 [==============================] - 3s 4ms/step - loss: 32.5495 - val_loss: 32.6068\n",
      "Epoch 81/500\n",
      "705/711 [============================>.] - ETA: 0s - loss: 32.5238\n",
      "Epoch 00081: val_loss improved from 32.60682 to 32.60270, saving model to ../savedModels/VariationalEncoderModel_2.h5\n",
      "711/711 [==============================] - 3s 4ms/step - loss: 32.5248 - val_loss: 32.6027\n",
      "Epoch 82/500\n",
      "701/711 [============================>.] - ETA: 0s - loss: 32.5432\n",
      "Epoch 00082: val_loss improved from 32.60270 to 32.59308, saving model to ../savedModels/VariationalEncoderModel_2.h5\n",
      "711/711 [==============================] - 3s 4ms/step - loss: 32.5462 - val_loss: 32.5931\n",
      "Epoch 83/500\n",
      "699/711 [============================>.] - ETA: 0s - loss: 32.5087\n",
      "Epoch 00083: val_loss did not improve from 32.59308\n",
      "711/711 [==============================] - 3s 4ms/step - loss: 32.5080 - val_loss: 32.6404\n",
      "Epoch 84/500\n",
      "707/711 [============================>.] - ETA: 0s - loss: 32.4756\n",
      "Epoch 00084: val_loss improved from 32.59308 to 32.55689, saving model to ../savedModels/VariationalEncoderModel_2.h5\n",
      "711/711 [==============================] - 3s 4ms/step - loss: 32.4794 - val_loss: 32.5569\n",
      "Epoch 85/500\n",
      "711/711 [==============================] - ETA: 0s - loss: 32.4698\n",
      "Epoch 00085: val_loss did not improve from 32.55689\n",
      "711/711 [==============================] - 3s 4ms/step - loss: 32.4698 - val_loss: 32.5644\n",
      "Epoch 86/500\n",
      "698/711 [============================>.] - ETA: 0s - loss: 32.4544\n",
      "Epoch 00086: val_loss improved from 32.55689 to 32.48016, saving model to ../savedModels/VariationalEncoderModel_2.h5\n",
      "711/711 [==============================] - 3s 4ms/step - loss: 32.4639 - val_loss: 32.4802\n",
      "Epoch 87/500\n",
      "701/711 [============================>.] - ETA: 0s - loss: 32.4338\n",
      "Epoch 00087: val_loss did not improve from 32.48016\n",
      "711/711 [==============================] - 3s 4ms/step - loss: 32.4350 - val_loss: 32.6486\n",
      "Epoch 88/500\n",
      "699/711 [============================>.] - ETA: 0s - loss: 32.4291\n",
      "Epoch 00088: val_loss did not improve from 32.48016\n",
      "711/711 [==============================] - 3s 4ms/step - loss: 32.4243 - val_loss: 32.4844\n"
     ]
    },
    {
     "name": "stdout",
     "output_type": "stream",
     "text": [
      "Epoch 89/500\n",
      "698/711 [============================>.] - ETA: 0s - loss: 32.4080\n",
      "Epoch 00089: val_loss did not improve from 32.48016\n",
      "711/711 [==============================] - 3s 4ms/step - loss: 32.4095 - val_loss: 32.5155\n",
      "Epoch 90/500\n",
      "711/711 [==============================] - ETA: 0s - loss: 32.3942\n",
      "Epoch 00090: val_loss did not improve from 32.48016\n",
      "711/711 [==============================] - 3s 4ms/step - loss: 32.3942 - val_loss: 32.5202\n",
      "Epoch 91/500\n",
      "703/711 [============================>.] - ETA: 0s - loss: 32.3912\n",
      "Epoch 00091: val_loss improved from 32.48016 to 32.46402, saving model to ../savedModels/VariationalEncoderModel_2.h5\n",
      "711/711 [==============================] - 3s 4ms/step - loss: 32.3888 - val_loss: 32.4640\n",
      "Epoch 92/500\n",
      "703/711 [============================>.] - ETA: 0s - loss: 32.3788\n",
      "Epoch 00092: val_loss improved from 32.46402 to 32.44158, saving model to ../savedModels/VariationalEncoderModel_2.h5\n",
      "711/711 [==============================] - 3s 4ms/step - loss: 32.3827 - val_loss: 32.4416\n",
      "Epoch 93/500\n",
      "711/711 [==============================] - ETA: 0s - loss: 32.3518\n",
      "Epoch 00093: val_loss improved from 32.44158 to 32.39180, saving model to ../savedModels/VariationalEncoderModel_2.h5\n",
      "711/711 [==============================] - 3s 4ms/step - loss: 32.3518 - val_loss: 32.3918\n",
      "Epoch 94/500\n",
      "706/711 [============================>.] - ETA: 0s - loss: 32.3397\n",
      "Epoch 00094: val_loss did not improve from 32.39180\n",
      "711/711 [==============================] - 3s 4ms/step - loss: 32.3350 - val_loss: 32.4583\n",
      "Epoch 95/500\n",
      "709/711 [============================>.] - ETA: 0s - loss: 32.3206\n",
      "Epoch 00095: val_loss did not improve from 32.39180\n",
      "711/711 [==============================] - 3s 4ms/step - loss: 32.3199 - val_loss: 32.3993\n",
      "Epoch 96/500\n",
      "709/711 [============================>.] - ETA: 0s - loss: 32.3086\n",
      "Epoch 00096: val_loss did not improve from 32.39180\n",
      "711/711 [==============================] - 3s 4ms/step - loss: 32.3088 - val_loss: 32.4020\n",
      "Epoch 97/500\n",
      "701/711 [============================>.] - ETA: 0s - loss: 32.2849\n",
      "Epoch 00097: val_loss improved from 32.39180 to 32.36382, saving model to ../savedModels/VariationalEncoderModel_2.h5\n",
      "711/711 [==============================] - 3s 4ms/step - loss: 32.2850 - val_loss: 32.3638\n",
      "Epoch 98/500\n",
      "707/711 [============================>.] - ETA: 0s - loss: 32.2819\n",
      "Epoch 00098: val_loss improved from 32.36382 to 32.34366, saving model to ../savedModels/VariationalEncoderModel_2.h5\n",
      "711/711 [==============================] - 3s 4ms/step - loss: 32.2826 - val_loss: 32.3437\n",
      "Epoch 99/500\n",
      "710/711 [============================>.] - ETA: 0s - loss: 32.2680\n",
      "Epoch 00099: val_loss improved from 32.34366 to 32.33495, saving model to ../savedModels/VariationalEncoderModel_2.h5\n",
      "711/711 [==============================] - 3s 4ms/step - loss: 32.2659 - val_loss: 32.3350\n",
      "Epoch 100/500\n",
      "702/711 [============================>.] - ETA: 0s - loss: 32.2683\n",
      "Epoch 00100: val_loss did not improve from 32.33495\n",
      "711/711 [==============================] - 3s 4ms/step - loss: 32.2641 - val_loss: 32.3516\n",
      "Epoch 101/500\n",
      "702/711 [============================>.] - ETA: 0s - loss: 32.2495\n",
      "Epoch 00101: val_loss did not improve from 32.33495\n",
      "711/711 [==============================] - 3s 4ms/step - loss: 32.2481 - val_loss: 32.3350\n",
      "Epoch 102/500\n",
      "700/711 [============================>.] - ETA: 0s - loss: 32.2378\n",
      "Epoch 00102: val_loss did not improve from 32.33495\n",
      "711/711 [==============================] - 3s 4ms/step - loss: 32.2385 - val_loss: 32.4046\n",
      "Epoch 103/500\n",
      "699/711 [============================>.] - ETA: 0s - loss: 32.2226\n",
      "Epoch 00103: val_loss improved from 32.33495 to 32.29400, saving model to ../savedModels/VariationalEncoderModel_2.h5\n",
      "711/711 [==============================] - 3s 4ms/step - loss: 32.2178 - val_loss: 32.2940\n",
      "Epoch 104/500\n",
      "698/711 [============================>.] - ETA: 0s - loss: 32.2067\n",
      "Epoch 00104: val_loss did not improve from 32.29400\n",
      "711/711 [==============================] - 3s 4ms/step - loss: 32.2083 - val_loss: 32.3508\n",
      "Epoch 105/500\n",
      "704/711 [============================>.] - ETA: 0s - loss: 32.2029\n",
      "Epoch 00105: val_loss improved from 32.29400 to 32.27949, saving model to ../savedModels/VariationalEncoderModel_2.h5\n",
      "711/711 [==============================] - 3s 4ms/step - loss: 32.2028 - val_loss: 32.2795\n",
      "Epoch 106/500\n",
      "708/711 [============================>.] - ETA: 0s - loss: 32.1850\n",
      "Epoch 00106: val_loss improved from 32.27949 to 32.25871, saving model to ../savedModels/VariationalEncoderModel_2.h5\n",
      "711/711 [==============================] - 3s 4ms/step - loss: 32.1805 - val_loss: 32.2587\n",
      "Epoch 107/500\n",
      "711/711 [==============================] - ETA: 0s - loss: 32.1685\n",
      "Epoch 00107: val_loss did not improve from 32.25871\n",
      "711/711 [==============================] - 3s 4ms/step - loss: 32.1685 - val_loss: 32.2814\n",
      "Epoch 108/500\n",
      "701/711 [============================>.] - ETA: 0s - loss: 32.1494\n",
      "Epoch 00108: val_loss improved from 32.25871 to 32.23775, saving model to ../savedModels/VariationalEncoderModel_2.h5\n",
      "711/711 [==============================] - 3s 4ms/step - loss: 32.1469 - val_loss: 32.2378\n",
      "Epoch 109/500\n",
      "701/711 [============================>.] - ETA: 0s - loss: 32.1595\n",
      "Epoch 00109: val_loss improved from 32.23775 to 32.19914, saving model to ../savedModels/VariationalEncoderModel_2.h5\n",
      "711/711 [==============================] - 3s 4ms/step - loss: 32.1521 - val_loss: 32.1991\n",
      "Epoch 110/500\n",
      "705/711 [============================>.] - ETA: 0s - loss: 32.1241\n",
      "Epoch 00110: val_loss did not improve from 32.19914\n",
      "711/711 [==============================] - 3s 4ms/step - loss: 32.1206 - val_loss: 32.2034\n",
      "Epoch 111/500\n",
      "705/711 [============================>.] - ETA: 0s - loss: 32.1205\n",
      "Epoch 00111: val_loss improved from 32.19914 to 32.17965, saving model to ../savedModels/VariationalEncoderModel_2.h5\n",
      "711/711 [==============================] - 3s 4ms/step - loss: 32.1199 - val_loss: 32.1796\n",
      "Epoch 112/500\n",
      "707/711 [============================>.] - ETA: 0s - loss: 32.1084\n",
      "Epoch 00112: val_loss improved from 32.17965 to 32.17413, saving model to ../savedModels/VariationalEncoderModel_2.h5\n",
      "711/711 [==============================] - 3s 4ms/step - loss: 32.1111 - val_loss: 32.1741\n",
      "Epoch 113/500\n",
      "705/711 [============================>.] - ETA: 0s - loss: 32.0841\n",
      "Epoch 00113: val_loss improved from 32.17413 to 32.15419, saving model to ../savedModels/VariationalEncoderModel_2.h5\n",
      "711/711 [==============================] - 3s 4ms/step - loss: 32.0880 - val_loss: 32.1542\n",
      "Epoch 114/500\n",
      "707/711 [============================>.] - ETA: 0s - loss: 32.0814\n",
      "Epoch 00114: val_loss did not improve from 32.15419\n",
      "711/711 [==============================] - 3s 4ms/step - loss: 32.0816 - val_loss: 32.3137\n",
      "Epoch 115/500\n",
      "705/711 [============================>.] - ETA: 0s - loss: 32.1108\n",
      "Epoch 00115: val_loss did not improve from 32.15419\n",
      "711/711 [==============================] - 3s 4ms/step - loss: 32.1108 - val_loss: 32.1783\n",
      "Epoch 116/500\n",
      "707/711 [============================>.] - ETA: 0s - loss: 32.0614\n",
      "Epoch 00116: val_loss improved from 32.15419 to 32.08329, saving model to ../savedModels/VariationalEncoderModel_2.h5\n",
      "711/711 [==============================] - 3s 4ms/step - loss: 32.0607 - val_loss: 32.0833\n",
      "Epoch 117/500\n",
      "707/711 [============================>.] - ETA: 0s - loss: 32.0466\n",
      "Epoch 00117: val_loss did not improve from 32.08329\n",
      "711/711 [==============================] - 3s 4ms/step - loss: 32.0461 - val_loss: 32.1584\n",
      "Epoch 118/500\n",
      "702/711 [============================>.] - ETA: 0s - loss: 32.0406\n",
      "Epoch 00118: val_loss did not improve from 32.08329\n",
      "711/711 [==============================] - 3s 4ms/step - loss: 32.0365 - val_loss: 32.1206\n",
      "Epoch 119/500\n",
      "702/711 [============================>.] - ETA: 0s - loss: 32.0307\n",
      "Epoch 00119: val_loss did not improve from 32.08329\n",
      "711/711 [==============================] - 3s 4ms/step - loss: 32.0232 - val_loss: 32.1523\n",
      "Epoch 120/500\n",
      "702/711 [============================>.] - ETA: 0s - loss: 32.0130\n",
      "Epoch 00120: val_loss improved from 32.08329 to 32.07141, saving model to ../savedModels/VariationalEncoderModel_2.h5\n",
      "711/711 [==============================] - 3s 4ms/step - loss: 32.0166 - val_loss: 32.0714\n"
     ]
    },
    {
     "name": "stdout",
     "output_type": "stream",
     "text": [
      "Epoch 121/500\n",
      "703/711 [============================>.] - ETA: 0s - loss: 32.0114\n",
      "Epoch 00121: val_loss improved from 32.07141 to 32.06533, saving model to ../savedModels/VariationalEncoderModel_2.h5\n",
      "711/711 [==============================] - 3s 4ms/step - loss: 32.0144 - val_loss: 32.0653\n",
      "Epoch 122/500\n",
      "708/711 [============================>.] - ETA: 0s - loss: 32.0009\n",
      "Epoch 00122: val_loss improved from 32.06533 to 32.04026, saving model to ../savedModels/VariationalEncoderModel_2.h5\n",
      "711/711 [==============================] - 3s 4ms/step - loss: 32.0030 - val_loss: 32.0403\n",
      "Epoch 123/500\n",
      "701/711 [============================>.] - ETA: 0s - loss: 32.0012\n",
      "Epoch 00123: val_loss improved from 32.04026 to 32.03185, saving model to ../savedModels/VariationalEncoderModel_2.h5\n",
      "711/711 [==============================] - 3s 4ms/step - loss: 31.9965 - val_loss: 32.0319\n",
      "Epoch 124/500\n",
      "699/711 [============================>.] - ETA: 0s - loss: 32.0085\n",
      "Epoch 00124: val_loss did not improve from 32.03185\n",
      "711/711 [==============================] - 3s 4ms/step - loss: 32.0042 - val_loss: 32.1276\n",
      "Epoch 125/500\n",
      "704/711 [============================>.] - ETA: 0s - loss: 31.9842\n",
      "Epoch 00125: val_loss did not improve from 32.03185\n",
      "711/711 [==============================] - 3s 4ms/step - loss: 31.9875 - val_loss: 32.0520\n",
      "Epoch 126/500\n",
      "699/711 [============================>.] - ETA: 0s - loss: 31.9809\n",
      "Epoch 00126: val_loss did not improve from 32.03185\n",
      "711/711 [==============================] - 3s 4ms/step - loss: 31.9802 - val_loss: 32.0819\n",
      "Epoch 127/500\n",
      "697/711 [============================>.] - ETA: 0s - loss: 31.9743\n",
      "Epoch 00127: val_loss did not improve from 32.03185\n",
      "711/711 [==============================] - 3s 4ms/step - loss: 31.9661 - val_loss: 32.0879\n",
      "Epoch 128/500\n",
      "709/711 [============================>.] - ETA: 0s - loss: 31.9430\n",
      "Epoch 00128: val_loss did not improve from 32.03185\n",
      "711/711 [==============================] - 3s 4ms/step - loss: 31.9422 - val_loss: 32.0791\n",
      "Epoch 129/500\n",
      "710/711 [============================>.] - ETA: 0s - loss: 31.9495\n",
      "Epoch 00129: val_loss improved from 32.03185 to 32.02134, saving model to ../savedModels/VariationalEncoderModel_2.h5\n",
      "711/711 [==============================] - 3s 4ms/step - loss: 31.9480 - val_loss: 32.0213\n",
      "Epoch 130/500\n",
      "704/711 [============================>.] - ETA: 0s - loss: 31.9604\n",
      "Epoch 00130: val_loss improved from 32.02134 to 31.99878, saving model to ../savedModels/VariationalEncoderModel_2.h5\n",
      "711/711 [==============================] - 3s 4ms/step - loss: 31.9556 - val_loss: 31.9988\n",
      "Epoch 131/500\n",
      "706/711 [============================>.] - ETA: 0s - loss: 31.9320\n",
      "Epoch 00131: val_loss improved from 31.99878 to 31.95000, saving model to ../savedModels/VariationalEncoderModel_2.h5\n",
      "711/711 [==============================] - 3s 4ms/step - loss: 31.9296 - val_loss: 31.9500\n",
      "Epoch 132/500\n",
      "709/711 [============================>.] - ETA: 0s - loss: 31.9205\n",
      "Epoch 00132: val_loss did not improve from 31.95000\n",
      "711/711 [==============================] - 3s 4ms/step - loss: 31.9215 - val_loss: 32.0145\n",
      "Epoch 133/500\n",
      "700/711 [============================>.] - ETA: 0s - loss: 31.9146\n",
      "Epoch 00133: val_loss did not improve from 31.95000\n",
      "711/711 [==============================] - 3s 4ms/step - loss: 31.9105 - val_loss: 31.9766\n",
      "Epoch 134/500\n",
      "708/711 [============================>.] - ETA: 0s - loss: 31.9056\n",
      "Epoch 00134: val_loss did not improve from 31.95000\n",
      "711/711 [==============================] - 3s 4ms/step - loss: 31.9067 - val_loss: 32.0665\n",
      "Epoch 135/500\n",
      "700/711 [============================>.] - ETA: 0s - loss: 31.9033\n",
      "Epoch 00135: val_loss did not improve from 31.95000\n",
      "711/711 [==============================] - 3s 4ms/step - loss: 31.9080 - val_loss: 31.9803\n",
      "Epoch 136/500\n",
      "701/711 [============================>.] - ETA: 0s - loss: 31.8710\n",
      "Epoch 00136: val_loss did not improve from 31.95000\n",
      "711/711 [==============================] - 3s 4ms/step - loss: 31.8731 - val_loss: 31.9733\n",
      "Epoch 137/500\n",
      "698/711 [============================>.] - ETA: 0s - loss: 31.8747\n",
      "Epoch 00137: val_loss did not improve from 31.95000\n",
      "711/711 [==============================] - 3s 4ms/step - loss: 31.8744 - val_loss: 31.9899\n",
      "Epoch 138/500\n",
      "699/711 [============================>.] - ETA: 0s - loss: 31.8835\n",
      "Epoch 00138: val_loss improved from 31.95000 to 31.94543, saving model to ../savedModels/VariationalEncoderModel_2.h5\n",
      "711/711 [==============================] - 3s 4ms/step - loss: 31.8825 - val_loss: 31.9454\n",
      "Epoch 139/500\n",
      "707/711 [============================>.] - ETA: 0s - loss: 31.8803\n",
      "Epoch 00139: val_loss did not improve from 31.94543\n",
      "711/711 [==============================] - 3s 4ms/step - loss: 31.8816 - val_loss: 32.0969\n",
      "Epoch 140/500\n",
      "696/711 [============================>.] - ETA: 0s - loss: 31.8715\n",
      "Epoch 00140: val_loss did not improve from 31.94543\n",
      "711/711 [==============================] - 3s 4ms/step - loss: 31.8748 - val_loss: 32.0139\n",
      "Epoch 141/500\n",
      "707/711 [============================>.] - ETA: 0s - loss: 31.8566\n",
      "Epoch 00141: val_loss did not improve from 31.94543\n",
      "711/711 [==============================] - 3s 4ms/step - loss: 31.8603 - val_loss: 31.9513\n",
      "Epoch 142/500\n",
      "710/711 [============================>.] - ETA: 0s - loss: 31.8452\n",
      "Epoch 00142: val_loss improved from 31.94543 to 31.92328, saving model to ../savedModels/VariationalEncoderModel_2.h5\n",
      "711/711 [==============================] - 3s 4ms/step - loss: 31.8458 - val_loss: 31.9233\n",
      "Epoch 143/500\n",
      "705/711 [============================>.] - ETA: 0s - loss: 31.8394\n",
      "Epoch 00143: val_loss improved from 31.92328 to 31.91734, saving model to ../savedModels/VariationalEncoderModel_2.h5\n",
      "711/711 [==============================] - 3s 4ms/step - loss: 31.8450 - val_loss: 31.9173\n",
      "Epoch 144/500\n",
      "710/711 [============================>.] - ETA: 0s - loss: 31.8421\n",
      "Epoch 00144: val_loss did not improve from 31.91734\n",
      "711/711 [==============================] - 3s 4ms/step - loss: 31.8429 - val_loss: 31.9887\n",
      "Epoch 145/500\n",
      "703/711 [============================>.] - ETA: 0s - loss: 31.8309\n",
      "Epoch 00145: val_loss improved from 31.91734 to 31.90421, saving model to ../savedModels/VariationalEncoderModel_2.h5\n",
      "711/711 [==============================] - 3s 4ms/step - loss: 31.8322 - val_loss: 31.9042\n",
      "Epoch 146/500\n",
      "705/711 [============================>.] - ETA: 0s - loss: 31.8322\n",
      "Epoch 00146: val_loss did not improve from 31.90421\n",
      "711/711 [==============================] - 3s 4ms/step - loss: 31.8316 - val_loss: 31.9334\n",
      "Epoch 147/500\n",
      "706/711 [============================>.] - ETA: 0s - loss: 31.8246\n",
      "Epoch 00147: val_loss did not improve from 31.90421\n",
      "711/711 [==============================] - 3s 4ms/step - loss: 31.8216 - val_loss: 31.9046\n",
      "Epoch 148/500\n",
      "706/711 [============================>.] - ETA: 0s - loss: 43.2750\n",
      "Epoch 00148: val_loss did not improve from 31.90421\n",
      "711/711 [==============================] - 3s 4ms/step - loss: 43.2891 - val_loss: 43.9190\n",
      "Epoch 149/500\n",
      "700/711 [============================>.] - ETA: 0s - loss: 41.5063\n",
      "Epoch 00149: val_loss did not improve from 31.90421\n",
      "711/711 [==============================] - 3s 4ms/step - loss: 41.4710 - val_loss: 39.2519\n",
      "Epoch 150/500\n",
      "711/711 [==============================] - ETA: 0s - loss: 38.0577\n",
      "Epoch 00150: val_loss did not improve from 31.90421\n",
      "711/711 [==============================] - 3s 4ms/step - loss: 38.0577 - val_loss: 37.6928\n",
      "Epoch 151/500\n",
      "702/711 [============================>.] - ETA: 0s - loss: 36.6383\n",
      "Epoch 00151: val_loss did not improve from 31.90421\n",
      "711/711 [==============================] - 3s 4ms/step - loss: 36.6315 - val_loss: 36.1967\n",
      "Epoch 152/500\n",
      "704/711 [============================>.] - ETA: 0s - loss: 35.5308\n",
      "Epoch 00152: val_loss did not improve from 31.90421\n",
      "711/711 [==============================] - 3s 4ms/step - loss: 35.5396 - val_loss: 36.3917\n",
      "Epoch 153/500\n",
      "704/711 [============================>.] - ETA: 0s - loss: 34.6764\n",
      "Epoch 00153: val_loss did not improve from 31.90421\n",
      "711/711 [==============================] - 3s 4ms/step - loss: 34.6766 - val_loss: 34.4642\n",
      "Epoch 154/500\n",
      "702/711 [============================>.] - ETA: 0s - loss: 34.0364\n",
      "Epoch 00154: val_loss did not improve from 31.90421\n",
      "711/711 [==============================] - 3s 4ms/step - loss: 34.0267 - val_loss: 33.8733\n"
     ]
    },
    {
     "name": "stdout",
     "output_type": "stream",
     "text": [
      "Epoch 155/500\n",
      "703/711 [============================>.] - ETA: 0s - loss: 33.5255\n",
      "Epoch 00155: val_loss did not improve from 31.90421\n",
      "711/711 [==============================] - 3s 4ms/step - loss: 33.5200 - val_loss: 33.4154\n",
      "Epoch 156/500\n",
      "704/711 [============================>.] - ETA: 0s - loss: 33.1434\n",
      "Epoch 00156: val_loss did not improve from 31.90421\n",
      "711/711 [==============================] - 3s 4ms/step - loss: 33.1366 - val_loss: 33.0443\n",
      "Epoch 157/500\n",
      "708/711 [============================>.] - ETA: 0s - loss: 32.8024\n",
      "Epoch 00157: val_loss did not improve from 31.90421\n",
      "711/711 [==============================] - 3s 4ms/step - loss: 32.8000 - val_loss: 32.7997\n",
      "Epoch 158/500\n",
      "703/711 [============================>.] - ETA: 0s - loss: 32.5179\n",
      "Epoch 00158: val_loss did not improve from 31.90421\n",
      "711/711 [==============================] - 3s 4ms/step - loss: 32.5122 - val_loss: 32.4923\n",
      "Epoch 159/500\n",
      "710/711 [============================>.] - ETA: 0s - loss: 32.3007\n",
      "Epoch 00159: val_loss did not improve from 31.90421\n",
      "711/711 [==============================] - 3s 4ms/step - loss: 32.3032 - val_loss: 32.6178\n",
      "Epoch 160/500\n",
      "699/711 [============================>.] - ETA: 0s - loss: 32.1567\n",
      "Epoch 00160: val_loss did not improve from 31.90421\n",
      "711/711 [==============================] - 3s 4ms/step - loss: 32.1509 - val_loss: 32.2027\n",
      "Epoch 161/500\n",
      "702/711 [============================>.] - ETA: 0s - loss: 32.0447\n",
      "Epoch 00161: val_loss did not improve from 31.90421\n",
      "711/711 [==============================] - 3s 4ms/step - loss: 32.0437 - val_loss: 32.0802\n",
      "Epoch 162/500\n",
      "699/711 [============================>.] - ETA: 0s - loss: 31.9742\n",
      "Epoch 00162: val_loss did not improve from 31.90421\n",
      "711/711 [==============================] - 3s 4ms/step - loss: 31.9796 - val_loss: 32.0268\n",
      "Epoch 163/500\n",
      "698/711 [============================>.] - ETA: 0s - loss: 31.9242\n",
      "Epoch 00163: val_loss did not improve from 31.90421\n",
      "711/711 [==============================] - 3s 4ms/step - loss: 31.9224 - val_loss: 31.9786\n",
      "Epoch 164/500\n",
      "706/711 [============================>.] - ETA: 0s - loss: 31.8808\n",
      "Epoch 00164: val_loss did not improve from 31.90421\n",
      "711/711 [==============================] - 3s 4ms/step - loss: 31.8788 - val_loss: 31.9271\n",
      "Epoch 165/500\n",
      "711/711 [==============================] - ETA: 0s - loss: 31.8499\n",
      "Epoch 00165: val_loss did not improve from 31.90421\n",
      "Restoring model weights from the end of the best epoch.\n",
      "711/711 [==============================] - 3s 4ms/step - loss: 31.8499 - val_loss: 31.9410\n",
      "Epoch 00165: early stopping\n"
     ]
    }
   ],
   "source": [
    "history = VAE.fit(train,epochs=epochs,shuffle=True,\n",
    "                          verbose=1,validation_data=dev,\n",
    "                          callbacks=[checkpoint,earlystop])"
   ]
  },
  {
   "cell_type": "code",
   "execution_count": 19,
   "metadata": {
    "scrolled": false
   },
   "outputs": [
    {
     "data": {
      "image/png": "[encoded data removed]",
      "text/plain": [
       "<Figure size 432x288 with 1 Axes>"
      ]
     },
     "metadata": {
      "needs_background": "light"
     },
     "output_type": "display_data"
    }
   ],
   "source": [
    "plot_loss(history)"
   ]
  },
  {
   "cell_type": "code",
   "execution_count": 9,
   "metadata": {},
   "outputs": [
    {
     "name": "stdout",
     "output_type": "stream",
     "text": [
      "WARNING:tensorflow:From /home/mindy/.venv/tf/lib/python3.6/site-packages/tensorflow/python/ops/linalg/linear_operator_lower_triangular.py:158: calling LinearOperator.__init__ (from tensorflow.python.ops.linalg.linear_operator) with graph_parents is deprecated and will be removed in a future version.\n",
      "Instructions for updating:\n",
      "Do not pass `graph_parents`.  They will  no longer be used.\n"
     ]
    }
   ],
   "source": [
    "encoder, decoder, VAE = create_model(input_size, encoded_size)"
   ]
  },
  {
   "cell_type": "code",
   "execution_count": 11,
   "metadata": {},
   "outputs": [],
   "source": [
    "VAE.load_weights(\"../savedModels/VariationalEncoderModel.h5\")"
   ]
  },
  {
   "cell_type": "markdown",
   "metadata": {},
   "source": [
    "### create monte carlo to generate output log prob score for anomaly prediction"
   ]
  },
  {
   "cell_type": "code",
   "execution_count": 12,
   "metadata": {},
   "outputs": [],
   "source": [
    "test = pd.read_csv(\"../processedData/hold_outset_moreFraud.csv\")"
   ]
  },
  {
   "cell_type": "code",
   "execution_count": 13,
   "metadata": {},
   "outputs": [],
   "source": [
    "test_tf_data, label = test.drop(\"Class\",axis=1).values, test[\"Class\"]"
   ]
  },
  {
   "cell_type": "code",
   "execution_count": 14,
   "metadata": {
    "scrolled": false
   },
   "outputs": [
    {
     "name": "stdout",
     "output_type": "stream",
     "text": [
      "WARNING:tensorflow:Model was constructed with shape (None, 5) for input Tensor(\"input_2:0\", shape=(None, 5), dtype=float32), but it was called on an input with incompatible shape (100, 57350, 5).\n"
     ]
    }
   ],
   "source": [
    "x_log_prob = reconstruction_log_prob(test_tf_data,encoder,decoder)"
   ]
  },
  {
   "cell_type": "code",
   "execution_count": 15,
   "metadata": {
    "scrolled": true
   },
   "outputs": [
    {
     "data": {
      "image/png": "[encoded data removed]",
      "text/plain": [
       "<Figure size 432x288 with 1 Axes>"
      ]
     },
     "metadata": {
      "needs_background": "light"
     },
     "output_type": "display_data"
    }
   ],
   "source": [
    "neg_log_prob(-x_log_prob,label)"
   ]
  },
  {
   "cell_type": "code",
   "execution_count": 16,
   "metadata": {},
   "outputs": [
    {
     "data": {
      "image/png": "[encoded data removed]",
      "text/plain": [
       "<Figure size 432x288 with 1 Axes>"
      ]
     },
     "metadata": {
      "needs_background": "light"
     },
     "output_type": "display_data"
    }
   ],
   "source": [
    "plot_roc(label,-x_log_prob)"
   ]
  },
  {
   "cell_type": "markdown",
   "metadata": {},
   "source": [
    "### Choose a threshold that gives a good overall class1 recall "
   ]
  },
  {
   "cell_type": "code",
   "execution_count": 23,
   "metadata": {},
   "outputs": [
    {
     "name": "stdout",
     "output_type": "stream",
     "text": [
      "[[56717   141]\n",
      " [  131   361]]\n",
      "              precision    recall  f1-score   support\n",
      "\n",
      "           0       1.00      1.00      1.00     56858\n",
      "           1       0.72      0.73      0.73       492\n",
      "\n",
      "    accuracy                           1.00     57350\n",
      "   macro avg       0.86      0.87      0.86     57350\n",
      "weighted avg       1.00      1.00      1.00     57350\n",
      "\n"
     ]
    }
   ],
   "source": [
    "model_results(label,-x_log_prob,75)"
   ]
  }
 ],
 "metadata": {
  "kernelspec": {
   "display_name": "Python 3",
   "language": "python",
   "name": "python3"
  },
  "language_info": {
   "codemirror_mode": {
    "name": "ipython",
    "version": 3
   },
   "file_extension": ".py",
   "mimetype": "text/x-python",
   "name": "python",
   "nbconvert_exporter": "python",
   "pygments_lexer": "ipython3",
   "version": "3.6.9"
  }
 },
 "nbformat": 4,
 "nbformat_minor": 4
}
