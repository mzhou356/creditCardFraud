{
 "cells": [
  {
   "cell_type": "code",
   "execution_count": 1,
   "metadata": {},
   "outputs": [],
   "source": [
    "import sys\n",
    "import numpy as np\n",
    "import pandas as pd \n",
    "import tensorflow_probability as tfp\n",
    "import tensorflow.compat.v2 as tf\n",
    "import matplotlib.pyplot as plt \n",
    "%matplotlib inline\n",
    "from sklearn.metrics import confusion_matrix, classification_report, roc_curve, roc_auc_score\n",
    "sys.path.append(\"/home/mindy/Documents/projects/creditCardFraud/scripts/\")"
   ]
  },
  {
   "cell_type": "code",
   "execution_count": 2,
   "metadata": {},
   "outputs": [],
   "source": [
    "tfk = tf.keras\n",
    "tfkl=tf.keras.layers\n",
    "tfpl= tfp.layers         # layers for tensor flow probability \n",
    "tfd = tfp.distributions # distribution layer "
   ]
  },
  {
   "cell_type": "code",
   "execution_count": 3,
   "metadata": {},
   "outputs": [],
   "source": [
    "from util import *\n",
    "%load_ext autoreload\n",
    "%autoreload 2"
   ]
  },
  {
   "cell_type": "code",
   "execution_count": 4,
   "metadata": {},
   "outputs": [
    {
     "data": {
      "text/plain": [
       "'/device:GPU:0'"
      ]
     },
     "execution_count": 4,
     "metadata": {},
     "output_type": "execute_result"
    }
   ],
   "source": [
    "# make sure GPU is running \n",
    "tf.test.gpu_device_name()"
   ]
  },
  {
   "cell_type": "markdown",
   "metadata": {},
   "source": [
    "## Import training and dev data and convert to numpy array for NN "
   ]
  },
  {
   "cell_type": "code",
   "execution_count": 5,
   "metadata": {},
   "outputs": [],
   "source": [
    "train = pd.read_csv(\"../processedData/TrainingData_normal.csv\").values\n",
    "dev = pd.read_csv(\"../processedData/DevData_normal.csv\").values"
   ]
  },
  {
   "cell_type": "markdown",
   "metadata": {},
   "source": [
    "### converting into tf data set to allow simple efficient data pipelines. \n",
    "* In autoencoder, you are predicting the original input x \n",
    "* shuffle and train data in batches with 1000 epochs "
   ]
  },
  {
   "cell_type": "code",
   "execution_count": 6,
   "metadata": {},
   "outputs": [],
   "source": [
    "buffer_size = 10000\n",
    "batch_size = 256\n",
    "epochs = 200\n",
    "input_size = train.shape[1]\n",
    "encoded_size = 3"
   ]
  },
  {
   "cell_type": "code",
   "execution_count": 7,
   "metadata": {},
   "outputs": [],
   "source": [
    "train = tf.data.Dataset.from_tensor_slices((train,train)).batch(batch_size).prefetch(tf.data.experimental.AUTOTUNE).shuffle(buffer_size)\n",
    "dev = tf.data.Dataset.from_tensor_slices((dev,dev)).batch(batch_size).prefetch(tf.data.experimental.AUTOTUNE).shuffle(buffer_size)"
   ]
  },
  {
   "cell_type": "markdown",
   "metadata": {},
   "source": [
    "### set up checkpoint and other settings "
   ]
  },
  {
   "cell_type": "code",
   "execution_count": 8,
   "metadata": {},
   "outputs": [],
   "source": [
    "checkpoint = tfk.callbacks.ModelCheckpoint(\"../savedModels/VariationalEncoderModel.h5\",verbose=1,save_best_only=True)\n",
    "earlystop = tfk.callbacks.EarlyStopping(monitor=\"val_loss\", mode=\"min\", min_delta=0.001, patience=20, verbose=1, restore_best_weights=True)"
   ]
  },
  {
   "cell_type": "markdown",
   "metadata": {},
   "source": [
    "### For variational autoencoder we need to maximize ELBO (evidence lower bound objective):\n",
    "\n",
    "$$ELBO(x)= \\int dzq(z|x)logp(x|z) + \\int dzq(z|x)log\\frac{q(z|x)}{p(z)} $$\n",
    "\n",
    "* p(z): the prior on the latent representation z (last layer of encoder) \n",
    "* q(z|x_input): the encoder (how likely is z given x_input)\n",
    "* p(x_hat|z): the decoder (how likely is x_hat given z) \n",
    "* $\\int dzq(z|x)logp(x|z)$: reconstructin term. (how likely for us to get output_x given input_x and encode to z then decode to x_output) \n",
    "* $\\int dzq(z|x)log\\frac{q(z|x)}{p(z)} $: KL divergence. How similar are the encoder distribution and the prior distribution. "
   ]
  },
  {
   "cell_type": "markdown",
   "metadata": {},
   "source": [
    "### Prior distribution for z: \n",
    "\n",
    "* Since this is latent representation (noise has been removed), it is okay to assume multivariate normal distribution with non zero covariance (features are not independent) "
   ]
  },
  {
   "cell_type": "code",
   "execution_count": 7,
   "metadata": {},
   "outputs": [],
   "source": [
    "prior = tfd.MultivariateNormalDiag(loc=tf.zeros([encoded_size]),\n",
    "                                  scale_identity_multiplier=1.0)"
   ]
  },
  {
   "cell_type": "markdown",
   "metadata": {},
   "source": [
    "## encoder model for autoencoder:\n",
    "* encoder: 3 layers:\n",
    "  * 3 dense layers \n",
    "  * 3 dimensional multivariable non zero covariance normal distribution"
   ]
  },
  {
   "cell_type": "code",
   "execution_count": 8,
   "metadata": {},
   "outputs": [
    {
     "name": "stdout",
     "output_type": "stream",
     "text": [
      "WARNING:tensorflow:From /home/mindy/.venv/tf/lib/python3.6/site-packages/tensorflow/python/ops/linalg/linear_operator_lower_triangular.py:158: calling LinearOperator.__init__ (from tensorflow.python.ops.linalg.linear_operator) with graph_parents is deprecated and will be removed in a future version.\n",
      "Instructions for updating:\n",
      "Do not pass `graph_parents`.  They will  no longer be used.\n",
      "Model: \"encoder\"\n",
      "_________________________________________________________________\n",
      "Layer (type)                 Output Shape              Param #   \n",
      "=================================================================\n",
      "dense (Dense)                (None, 20)                620       \n",
      "_________________________________________________________________\n",
      "dense_1 (Dense)              (None, 10)                210       \n",
      "_________________________________________________________________\n",
      "dense_2 (Dense)              (None, 7)                 77        \n",
      "_________________________________________________________________\n",
      "dense_3 (Dense)              (None, 9)                 72        \n",
      "_________________________________________________________________\n",
      "multivariate_normal_tri_l (M ((None, 3), (None, 3))    0         \n",
      "=================================================================\n",
      "Total params: 979\n",
      "Trainable params: 979\n",
      "Non-trainable params: 0\n",
      "_________________________________________________________________\n"
     ]
    }
   ],
   "source": [
    "encoder = tfk.Sequential([\n",
    "    tfkl.InputLayer(input_shape = 30),  # 30 input features \n",
    "    tfkl.Dense(units=20, activation=tf.nn.leaky_relu, activity_regularizer=tfk.regularizers.l1(10e-5)),\n",
    "    tfkl.Dense(units=10, activation=tf.nn.leaky_relu, activity_regularizer=tfk.regularizers.l1(10e-5)),\n",
    "    tfkl.Dense(units=7, activation =tf.nn.leaky_relu, activity_regularizer=tfk.regularizers.l1(10e-5)),\n",
    "    tfkl.Dense(tfpl.MultivariateNormalTriL.params_size(encoded_size),activation=None),\n",
    "    tfpl.MultivariateNormalTriL(encoded_size,activity_regularizer=tfpl.KLDivergenceRegularizer(prior))\n",
    "    ], name=\"encoder\")\n",
    "encoder.summary()    "
   ]
  },
  {
   "cell_type": "markdown",
   "metadata": {},
   "source": [
    "## decoder model for autoencoder:\n",
    "* decoder: 3 layers:\n",
    "   * 3 dense layers\n",
    "   * independent normal distributions as output "
   ]
  },
  {
   "cell_type": "code",
   "execution_count": 9,
   "metadata": {},
   "outputs": [
    {
     "name": "stdout",
     "output_type": "stream",
     "text": [
      "Model: \"decoder\"\n",
      "_________________________________________________________________\n",
      "Layer (type)                 Output Shape              Param #   \n",
      "=================================================================\n",
      "dense_4 (Dense)              (None, 7)                 28        \n",
      "_________________________________________________________________\n",
      "dense_5 (Dense)              (None, 10)                80        \n",
      "_________________________________________________________________\n",
      "dense_6 (Dense)              (None, 20)                220       \n",
      "_________________________________________________________________\n",
      "dense_7 (Dense)              (None, 60)                1260      \n",
      "_________________________________________________________________\n",
      "independent_normal (Independ ((None, 30), (None, 30))  0         \n",
      "=================================================================\n",
      "Total params: 1,588\n",
      "Trainable params: 1,588\n",
      "Non-trainable params: 0\n",
      "_________________________________________________________________\n"
     ]
    }
   ],
   "source": [
    "decoder = tfk.Sequential([\n",
    "    tfkl.InputLayer(input_shape=[encoded_size]),\n",
    "    tfkl.Dense(units=7, activation=tf.nn.leaky_relu, activity_regularizer=tfk.regularizers.l1(10e-5)),\n",
    "    tfkl.Dense(units=10, activation=tf.nn.leaky_relu, activity_regularizer=tfk.regularizers.l1(10e-5)),\n",
    "    tfkl.Dense(units=20, activation=tf.nn.leaky_relu, activity_regularizer=tfk.regularizers.l1(10e-5)),\n",
    "    tfkl.Dense(tfpl.IndependentNormal.params_size(input_size),activation=None),\n",
    "    tfpl.IndependentNormal(input_size)\n",
    "    ], name = \"decoder\")\n",
    "decoder.summary()"
   ]
  },
  {
   "cell_type": "markdown",
   "metadata": {},
   "source": [
    "### Add encoders together \n"
   ]
  },
  {
   "cell_type": "code",
   "execution_count": 10,
   "metadata": {},
   "outputs": [],
   "source": [
    "VAE = tfk.Model(inputs=encoder.inputs, outputs=decoder(encoder.outputs[0]),name=\"VAE\")"
   ]
  },
  {
   "cell_type": "code",
   "execution_count": 11,
   "metadata": {
    "scrolled": false
   },
   "outputs": [
    {
     "name": "stdout",
     "output_type": "stream",
     "text": [
      "Model: \"VAE\"\n",
      "_________________________________________________________________\n",
      "Layer (type)                 Output Shape              Param #   \n",
      "=================================================================\n",
      "input_1 (InputLayer)         [(None, 30)]              0         \n",
      "_________________________________________________________________\n",
      "dense (Dense)                (None, 20)                620       \n",
      "_________________________________________________________________\n",
      "dense_1 (Dense)              (None, 10)                210       \n",
      "_________________________________________________________________\n",
      "dense_2 (Dense)              (None, 7)                 77        \n",
      "_________________________________________________________________\n",
      "dense_3 (Dense)              (None, 9)                 72        \n",
      "_________________________________________________________________\n",
      "multivariate_normal_tri_l (M ((None, 3), (None, 3))    0         \n",
      "_________________________________________________________________\n",
      "decoder (Sequential)         (None, 30)                1588      \n",
      "=================================================================\n",
      "Total params: 2,567\n",
      "Trainable params: 2,567\n",
      "Non-trainable params: 0\n",
      "_________________________________________________________________\n"
     ]
    }
   ],
   "source": [
    "VAE.summary()"
   ]
  },
  {
   "cell_type": "markdown",
   "metadata": {},
   "source": [
    "### define reconstruction loss"
   ]
  },
  {
   "cell_type": "code",
   "execution_count": 12,
   "metadata": {},
   "outputs": [],
   "source": [
    "negloglik = lambda x_input, x_output: -x_output.log_prob(x_input)"
   ]
  },
  {
   "cell_type": "markdown",
   "metadata": {},
   "source": [
    "### compile the model and train model"
   ]
  },
  {
   "cell_type": "code",
   "execution_count": 13,
   "metadata": {},
   "outputs": [],
   "source": [
    "VAE.compile(optimizer=tf.optimizers.Adam(learning_rate=1e-3), loss=negloglik)"
   ]
  },
  {
   "cell_type": "code",
   "execution_count": null,
   "metadata": {
    "scrolled": false
   },
   "outputs": [
    {
     "name": "stdout",
     "output_type": "stream",
     "text": [
      "Epoch 1/200\n",
      "707/711 [============================>.] - ETA: 0s - loss: 57.5664\n",
      "Epoch 00001: val_loss improved from inf to 42.50559, saving model to ../savedModels/VariationalEncoderModel.h5\n",
      "711/711 [==============================] - 4s 5ms/step - loss: 57.4811 - val_loss: 42.5056\n",
      "Epoch 2/200\n",
      "709/711 [============================>.] - ETA: 0s - loss: 39.1914\n",
      "Epoch 00002: val_loss improved from 42.50559 to 36.62857, saving model to ../savedModels/VariationalEncoderModel.h5\n",
      "711/711 [==============================] - 3s 5ms/step - loss: 39.1852 - val_loss: 36.6286\n",
      "Epoch 3/200\n",
      "703/711 [============================>.] - ETA: 0s - loss: 36.0949\n",
      "Epoch 00003: val_loss improved from 36.62857 to 35.79831, saving model to ../savedModels/VariationalEncoderModel.h5\n",
      "711/711 [==============================] - 4s 5ms/step - loss: 36.0838 - val_loss: 35.7983\n",
      "Epoch 4/200\n",
      "707/711 [============================>.] - ETA: 0s - loss: 35.5486\n",
      "Epoch 00004: val_loss improved from 35.79831 to 35.41450, saving model to ../savedModels/VariationalEncoderModel.h5\n",
      "711/711 [==============================] - 3s 5ms/step - loss: 35.5497 - val_loss: 35.4145\n",
      "Epoch 5/200\n",
      "707/711 [============================>.] - ETA: 0s - loss: 35.2329\n",
      "Epoch 00005: val_loss improved from 35.41450 to 35.18483, saving model to ../savedModels/VariationalEncoderModel.h5\n",
      "711/711 [==============================] - 3s 5ms/step - loss: 35.2337 - val_loss: 35.1848\n",
      "Epoch 6/200\n",
      "709/711 [============================>.] - ETA: 0s - loss: 35.0614\n",
      "Epoch 00006: val_loss improved from 35.18483 to 35.03589, saving model to ../savedModels/VariationalEncoderModel.h5\n",
      "711/711 [==============================] - 4s 5ms/step - loss: 35.0626 - val_loss: 35.0359\n",
      "Epoch 7/200\n",
      "709/711 [============================>.] - ETA: 0s - loss: 34.9369\n",
      "Epoch 00007: val_loss improved from 35.03589 to 34.94521, saving model to ../savedModels/VariationalEncoderModel.h5\n",
      "711/711 [==============================] - 3s 5ms/step - loss: 34.9368 - val_loss: 34.9452\n",
      "Epoch 8/200\n",
      "702/711 [============================>.] - ETA: 0s - loss: 34.8179\n",
      "Epoch 00008: val_loss improved from 34.94521 to 34.82312, saving model to ../savedModels/VariationalEncoderModel.h5\n",
      "711/711 [==============================] - 3s 5ms/step - loss: 34.8181 - val_loss: 34.8231\n",
      "Epoch 9/200\n",
      "700/711 [============================>.] - ETA: 0s - loss: 34.7298\n",
      "Epoch 00009: val_loss improved from 34.82312 to 34.73678, saving model to ../savedModels/VariationalEncoderModel.h5\n",
      "711/711 [==============================] - 3s 5ms/step - loss: 34.7294 - val_loss: 34.7368\n",
      "Epoch 10/200\n",
      "711/711 [==============================] - ETA: 0s - loss: 34.6573\n",
      "Epoch 00010: val_loss improved from 34.73678 to 34.67310, saving model to ../savedModels/VariationalEncoderModel.h5\n",
      "711/711 [==============================] - 4s 5ms/step - loss: 34.6573 - val_loss: 34.6731\n",
      "Epoch 11/200\n",
      "710/711 [============================>.] - ETA: 0s - loss: 34.5837\n",
      "Epoch 00011: val_loss improved from 34.67310 to 34.62886, saving model to ../savedModels/VariationalEncoderModel.h5\n",
      "711/711 [==============================] - 3s 5ms/step - loss: 34.5834 - val_loss: 34.6289\n",
      "Epoch 12/200\n",
      "705/711 [============================>.] - ETA: 0s - loss: 34.5146\n",
      "Epoch 00012: val_loss improved from 34.62886 to 34.54119, saving model to ../savedModels/VariationalEncoderModel.h5\n",
      "711/711 [==============================] - 3s 5ms/step - loss: 34.5174 - val_loss: 34.5412\n",
      "Epoch 13/200\n",
      "701/711 [============================>.] - ETA: 0s - loss: 34.4386\n",
      "Epoch 00013: val_loss improved from 34.54119 to 34.48795, saving model to ../savedModels/VariationalEncoderModel.h5\n",
      "711/711 [==============================] - 3s 5ms/step - loss: 34.4416 - val_loss: 34.4880\n",
      "Epoch 14/200\n",
      "702/711 [============================>.] - ETA: 0s - loss: 34.3853\n",
      "Epoch 00014: val_loss improved from 34.48795 to 34.42044, saving model to ../savedModels/VariationalEncoderModel.h5\n",
      "711/711 [==============================] - 3s 5ms/step - loss: 34.3809 - val_loss: 34.4204\n",
      "Epoch 15/200\n",
      "711/711 [==============================] - ETA: 0s - loss: 34.3208\n",
      "Epoch 00015: val_loss improved from 34.42044 to 34.38705, saving model to ../savedModels/VariationalEncoderModel.h5\n",
      "711/711 [==============================] - 3s 5ms/step - loss: 34.3208 - val_loss: 34.3871\n",
      "Epoch 16/200\n",
      "701/711 [============================>.] - ETA: 0s - loss: 34.2866\n",
      "Epoch 00016: val_loss improved from 34.38705 to 34.32732, saving model to ../savedModels/VariationalEncoderModel.h5\n",
      "711/711 [==============================] - 3s 5ms/step - loss: 34.2845 - val_loss: 34.3273\n",
      "Epoch 17/200\n",
      "703/711 [============================>.] - ETA: 0s - loss: 34.2517\n",
      "Epoch 00017: val_loss improved from 34.32732 to 34.30377, saving model to ../savedModels/VariationalEncoderModel.h5\n",
      "711/711 [==============================] - 3s 5ms/step - loss: 34.2501 - val_loss: 34.3038\n",
      "Epoch 18/200\n",
      "709/711 [============================>.] - ETA: 0s - loss: 34.2204\n",
      "Epoch 00018: val_loss improved from 34.30377 to 34.28403, saving model to ../savedModels/VariationalEncoderModel.h5\n",
      "711/711 [==============================] - 4s 5ms/step - loss: 34.2206 - val_loss: 34.2840\n",
      "Epoch 19/200\n",
      "710/711 [============================>.] - ETA: 0s - loss: 34.1984\n",
      "Epoch 00019: val_loss improved from 34.28403 to 34.23456, saving model to ../savedModels/VariationalEncoderModel.h5\n",
      "711/711 [==============================] - 3s 5ms/step - loss: 34.1973 - val_loss: 34.2346\n",
      "Epoch 20/200\n",
      "709/711 [============================>.] - ETA: 0s - loss: 34.1658\n",
      "Epoch 00020: val_loss improved from 34.23456 to 34.20092, saving model to ../savedModels/VariationalEncoderModel.h5\n",
      "711/711 [==============================] - 3s 5ms/step - loss: 34.1668 - val_loss: 34.2009\n",
      "Epoch 21/200\n",
      "703/711 [============================>.] - ETA: 0s - loss: 34.1375\n",
      "Epoch 00021: val_loss improved from 34.20092 to 34.20091, saving model to ../savedModels/VariationalEncoderModel.h5\n",
      "711/711 [==============================] - 3s 5ms/step - loss: 34.1347 - val_loss: 34.2009\n",
      "Epoch 22/200\n",
      "704/711 [============================>.] - ETA: 0s - loss: 34.0961\n",
      "Epoch 00022: val_loss improved from 34.20091 to 34.17271, saving model to ../savedModels/VariationalEncoderModel.h5\n",
      "711/711 [==============================] - 3s 5ms/step - loss: 34.1003 - val_loss: 34.1727\n",
      "Epoch 23/200\n",
      "700/711 [============================>.] - ETA: 0s - loss: 34.0796\n",
      "Epoch 00023: val_loss improved from 34.17271 to 34.13461, saving model to ../savedModels/VariationalEncoderModel.h5\n",
      "711/711 [==============================] - 3s 5ms/step - loss: 34.0774 - val_loss: 34.1346\n",
      "Epoch 24/200\n",
      "707/711 [============================>.] - ETA: 0s - loss: 34.0407\n",
      "Epoch 00024: val_loss improved from 34.13461 to 34.11654, saving model to ../savedModels/VariationalEncoderModel.h5\n",
      "711/711 [==============================] - 3s 5ms/step - loss: 34.0409 - val_loss: 34.1165\n",
      "Epoch 25/200\n",
      "700/711 [============================>.] - ETA: 0s - loss: 34.0126\n",
      "Epoch 00025: val_loss did not improve from 34.11654\n",
      "711/711 [==============================] - 3s 5ms/step - loss: 34.0103 - val_loss: 34.1386\n",
      "Epoch 26/200\n",
      "702/711 [============================>.] - ETA: 0s - loss: 33.9641\n",
      "Epoch 00026: val_loss improved from 34.11654 to 33.99452, saving model to ../savedModels/VariationalEncoderModel.h5\n",
      "711/711 [==============================] - 3s 5ms/step - loss: 33.9667 - val_loss: 33.9945\n",
      "Epoch 27/200\n",
      "711/711 [==============================] - ETA: 0s - loss: 33.9051\n",
      "Epoch 00027: val_loss improved from 33.99452 to 33.94576, saving model to ../savedModels/VariationalEncoderModel.h5\n",
      "711/711 [==============================] - 3s 5ms/step - loss: 33.9051 - val_loss: 33.9458\n",
      "Epoch 28/200\n",
      "709/711 [============================>.] - ETA: 0s - loss: 33.8434\n",
      "Epoch 00028: val_loss improved from 33.94576 to 33.86961, saving model to ../savedModels/VariationalEncoderModel.h5\n",
      "711/711 [==============================] - 3s 5ms/step - loss: 33.8437 - val_loss: 33.8696\n",
      "Epoch 29/200\n",
      "699/711 [============================>.] - ETA: 0s - loss: 33.7905\n",
      "Epoch 00029: val_loss improved from 33.86961 to 33.81993, saving model to ../savedModels/VariationalEncoderModel.h5\n",
      "711/711 [==============================] - 3s 5ms/step - loss: 33.7899 - val_loss: 33.8199\n"
     ]
    },
    {
     "name": "stdout",
     "output_type": "stream",
     "text": [
      "Epoch 30/200\n",
      "700/711 [============================>.] - ETA: 0s - loss: 33.7280\n",
      "Epoch 00030: val_loss improved from 33.81993 to 33.78839, saving model to ../savedModels/VariationalEncoderModel.h5\n",
      "711/711 [==============================] - 4s 5ms/step - loss: 33.7303 - val_loss: 33.7884\n",
      "Epoch 31/200\n",
      "711/711 [==============================] - ETA: 0s - loss: 33.6876\n",
      "Epoch 00031: val_loss improved from 33.78839 to 33.77042, saving model to ../savedModels/VariationalEncoderModel.h5\n",
      "711/711 [==============================] - 3s 5ms/step - loss: 33.6876 - val_loss: 33.7704\n",
      "Epoch 32/200\n",
      "704/711 [============================>.] - ETA: 0s - loss: 33.6655\n",
      "Epoch 00032: val_loss improved from 33.77042 to 33.68986, saving model to ../savedModels/VariationalEncoderModel.h5\n",
      "711/711 [==============================] - 3s 5ms/step - loss: 33.6645 - val_loss: 33.6899\n",
      "Epoch 33/200\n",
      "700/711 [============================>.] - ETA: 0s - loss: 33.6249\n",
      "Epoch 00033: val_loss did not improve from 33.68986\n",
      "711/711 [==============================] - 3s 5ms/step - loss: 33.6260 - val_loss: 33.7079\n",
      "Epoch 34/200\n",
      "701/711 [============================>.] - ETA: 0s - loss: 33.6025\n",
      "Epoch 00034: val_loss improved from 33.68986 to 33.64998, saving model to ../savedModels/VariationalEncoderModel.h5\n",
      "711/711 [==============================] - 3s 5ms/step - loss: 33.6042 - val_loss: 33.6500\n",
      "Epoch 35/200\n",
      "701/711 [============================>.] - ETA: 0s - loss: 33.5695\n",
      "Epoch 00035: val_loss did not improve from 33.64998\n",
      "711/711 [==============================] - 3s 5ms/step - loss: 33.5700 - val_loss: 33.6699\n",
      "Epoch 36/200\n",
      "711/711 [==============================] - ETA: 0s - loss: 33.5443\n",
      "Epoch 00036: val_loss improved from 33.64998 to 33.58471, saving model to ../savedModels/VariationalEncoderModel.h5\n",
      "711/711 [==============================] - 3s 5ms/step - loss: 33.5443 - val_loss: 33.5847\n",
      "Epoch 37/200\n",
      "708/711 [============================>.] - ETA: 0s - loss: 33.5018\n",
      "Epoch 00037: val_loss improved from 33.58471 to 33.51792, saving model to ../savedModels/VariationalEncoderModel.h5\n",
      "711/711 [==============================] - 3s 5ms/step - loss: 33.5009 - val_loss: 33.5179\n",
      "Epoch 38/200\n",
      "705/711 [============================>.] - ETA: 0s - loss: 33.4707\n",
      "Epoch 00038: val_loss improved from 33.51792 to 33.49826, saving model to ../savedModels/VariationalEncoderModel.h5\n",
      "711/711 [==============================] - 3s 5ms/step - loss: 33.4712 - val_loss: 33.4983\n",
      "Epoch 39/200\n",
      "709/711 [============================>.] - ETA: 0s - loss: 33.4103\n",
      "Epoch 00039: val_loss improved from 33.49826 to 33.41341, saving model to ../savedModels/VariationalEncoderModel.h5\n",
      "711/711 [==============================] - 3s 5ms/step - loss: 33.4132 - val_loss: 33.4134\n",
      "Epoch 40/200\n",
      "710/711 [============================>.] - ETA: 0s - loss: 33.3652\n",
      "Epoch 00040: val_loss improved from 33.41341 to 33.39077, saving model to ../savedModels/VariationalEncoderModel.h5\n",
      "711/711 [==============================] - 3s 5ms/step - loss: 33.3658 - val_loss: 33.3908\n",
      "Epoch 41/200\n",
      "705/711 [============================>.] - ETA: 0s - loss: 33.3243\n",
      "Epoch 00041: val_loss improved from 33.39077 to 33.35743, saving model to ../savedModels/VariationalEncoderModel.h5\n",
      "711/711 [==============================] - 3s 5ms/step - loss: 33.3278 - val_loss: 33.3574\n",
      "Epoch 42/200\n",
      "706/711 [============================>.] - ETA: 0s - loss: 33.2660\n",
      "Epoch 00042: val_loss improved from 33.35743 to 33.28979, saving model to ../savedModels/VariationalEncoderModel.h5\n",
      "711/711 [==============================] - 3s 5ms/step - loss: 33.2593 - val_loss: 33.2898\n",
      "Epoch 43/200\n",
      "704/711 [============================>.] - ETA: 0s - loss: 33.2266\n",
      "Epoch 00043: val_loss did not improve from 33.28979\n",
      "711/711 [==============================] - 3s 5ms/step - loss: 33.2247 - val_loss: 33.3148\n",
      "Epoch 44/200\n",
      "711/711 [==============================] - ETA: 0s - loss: 33.1868\n",
      "Epoch 00044: val_loss improved from 33.28979 to 33.20524, saving model to ../savedModels/VariationalEncoderModel.h5\n",
      "711/711 [==============================] - 3s 5ms/step - loss: 33.1868 - val_loss: 33.2052\n",
      "Epoch 45/200\n",
      "707/711 [============================>.] - ETA: 0s - loss: 33.1275\n",
      "Epoch 00045: val_loss did not improve from 33.20524\n",
      "711/711 [==============================] - 3s 5ms/step - loss: 33.1292 - val_loss: 33.2436\n",
      "Epoch 46/200\n",
      "701/711 [============================>.] - ETA: 0s - loss: 33.1398\n",
      "Epoch 00046: val_loss improved from 33.20524 to 33.15718, saving model to ../savedModels/VariationalEncoderModel.h5\n",
      "711/711 [==============================] - 3s 5ms/step - loss: 33.1400 - val_loss: 33.1572\n",
      "Epoch 47/200\n",
      "702/711 [============================>.] - ETA: 0s - loss: 33.1085\n",
      "Epoch 00047: val_loss did not improve from 33.15718\n",
      "711/711 [==============================] - 3s 5ms/step - loss: 33.1027 - val_loss: 33.1936\n",
      "Epoch 48/200\n",
      "699/711 [============================>.] - ETA: 0s - loss: 33.0799\n",
      "Epoch 00048: val_loss improved from 33.15718 to 33.12922, saving model to ../savedModels/VariationalEncoderModel.h5\n",
      "711/711 [==============================] - 3s 5ms/step - loss: 33.0882 - val_loss: 33.1292\n",
      "Epoch 49/200\n",
      "705/711 [============================>.] - ETA: 0s - loss: 33.0867\n",
      "Epoch 00049: val_loss did not improve from 33.12922\n",
      "711/711 [==============================] - 3s 5ms/step - loss: 33.0887 - val_loss: 33.1927\n",
      "Epoch 50/200\n",
      "711/711 [==============================] - ETA: 0s - loss: 33.0728\n",
      "Epoch 00050: val_loss did not improve from 33.12922\n",
      "711/711 [==============================] - 3s 5ms/step - loss: 33.0728 - val_loss: 33.1351\n",
      "Epoch 51/200\n",
      "700/711 [============================>.] - ETA: 0s - loss: 33.0691\n",
      "Epoch 00051: val_loss improved from 33.12922 to 33.09744, saving model to ../savedModels/VariationalEncoderModel.h5\n",
      "711/711 [==============================] - 3s 5ms/step - loss: 33.0634 - val_loss: 33.0974\n",
      "Epoch 52/200\n",
      "703/711 [============================>.] - ETA: 0s - loss: 33.0632\n",
      "Epoch 00052: val_loss did not improve from 33.09744\n",
      "711/711 [==============================] - 3s 5ms/step - loss: 33.0599 - val_loss: 33.2305\n",
      "Epoch 53/200\n",
      "705/711 [============================>.] - ETA: 0s - loss: 33.0499\n",
      "Epoch 00053: val_loss did not improve from 33.09744\n",
      "711/711 [==============================] - 3s 5ms/step - loss: 33.0520 - val_loss: 33.1884\n",
      "Epoch 54/200\n",
      "709/711 [============================>.] - ETA: 0s - loss: 33.0501\n",
      "Epoch 00054: val_loss improved from 33.09744 to 33.08545, saving model to ../savedModels/VariationalEncoderModel.h5\n",
      "711/711 [==============================] - 4s 5ms/step - loss: 33.0503 - val_loss: 33.0855\n",
      "Epoch 55/200\n",
      "709/711 [============================>.] - ETA: 0s - loss: 33.0234\n",
      "Epoch 00055: val_loss improved from 33.08545 to 33.06851, saving model to ../savedModels/VariationalEncoderModel.h5\n",
      "711/711 [==============================] - 4s 5ms/step - loss: 33.0260 - val_loss: 33.0685\n",
      "Epoch 56/200\n",
      "701/711 [============================>.] - ETA: 0s - loss: 33.0006\n",
      "Epoch 00056: val_loss improved from 33.06851 to 33.03666, saving model to ../savedModels/VariationalEncoderModel.h5\n",
      "711/711 [==============================] - 3s 5ms/step - loss: 32.9998 - val_loss: 33.0367\n",
      "Epoch 57/200\n",
      "711/711 [==============================] - ETA: 0s - loss: 32.9879\n",
      "Epoch 00057: val_loss improved from 33.03666 to 33.03172, saving model to ../savedModels/VariationalEncoderModel.h5\n",
      "711/711 [==============================] - 3s 5ms/step - loss: 32.9879 - val_loss: 33.0317\n",
      "Epoch 58/200\n",
      "709/711 [============================>.] - ETA: 0s - loss: 32.9844\n",
      "Epoch 00058: val_loss did not improve from 33.03172\n",
      "711/711 [==============================] - 3s 5ms/step - loss: 32.9833 - val_loss: 33.0695\n",
      "Epoch 59/200\n",
      "701/711 [============================>.] - ETA: 0s - loss: 32.9704\n",
      "Epoch 00059: val_loss did not improve from 33.03172\n",
      "711/711 [==============================] - 3s 5ms/step - loss: 32.9745 - val_loss: 33.0761\n",
      "Epoch 60/200\n",
      "699/711 [============================>.] - ETA: 0s - loss: 32.9817\n",
      "Epoch 00060: val_loss did not improve from 33.03172\n",
      "711/711 [==============================] - 3s 5ms/step - loss: 32.9751 - val_loss: 33.0552\n",
      "Epoch 61/200\n",
      "709/711 [============================>.] - ETA: 0s - loss: 32.9717\n",
      "Epoch 00061: val_loss did not improve from 33.03172\n",
      "711/711 [==============================] - 3s 5ms/step - loss: 32.9718 - val_loss: 33.0433\n",
      "Epoch 62/200\n",
      "704/711 [============================>.] - ETA: 0s - loss: 32.9516\n",
      "Epoch 00062: val_loss improved from 33.03172 to 32.95384, saving model to ../savedModels/VariationalEncoderModel.h5\n",
      "711/711 [==============================] - 3s 5ms/step - loss: 32.9490 - val_loss: 32.9538\n",
      "Epoch 63/200\n",
      "704/711 [============================>.] - ETA: 0s - loss: 32.9680\n",
      "Epoch 00063: val_loss did not improve from 32.95384\n",
      "711/711 [==============================] - 3s 5ms/step - loss: 32.9614 - val_loss: 33.0208\n",
      "Epoch 64/200\n",
      "711/711 [==============================] - ETA: 0s - loss: 32.9337\n",
      "Epoch 00064: val_loss did not improve from 32.95384\n",
      "711/711 [==============================] - 3s 5ms/step - loss: 32.9337 - val_loss: 33.0375\n",
      "Epoch 65/200\n",
      "701/711 [============================>.] - ETA: 0s - loss: 32.9553\n",
      "Epoch 00065: val_loss did not improve from 32.95384\n",
      "711/711 [==============================] - 3s 5ms/step - loss: 32.9513 - val_loss: 33.0410\n",
      "Epoch 66/200\n",
      "707/711 [============================>.] - ETA: 0s - loss: 32.9384\n",
      "Epoch 00066: val_loss did not improve from 32.95384\n",
      "711/711 [==============================] - 3s 5ms/step - loss: 32.9387 - val_loss: 33.0506\n",
      "Epoch 67/200\n",
      "707/711 [============================>.] - ETA: 0s - loss: 32.9565\n",
      "Epoch 00067: val_loss did not improve from 32.95384\n",
      "711/711 [==============================] - 3s 5ms/step - loss: 32.9573 - val_loss: 33.0283\n",
      "Epoch 68/200\n",
      "707/711 [============================>.] - ETA: 0s - loss: 32.9310\n",
      "Epoch 00068: val_loss did not improve from 32.95384\n",
      "711/711 [==============================] - 3s 5ms/step - loss: 32.9343 - val_loss: 33.0288\n",
      "Epoch 69/200\n",
      "704/711 [============================>.] - ETA: 0s - loss: 32.8916\n",
      "Epoch 00069: val_loss did not improve from 32.95384\n",
      "711/711 [==============================] - 3s 5ms/step - loss: 32.8981 - val_loss: 33.0063\n",
      "Epoch 70/200\n",
      "710/711 [============================>.] - ETA: 0s - loss: 32.9178\n",
      "Epoch 00070: val_loss did not improve from 32.95384\n",
      "711/711 [==============================] - 3s 5ms/step - loss: 32.9174 - val_loss: 33.0661\n",
      "Epoch 71/200\n",
      "700/711 [============================>.] - ETA: 0s - loss: 32.9189\n",
      "Epoch 00071: val_loss did not improve from 32.95384\n",
      "711/711 [==============================] - 3s 5ms/step - loss: 32.9182 - val_loss: 33.0235\n",
      "Epoch 72/200\n",
      "705/711 [============================>.] - ETA: 0s - loss: 32.9247\n",
      "Epoch 00072: val_loss improved from 32.95384 to 32.93361, saving model to ../savedModels/VariationalEncoderModel.h5\n",
      "711/711 [==============================] - 4s 5ms/step - loss: 32.9196 - val_loss: 32.9336\n",
      "Epoch 73/200\n",
      "700/711 [============================>.] - ETA: 0s - loss: 32.9314\n",
      "Epoch 00073: val_loss did not improve from 32.93361\n",
      "711/711 [==============================] - 3s 5ms/step - loss: 32.9315 - val_loss: 33.0168\n",
      "Epoch 74/200\n",
      "711/711 [==============================] - ETA: 0s - loss: 32.9661\n",
      "Epoch 00074: val_loss did not improve from 32.93361\n",
      "711/711 [==============================] - 3s 5ms/step - loss: 32.9661 - val_loss: 33.1275\n",
      "Epoch 75/200\n",
      "707/711 [============================>.] - ETA: 0s - loss: 32.9048\n",
      "Epoch 00075: val_loss did not improve from 32.93361\n",
      "711/711 [==============================] - 3s 5ms/step - loss: 32.9024 - val_loss: 32.9756\n",
      "Epoch 76/200\n",
      "708/711 [============================>.] - ETA: 0s - loss: 33.0018\n",
      "Epoch 00076: val_loss did not improve from 32.93361\n",
      "711/711 [==============================] - 3s 5ms/step - loss: 33.0024 - val_loss: 33.0237\n",
      "Epoch 77/200\n",
      "711/711 [==============================] - ETA: 0s - loss: 32.9718\n",
      "Epoch 00077: val_loss did not improve from 32.93361\n",
      "711/711 [==============================] - 3s 5ms/step - loss: 32.9718 - val_loss: 33.0391\n",
      "Epoch 78/200\n",
      "701/711 [============================>.] - ETA: 0s - loss: 32.9409\n",
      "Epoch 00078: val_loss improved from 32.93361 to 32.91880, saving model to ../savedModels/VariationalEncoderModel.h5\n",
      "711/711 [==============================] - 3s 5ms/step - loss: 32.9366 - val_loss: 32.9188\n",
      "Epoch 79/200\n",
      "710/711 [============================>.] - ETA: 0s - loss: 32.8715\n",
      "Epoch 00079: val_loss did not improve from 32.91880\n",
      "711/711 [==============================] - 3s 5ms/step - loss: 32.8752 - val_loss: 33.0475\n",
      "Epoch 80/200\n",
      "700/711 [============================>.] - ETA: 0s - loss: 32.8694\n",
      "Epoch 00080: val_loss did not improve from 32.91880\n",
      "711/711 [==============================] - 3s 5ms/step - loss: 32.8672 - val_loss: 32.9592\n",
      "Epoch 81/200\n",
      "705/711 [============================>.] - ETA: 0s - loss: 32.8698\n",
      "Epoch 00081: val_loss improved from 32.91880 to 32.90754, saving model to ../savedModels/VariationalEncoderModel.h5\n",
      "711/711 [==============================] - 4s 5ms/step - loss: 32.8715 - val_loss: 32.9075\n",
      "Epoch 82/200\n",
      "700/711 [============================>.] - ETA: 0s - loss: 32.8466\n",
      "Epoch 00082: val_loss did not improve from 32.90754\n",
      "711/711 [==============================] - 3s 5ms/step - loss: 32.8507 - val_loss: 33.0232\n",
      "Epoch 83/200\n",
      "700/711 [============================>.] - ETA: 0s - loss: 32.9045\n",
      "Epoch 00083: val_loss did not improve from 32.90754\n",
      "711/711 [==============================] - 3s 5ms/step - loss: 32.9119 - val_loss: 32.9635\n",
      "Epoch 84/200\n",
      "704/711 [============================>.] - ETA: 0s - loss: 32.8850\n",
      "Epoch 00084: val_loss did not improve from 32.90754\n",
      "711/711 [==============================] - 3s 5ms/step - loss: 32.8865 - val_loss: 32.9103\n",
      "Epoch 85/200\n",
      "708/711 [============================>.] - ETA: 0s - loss: 32.8973\n",
      "Epoch 00085: val_loss improved from 32.90754 to 32.87312, saving model to ../savedModels/VariationalEncoderModel.h5\n",
      "711/711 [==============================] - 3s 5ms/step - loss: 32.8986 - val_loss: 32.8731\n",
      "Epoch 86/200\n",
      "320/711 [============>.................] - ETA: 1s - loss: 32.8722"
     ]
    }
   ],
   "source": [
    "history = VAE.fit(train,epochs=epochs,shuffle=True,\n",
    "                          verbose=1,validation_data=dev,\n",
    "                          callbacks=[checkpoint,earlystop])"
   ]
  },
  {
   "cell_type": "code",
   "execution_count": 16,
   "metadata": {
    "scrolled": true
   },
   "outputs": [],
   "source": [
    "# plot_loss(history)"
   ]
  },
  {
   "cell_type": "code",
   "execution_count": 14,
   "metadata": {},
   "outputs": [],
   "source": [
    "VAE.load_weights(\"../savedModels/VariationalEncoderModel.h5\")"
   ]
  },
  {
   "cell_type": "markdown",
   "metadata": {},
   "source": [
    "### create monte carlo to generate output prob score for anomaly prediction"
   ]
  },
  {
   "cell_type": "code",
   "execution_count": 17,
   "metadata": {},
   "outputs": [],
   "source": [
    "sampling_size = 100\n",
    "\n",
    "def reconstruction_log_prob(x_input,sampling_size):\n",
    "    Z = encoder(x_input)\n",
    "    encoder_samples = Z.sample(sampling_size)  # generate 30 outputs from encoder per input \n",
    "    return np.mean(decoder(encoder_samples).log_prob(x_input), axis=0)"
   ]
  },
  {
   "cell_type": "code",
   "execution_count": 18,
   "metadata": {},
   "outputs": [],
   "source": [
    "test = pd.read_csv(\"../processedData/hold_outset_moreFraud.csv\")"
   ]
  },
  {
   "cell_type": "code",
   "execution_count": 19,
   "metadata": {},
   "outputs": [],
   "source": [
    "test_tf_data, label = test.drop(\"Class\",axis=1).values, test[\"Class\"]"
   ]
  },
  {
   "cell_type": "code",
   "execution_count": 20,
   "metadata": {
    "scrolled": false
   },
   "outputs": [
    {
     "name": "stdout",
     "output_type": "stream",
     "text": [
      "WARNING:tensorflow:Model was constructed with shape (None, 3) for input Tensor(\"input_2:0\", shape=(None, 3), dtype=float32), but it was called on an input with incompatible shape (100, 57350, 3).\n"
     ]
    }
   ],
   "source": [
    "x_log_prob = reconstruction_log_prob(test_tf_data, sampling_size)"
   ]
  },
  {
   "cell_type": "code",
   "execution_count": 21,
   "metadata": {
    "scrolled": true
   },
   "outputs": [
    {
     "data": {
      "image/png": "[encoded data removed]",
      "text/plain": [
       "<Figure size 432x288 with 1 Axes>"
      ]
     },
     "metadata": {
      "needs_background": "light"
     },
     "output_type": "display_data"
    }
   ],
   "source": [
    "plt.hist(-x_log_prob[label==1],label=\"fraud\",color=\"red\",alpha = 0.5, log=True)\n",
    "plt.hist(-x_log_prob[label==0],label=\"normal\",color=\"blue\",alpha=0.5, log=True)\n",
    "plt.title(\"reconstruction log prob\")\n",
    "plt.ylabel(\"frequence log\")\n",
    "plt.xlabel(\"logp(x_input|x_output)\")\n",
    "plt.show()"
   ]
  },
  {
   "cell_type": "code",
   "execution_count": 22,
   "metadata": {},
   "outputs": [],
   "source": [
    "fpr, tpr, threshold = roc_curve(label,-x_log_prob)\n",
    "auc = roc_auc_score(label,-x_log_prob)"
   ]
  },
  {
   "cell_type": "code",
   "execution_count": 23,
   "metadata": {
    "scrolled": false
   },
   "outputs": [
    {
     "data": {
      "image/png": "[encoded data removed]",
      "text/plain": [
       "<Figure size 432x288 with 1 Axes>"
      ]
     },
     "metadata": {
      "needs_background": "light"
     },
     "output_type": "display_data"
    }
   ],
   "source": [
    "plt.plot(fpr,tpr,label=f\"linear in-sample, auc={auc}\")\n",
    "plt.legend(loc=\"best\")\n",
    "plt.show()"
   ]
  },
  {
   "cell_type": "markdown",
   "metadata": {},
   "source": [
    "### Choose a threshold that gives a good overall class1 recall "
   ]
  },
  {
   "cell_type": "code",
   "execution_count": 24,
   "metadata": {},
   "outputs": [],
   "source": [
    "results = pd.DataFrame({\"label\":label,\"neg_log_prob\":-x_log_prob})"
   ]
  },
  {
   "cell_type": "code",
   "execution_count": 34,
   "metadata": {},
   "outputs": [],
   "source": [
    "results[\"pred_class\"]=results.neg_log_prob.apply(lambda x: 1 if x>76 else 0)"
   ]
  },
  {
   "cell_type": "code",
   "execution_count": 35,
   "metadata": {},
   "outputs": [
    {
     "data": {
      "text/plain": [
       "array([[56679,   179],\n",
       "       [  118,   374]])"
      ]
     },
     "execution_count": 35,
     "metadata": {},
     "output_type": "execute_result"
    }
   ],
   "source": [
    "confusion_matrix(results.label,results.pred_class)"
   ]
  },
  {
   "cell_type": "code",
   "execution_count": 36,
   "metadata": {},
   "outputs": [
    {
     "name": "stdout",
     "output_type": "stream",
     "text": [
      "              precision    recall  f1-score   support\n",
      "\n",
      "           0       1.00      1.00      1.00     56858\n",
      "           1       0.68      0.76      0.72       492\n",
      "\n",
      "    accuracy                           0.99     57350\n",
      "   macro avg       0.84      0.88      0.86     57350\n",
      "weighted avg       1.00      0.99      0.99     57350\n",
      "\n"
     ]
    }
   ],
   "source": [
    "print(classification_report(results.label, results.pred_class))"
   ]
  }
 ],
 "metadata": {
  "kernelspec": {
   "display_name": "Python 3",
   "language": "python",
   "name": "python3"
  },
  "language_info": {
   "codemirror_mode": {
    "name": "ipython",
    "version": 3
   },
   "file_extension": ".py",
   "mimetype": "text/x-python",
   "name": "python",
   "nbconvert_exporter": "python",
   "pygments_lexer": "ipython3",
   "version": "3.6.9"
  }
 },
 "nbformat": 4,
 "nbformat_minor": 4
}
