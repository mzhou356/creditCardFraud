{
 "cells": [
  {
   "cell_type": "code",
   "execution_count": 1,
   "metadata": {},
   "outputs": [],
   "source": [
    "import sys\n",
    "import numpy as np\n",
    "import pandas as pd \n",
    "import tensorflow_probability as tfp\n",
    "import tensorflow\n",
    "import tensorflow.compat.v2 as tf\n",
    "import matplotlib.pyplot as plt \n",
    "import warnings\n",
    "warnings.filterwarnings(\"ignore\")\n",
    "%matplotlib inline\n",
    "tensorflow.compat.v1.logging.set_verbosity(tensorflow.compat.v1.logging.ERROR)\n",
    "sys.path.append(\"/home/mindy/Documents/projects/creditCardFraud/scripts/\")"
   ]
  },
  {
   "cell_type": "code",
   "execution_count": 2,
   "metadata": {},
   "outputs": [],
   "source": [
    "tfk = tf.keras\n",
    "tfkl=tf.keras.layers\n",
    "tfpl= tfp.layers         # layers for tensor flow probability \n",
    "tfd = tfp.distributions # distribution layer "
   ]
  },
  {
   "cell_type": "code",
   "execution_count": 3,
   "metadata": {},
   "outputs": [],
   "source": [
    "from util import *\n",
    "from NN_util import *\n",
    "%load_ext autoreload\n",
    "%autoreload 2"
   ]
  },
  {
   "cell_type": "code",
   "execution_count": 4,
   "metadata": {},
   "outputs": [],
   "source": [
    "# make sure GPU is running \n",
    "tf.test.gpu_device_name()\n",
    "# set max limit to 7.5 G /8 total available \n",
    "set_gpu_limit(7.5)"
   ]
  },
  {
   "cell_type": "markdown",
   "metadata": {},
   "source": [
    "## Import training and dev data and convert to numpy array for NN "
   ]
  },
  {
   "cell_type": "code",
   "execution_count": 5,
   "metadata": {},
   "outputs": [],
   "source": [
    "train = pd.read_csv(\"../processedData/TrainingData_normal.csv\")\n",
    "dev = pd.read_csv(\"../processedData/DevData_normal.csv\")"
   ]
  },
  {
   "cell_type": "markdown",
   "metadata": {},
   "source": [
    "### converting into tf data set to allow simple efficient data pipelines. \n",
    "* In autoencoder, you are predicting the original input x \n",
    "* shuffle and train data in batches with 1000 epochs "
   ]
  },
  {
   "cell_type": "code",
   "execution_count": 6,
   "metadata": {},
   "outputs": [],
   "source": [
    "buffer_size = 10000\n",
    "batch_size = 256\n",
    "sizes = [20,10]\n",
    "epochs = 500\n",
    "input_size = train.shape[1]\n",
    "encoded_size = 5"
   ]
  },
  {
   "cell_type": "code",
   "execution_count": 7,
   "metadata": {},
   "outputs": [],
   "source": [
    "train_data, dev_data = make_tensor_dataset([train,dev],buffer_size,batch_size)"
   ]
  },
  {
   "cell_type": "markdown",
   "metadata": {},
   "source": [
    "### set up checkpoint and other settings "
   ]
  },
  {
   "cell_type": "code",
   "execution_count": 8,
   "metadata": {},
   "outputs": [],
   "source": [
    "checkpoint = tfk.callbacks.ModelCheckpoint(\"../savedModels/VariationalEncoderModel.h5\",verbose=1,save_best_only=True)\n",
    "earlystop = tfk.callbacks.EarlyStopping(monitor=\"val_loss\", mode=\"min\", min_delta=0.005, patience=20, verbose=1, restore_best_weights=True)"
   ]
  },
  {
   "cell_type": "markdown",
   "metadata": {},
   "source": [
    "### For variational autoencoder we need to maximize ELBO (evidence lower bound objective):\n",
    "\n",
    "$$ELBO(x)= \\int dzq(z|x)logp(x|z) + \\int dzq(z|x)log\\frac{q(z|x)}{p(z)} $$\n",
    "\n",
    "* p(z): the prior on the latent representation z (last layer of encoder) \n",
    "* q(z|x_input): the encoder (how likely is z given x_input)\n",
    "* p(x_hat|z): the decoder (how likely is x_hat given z) \n",
    "* $\\int dzq(z|x)logp(x|z)$: reconstructin term. (how likely for us to get output_x given input_x and encode to z then decode to x_output) \n",
    "* $\\int dzq(z|x)log\\frac{q(z|x)}{p(z)} $: KL divergence. How similar are the encoder distribution and the prior distribution. "
   ]
  },
  {
   "cell_type": "markdown",
   "metadata": {},
   "source": [
    "### Prior distribution for z: \n",
    "\n",
    "* Since this is latent representation (noise has been removed), it is okay to assume it is isotropic gaussian "
   ]
  },
  {
   "cell_type": "code",
   "execution_count": 9,
   "metadata": {},
   "outputs": [],
   "source": [
    "prior = tfd.Independent(tfd.Normal(loc=tf.zeros(encoded_size), scale=1),\n",
    "                        reinterpreted_batch_ndims=1)"
   ]
  },
  {
   "cell_type": "markdown",
   "metadata": {},
   "source": [
    "## encoder model for autoencoder:\n",
    "* encoder: 3 layers:\n",
    "  * 3 dense layers \n",
    "  * 3 dimensional multivariable non zero covariance normal distribution"
   ]
  },
  {
   "cell_type": "markdown",
   "metadata": {},
   "source": [
    "## decoder model for autoencoder:\n",
    "* decoder: 3 layers:\n",
    "   * 3 dense layers\n",
    "   * independent normal distributions as output "
   ]
  },
  {
   "cell_type": "markdown",
   "metadata": {},
   "source": [
    "### Add encoders together \n"
   ]
  },
  {
   "cell_type": "code",
   "execution_count": 10,
   "metadata": {
    "scrolled": true
   },
   "outputs": [],
   "source": [
    "VAE, encoder, decoder = make_autoencoder(sizes,input_size, ifvae=True,encoded_size=encoded_size, prior = prior)"
   ]
  },
  {
   "cell_type": "code",
   "execution_count": 11,
   "metadata": {
    "scrolled": true
   },
   "outputs": [
    {
     "name": "stdout",
     "output_type": "stream",
     "text": [
      "Model: \"VAE\"\n",
      "_________________________________________________________________\n",
      "Layer (type)                 Output Shape              Param #   \n",
      "=================================================================\n",
      "input_1 (InputLayer)         [(None, 30)]              0         \n",
      "_________________________________________________________________\n",
      "sequential (Sequential)      (None, 10)                830       \n",
      "_________________________________________________________________\n",
      "dense_2 (Dense)              (None, 20)                220       \n",
      "_________________________________________________________________\n",
      "multivariate_normal_tri_l (M ((None, 5), (None, 5))    0         \n",
      "_________________________________________________________________\n",
      "decoder (Sequential)         (None, 30)                1540      \n",
      "=================================================================\n",
      "Total params: 2,590\n",
      "Trainable params: 2,590\n",
      "Non-trainable params: 0\n",
      "_________________________________________________________________\n"
     ]
    }
   ],
   "source": [
    "VAE.summary()"
   ]
  },
  {
   "cell_type": "markdown",
   "metadata": {},
   "source": [
    "### define reconstruction loss"
   ]
  },
  {
   "cell_type": "code",
   "execution_count": 12,
   "metadata": {},
   "outputs": [],
   "source": [
    "negloglik = lambda x_input, x_output: -x_output.log_prob(x_input)"
   ]
  },
  {
   "cell_type": "markdown",
   "metadata": {},
   "source": [
    "### compile the model and train model"
   ]
  },
  {
   "cell_type": "code",
   "execution_count": 13,
   "metadata": {},
   "outputs": [],
   "source": [
    "VAE.compile(optimizer=tf.optimizers.Adam(learning_rate=1e-3), loss=negloglik)"
   ]
  },
  {
   "cell_type": "code",
   "execution_count": 17,
   "metadata": {
    "scrolled": false
   },
   "outputs": [],
   "source": [
    "# history = VAE.fit(train_data,epochs=epochs,shuffle=True,\n",
    "#                           verbose=1,validation_data=dev_data,\n",
    "#                           callbacks=[checkpoint,earlystop])"
   ]
  },
  {
   "cell_type": "code",
   "execution_count": 18,
   "metadata": {
    "scrolled": false
   },
   "outputs": [],
   "source": [
    "# plot_loss(history)"
   ]
  },
  {
   "cell_type": "code",
   "execution_count": 28,
   "metadata": {},
   "outputs": [],
   "source": [
    "VAE.load_weights(\"../savedModels/VariationalEncoderModel_3.h5\")"
   ]
  },
  {
   "cell_type": "markdown",
   "metadata": {},
   "source": [
    "### create monte carlo to generate output log prob score for anomaly prediction"
   ]
  },
  {
   "cell_type": "code",
   "execution_count": 20,
   "metadata": {},
   "outputs": [],
   "source": [
    "test = pd.read_csv(\"../processedData/hold_outset_moreFraud.csv\")"
   ]
  },
  {
   "cell_type": "code",
   "execution_count": 21,
   "metadata": {},
   "outputs": [],
   "source": [
    "test_tf_data, label = test.drop(\"Class\",axis=1), test[\"Class\"]"
   ]
  },
  {
   "cell_type": "code",
   "execution_count": 29,
   "metadata": {
    "scrolled": true
   },
   "outputs": [
    {
     "name": "stdout",
     "output_type": "stream",
     "text": [
      "anomaly output\n",
      "count      7.000000\n",
      "mean     103.464546\n",
      "std       24.630816\n",
      "min       57.862984\n",
      "25%       92.274647\n",
      "50%      117.690964\n",
      "75%      118.704002\n",
      "max      126.740547\n",
      "Name: anomaly_prob, dtype: float64\n",
      "normal output\n",
      "count    993.000000\n",
      "mean      26.351913\n",
      "std       15.537874\n",
      "min      -26.477896\n",
      "25%       16.701319\n",
      "50%       27.852619\n",
      "75%       36.152180\n",
      "max       71.133080\n",
      "Name: anomaly_prob, dtype: float64\n",
      "anomaly output\n",
      "count      5.000000\n",
      "mean     119.586380\n",
      "std        5.117850\n",
      "min      115.817719\n",
      "25%      115.843643\n",
      "50%      118.434669\n",
      "75%      119.575813\n",
      "max      128.260025\n",
      "Name: anomaly_prob, dtype: float64\n",
      "normal output\n",
      "count    995.000000\n",
      "mean      26.470171\n",
      "std       15.583405\n",
      "min      -28.545010\n",
      "25%       17.549416\n",
      "50%       28.058064\n",
      "75%       35.977886\n",
      "max       97.070091\n",
      "Name: anomaly_prob, dtype: float64\n",
      "anomaly output\n",
      "count      9.000000\n",
      "mean     114.169403\n",
      "std       13.221819\n",
      "min       92.379112\n",
      "25%      105.235352\n",
      "50%      120.118439\n",
      "75%      125.928810\n",
      "max      127.835091\n",
      "Name: anomaly_prob, dtype: float64\n",
      "normal output\n",
      "count    991.000000\n",
      "mean      26.138563\n",
      "std       15.402810\n",
      "min      -28.185535\n",
      "25%       17.236521\n",
      "50%       27.673628\n",
      "75%       36.344744\n",
      "max       90.628952\n",
      "Name: anomaly_prob, dtype: float64\n",
      "anomaly output\n",
      "count     10.000000\n",
      "mean      86.563805\n",
      "std       26.563250\n",
      "min       39.432716\n",
      "25%       79.284157\n",
      "50%       85.775066\n",
      "75%      108.770027\n",
      "max      115.840050\n",
      "Name: anomaly_prob, dtype: float64\n",
      "normal output\n",
      "count    990.000000\n",
      "mean      25.862555\n",
      "std       15.781307\n",
      "min      -27.350082\n",
      "25%       16.626244\n",
      "50%       27.930628\n",
      "75%       36.039176\n",
      "max       75.275208\n",
      "Name: anomaly_prob, dtype: float64\n",
      "anomaly output\n",
      "count     13.000000\n",
      "mean      82.546684\n",
      "std       32.403000\n",
      "min       21.302780\n",
      "25%       74.661446\n",
      "50%       84.019325\n",
      "75%      104.874817\n",
      "max      125.733849\n",
      "Name: anomaly_prob, dtype: float64\n",
      "normal output\n",
      "count    987.000000\n",
      "mean      25.832573\n",
      "std       15.754250\n",
      "min      -28.521746\n",
      "25%       16.960176\n",
      "50%       26.733061\n",
      "75%       36.093906\n",
      "max       77.327484\n",
      "Name: anomaly_prob, dtype: float64\n"
     ]
    }
   ],
   "source": [
    "for i in range(5):\n",
    "    x_log_prob,y_label = reconstruction_log_prob_sampled(test_tf_data,label,1000,encoder,decoder,sampling_size=100)\n",
    "    results = model_results(y_label,-x_log_prob)\n",
    "    print(\"anomaly output\")\n",
    "    print(results[results.label==1].anomaly_prob.describe())\n",
    "    print(\"normal output\")\n",
    "    print(results[results.label==0].anomaly_prob.describe())"
   ]
  },
  {
   "cell_type": "markdown",
   "metadata": {},
   "source": [
    "### This gives a rough idea on where the threshold should be set "
   ]
  },
  {
   "cell_type": "code",
   "execution_count": 30,
   "metadata": {
    "scrolled": false
   },
   "outputs": [],
   "source": [
    "x_log_prob = reconstruction_log_prob(test_tf_data.values,1000,encoder,decoder)"
   ]
  },
  {
   "cell_type": "code",
   "execution_count": 31,
   "metadata": {
    "scrolled": true
   },
   "outputs": [
    {
     "data": {
      "image/png": "[encoded data removed]",
      "text/plain": [
       "<Figure size 432x288 with 1 Axes>"
      ]
     },
     "metadata": {
      "needs_background": "light"
     },
     "output_type": "display_data"
    }
   ],
   "source": [
    "plot_roc(label,-x_log_prob)"
   ]
  },
  {
   "cell_type": "markdown",
   "metadata": {},
   "source": [
    "### Choose a threshold that gives a good overall class1 recall "
   ]
  },
  {
   "cell_type": "code",
   "execution_count": 47,
   "metadata": {},
   "outputs": [
    {
     "name": "stdout",
     "output_type": "stream",
     "text": [
      "[[56747   111]\n",
      " [  110   382]]\n",
      "              precision    recall  f1-score   support\n",
      "\n",
      "           0       1.00      1.00      1.00     56858\n",
      "           1       0.77      0.78      0.78       492\n",
      "\n",
      "    accuracy                           1.00     57350\n",
      "   macro avg       0.89      0.89      0.89     57350\n",
      "weighted avg       1.00      1.00      1.00     57350\n",
      "\n"
     ]
    }
   ],
   "source": [
    "output = model_results(label,-x_log_prob,75,ifprint=True)"
   ]
  }
 ],
 "metadata": {
  "kernelspec": {
   "display_name": "Python 3",
   "language": "python",
   "name": "python3"
  },
  "language_info": {
   "codemirror_mode": {
    "name": "ipython",
    "version": 3
   },
   "file_extension": ".py",
   "mimetype": "text/x-python",
   "name": "python",
   "nbconvert_exporter": "python",
   "pygments_lexer": "ipython3",
   "version": "3.6.9"
  }
 },
 "nbformat": 4,
 "nbformat_minor": 4
}
