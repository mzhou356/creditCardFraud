{
 "cells": [
  {
   "cell_type": "markdown",
   "metadata": {},
   "source": [
    "---\n",
    "### Import necessary libraries"
   ]
  },
  {
   "cell_type": "code",
   "execution_count": 1,
   "metadata": {},
   "outputs": [],
   "source": [
    "import os\n",
    "import gc\n",
    "import sys\n",
    "import numpy as np\n",
    "import pandas as pd \n",
    "import warnings\n",
    "warnings.filterwarnings(\"ignore\")\n",
    "from sklearn.svm import OneClassSVM"
   ]
  },
  {
   "cell_type": "code",
   "execution_count": 2,
   "metadata": {},
   "outputs": [],
   "source": [
    "home = os.path.expanduser(\"~\")\n",
    "sys.path.append(f\"{home}/Documents/projects/creditCardFraud/AnomalyDetection/scripts/\")"
   ]
  },
  {
   "cell_type": "code",
   "execution_count": 3,
   "metadata": {},
   "outputs": [],
   "source": [
    "from util import *"
   ]
  },
  {
   "cell_type": "code",
   "execution_count": 4,
   "metadata": {},
   "outputs": [],
   "source": [
    "%load_ext autoreload\n",
    "%autoreload 2"
   ]
  },
  {
   "cell_type": "markdown",
   "metadata": {},
   "source": [
    "### garbage collect"
   ]
  },
  {
   "cell_type": "code",
   "execution_count": 5,
   "metadata": {},
   "outputs": [
    {
     "name": "stdout",
     "output_type": "stream",
     "text": [
      "Flushing output cache (0 entries)\n"
     ]
    }
   ],
   "source": [
    "gc.collect()\n",
    "%reset -f out"
   ]
  },
  {
   "cell_type": "markdown",
   "metadata": {},
   "source": [
    "### Import data for training "
   ]
  },
  {
   "cell_type": "code",
   "execution_count": 6,
   "metadata": {},
   "outputs": [],
   "source": [
    "train = pd.read_csv(f\"{home}/Documents/projects/creditCardFraud/processedData/TrainingData_normal.csv\")\n",
    "dev = pd.read_csv(f\"{home}/Documents/projects/creditCardFraud/processedData/DevData_normal.csv\")\n",
    "test = pd.read_csv(f\"{home}/Documents/projects/creditCardFraud/processedData/hold_outset_moreFraud.csv\")"
   ]
  },
  {
   "cell_type": "markdown",
   "metadata": {},
   "source": [
    "### Generate train, test, and normal data "
   ]
  },
  {
   "cell_type": "code",
   "execution_count": 7,
   "metadata": {},
   "outputs": [],
   "source": [
    "training, norm, test_data, y_test = train_test_dfs(train,dev,test,\"Class\",0.2,1988)"
   ]
  },
  {
   "cell_type": "markdown",
   "metadata": {},
   "source": [
    "-----\n",
    "### One-Class SVMS:\n",
    "  * Train on normal class performs better "
   ]
  },
  {
   "cell_type": "code",
   "execution_count": 8,
   "metadata": {},
   "outputs": [],
   "source": [
    "outlier_ratio = training.Class.value_counts(normalize=True)[1]"
   ]
  },
  {
   "cell_type": "code",
   "execution_count": 9,
   "metadata": {},
   "outputs": [
    {
     "data": {
      "text/plain": [
       "OneClassSVM(nu=0.0017248568105510324)"
      ]
     },
     "execution_count": 9,
     "metadata": {},
     "output_type": "execute_result"
    }
   ],
   "source": [
    "svm_norm = OneClassSVM(kernel=\"rbf\", nu=outlier_ratio,gamma=\"scale\") \n",
    "svm_norm.fit(norm)"
   ]
  },
  {
   "cell_type": "code",
   "execution_count": 10,
   "metadata": {},
   "outputs": [
    {
     "data": {
      "text/plain": [
       "OneClassSVM(nu=0.0017248568105510324)"
      ]
     },
     "execution_count": 10,
     "metadata": {},
     "output_type": "execute_result"
    }
   ],
   "source": [
    "svm_all = OneClassSVM(kernel=\"rbf\", nu=outlier_ratio,gamma=\"scale\")\n",
    "svm_all.fit(training.drop(\"Class\",axis=1))"
   ]
  },
  {
   "cell_type": "code",
   "execution_count": 11,
   "metadata": {},
   "outputs": [],
   "source": [
    "test_score_norm = svm_norm.decision_function(test_data)\n",
    "test_score_all = svm_all.decision_function(test_data)"
   ]
  },
  {
   "cell_type": "code",
   "execution_count": 12,
   "metadata": {
    "scrolled": true
   },
   "outputs": [
    {
     "name": "stdout",
     "output_type": "stream",
     "text": [
      "[[56751   112]\n",
      " [   42    57]]\n",
      "              precision    recall  f1-score   support\n",
      "\n",
      "           0       1.00      1.00      1.00     56863\n",
      "           1       0.34      0.58      0.43        99\n",
      "\n",
      "    accuracy                           1.00     56962\n",
      "   macro avg       0.67      0.79      0.71     56962\n",
      "weighted avg       1.00      1.00      1.00     56962\n",
      "\n"
     ]
    }
   ],
   "source": [
    "output = model_results(y_test, -test_score_norm, threshold=0, ifprint=True)"
   ]
  },
  {
   "cell_type": "code",
   "execution_count": 13,
   "metadata": {
    "scrolled": true
   },
   "outputs": [
    {
     "name": "stdout",
     "output_type": "stream",
     "text": [
      "[[56774    89]\n",
      " [   78    21]]\n",
      "              precision    recall  f1-score   support\n",
      "\n",
      "           0       1.00      1.00      1.00     56863\n",
      "           1       0.19      0.21      0.20        99\n",
      "\n",
      "    accuracy                           1.00     56962\n",
      "   macro avg       0.59      0.61      0.60     56962\n",
      "weighted avg       1.00      1.00      1.00     56962\n",
      "\n"
     ]
    }
   ],
   "source": [
    "output = model_results(y_test, -test_score_all, 0, ifprint=True)"
   ]
  },
  {
   "cell_type": "markdown",
   "metadata": {},
   "source": [
    "### SVM works better using normal class only \n"
   ]
  },
  {
   "cell_type": "markdown",
   "metadata": {},
   "source": [
    "### Garbage collect"
   ]
  },
  {
   "cell_type": "code",
   "execution_count": 14,
   "metadata": {},
   "outputs": [
    {
     "name": "stdout",
     "output_type": "stream",
     "text": [
      "Flushing output cache (2 entries)\n"
     ]
    }
   ],
   "source": [
    "gc.collect()\n",
    "%reset -f out"
   ]
  },
  {
   "cell_type": "markdown",
   "metadata": {},
   "source": [
    "---\n",
    "### Define custom score for gridsearch"
   ]
  },
  {
   "cell_type": "code",
   "execution_count": 15,
   "metadata": {},
   "outputs": [],
   "source": [
    "custom_score = make_custom_score()"
   ]
  },
  {
   "cell_type": "markdown",
   "metadata": {},
   "source": [
    "### Define custom train and test splits"
   ]
  },
  {
   "cell_type": "code",
   "execution_count": 16,
   "metadata": {},
   "outputs": [],
   "source": [
    "cvSplits, X_train,y_train = makeCustomSplits(training,\"Class\",5,2018,outlier_ratio)"
   ]
  },
  {
   "cell_type": "code",
   "execution_count": 17,
   "metadata": {},
   "outputs": [],
   "source": [
    "params = {\n",
    "        \"kernel\":[\"rbf\",\"linear\"],\n",
    "        \"gamma\":[0.0001,0.00001, \"scale\"],\n",
    "        \"nu\":[outlier_ratio*0.75, outlier_ratio,outlier_ratio*1.25]\n",
    "        }\n",
    "\n"
   ]
  },
  {
   "cell_type": "code",
   "execution_count": 18,
   "metadata": {},
   "outputs": [],
   "source": [
    "CV = GridSearchCV(\n",
    "                OneClassSVM(),\n",
    "                params,\n",
    "                scoring= custom_score,\n",
    "                refit=False,\n",
    "                verbose = 1,\n",
    "                cv=cvSplits,\n",
    "                n_jobs=20\n",
    "                )"
   ]
  },
  {
   "cell_type": "code",
   "execution_count": 19,
   "metadata": {
    "scrolled": true
   },
   "outputs": [
    {
     "name": "stdout",
     "output_type": "stream",
     "text": [
      "Fitting 5 folds for each of 18 candidates, totalling 90 fits\n"
     ]
    },
    {
     "name": "stderr",
     "output_type": "stream",
     "text": [
      "[Parallel(n_jobs=20)]: Using backend LokyBackend with 20 concurrent workers.\n",
      "[Parallel(n_jobs=20)]: Done  10 tasks      | elapsed:   30.5s\n",
      "[Parallel(n_jobs=20)]: Done  90 out of  90 | elapsed:  2.7min finished\n"
     ]
    },
    {
     "data": {
      "text/plain": [
       "GridSearchCV(cv=<generator object makeCustomSplits.<locals>.<genexpr> at 0x7f159324fa40>,\n",
       "             estimator=OneClassSVM(), n_jobs=20,\n",
       "             param_grid={'gamma': [0.0001, 1e-05, 'scale'],\n",
       "                         'kernel': ['rbf', 'linear'],\n",
       "                         'nu': [0.0012936426079132742, 0.0017248568105510324,\n",
       "                                0.0021560710131887906]},\n",
       "             refit=False,\n",
       "             scoring={'f1_f': make_scorer(f1_f), 'fn': make_scorer(fn),\n",
       "                      'fp': make_scorer(fp), 'prec_f': make_scorer(prec_f),\n",
       "                      'recall_f': make_scorer(recall_f),\n",
       "                      'tp': make_scorer(tp)},\n",
       "             verbose=1)"
      ]
     },
     "execution_count": 19,
     "metadata": {},
     "output_type": "execute_result"
    }
   ],
   "source": [
    "CV.fit(X_train,y_train)"
   ]
  },
  {
   "cell_type": "markdown",
   "metadata": {},
   "source": [
    "### Garbage collect"
   ]
  },
  {
   "cell_type": "code",
   "execution_count": 20,
   "metadata": {},
   "outputs": [
    {
     "name": "stdout",
     "output_type": "stream",
     "text": [
      "Flushing output cache (1 entries)\n"
     ]
    }
   ],
   "source": [
    "gc.collect()\n",
    "%reset -f out"
   ]
  },
  {
   "cell_type": "code",
   "execution_count": 21,
   "metadata": {},
   "outputs": [],
   "source": [
    "df_output = CVResultsOutput(CV.cv_results_,custom_score.keys())"
   ]
  },
  {
   "cell_type": "code",
   "execution_count": 22,
   "metadata": {
    "scrolled": true
   },
   "outputs": [
    {
     "data": {
      "text/html": [
       "<div>\n",
       "<style scoped>\n",
       "    .dataframe tbody tr th:only-of-type {\n",
       "        vertical-align: middle;\n",
       "    }\n",
       "\n",
       "    .dataframe tbody tr th {\n",
       "        vertical-align: top;\n",
       "    }\n",
       "\n",
       "    .dataframe thead th {\n",
       "        text-align: right;\n",
       "    }\n",
       "</style>\n",
       "<table border=\"1\" class=\"dataframe\">\n",
       "  <thead>\n",
       "    <tr style=\"text-align: right;\">\n",
       "      <th></th>\n",
       "      <th>gamma</th>\n",
       "      <th>kernel</th>\n",
       "      <th>nu</th>\n",
       "      <th>tp</th>\n",
       "      <th>fp</th>\n",
       "      <th>fn</th>\n",
       "      <th>f1_f</th>\n",
       "      <th>prec_f</th>\n",
       "      <th>recall_f</th>\n",
       "    </tr>\n",
       "  </thead>\n",
       "  <tbody>\n",
       "    <tr>\n",
       "      <th>12</th>\n",
       "      <td>scale</td>\n",
       "      <td>rbf</td>\n",
       "      <td>0.001294</td>\n",
       "      <td>42.4</td>\n",
       "      <td>76.0</td>\n",
       "      <td>36.6</td>\n",
       "      <td>0.429700</td>\n",
       "      <td>0.358832</td>\n",
       "      <td>0.536709</td>\n",
       "    </tr>\n",
       "    <tr>\n",
       "      <th>13</th>\n",
       "      <td>scale</td>\n",
       "      <td>rbf</td>\n",
       "      <td>0.001725</td>\n",
       "      <td>44.0</td>\n",
       "      <td>88.4</td>\n",
       "      <td>35.0</td>\n",
       "      <td>0.416325</td>\n",
       "      <td>0.332564</td>\n",
       "      <td>0.556962</td>\n",
       "    </tr>\n",
       "    <tr>\n",
       "      <th>14</th>\n",
       "      <td>scale</td>\n",
       "      <td>rbf</td>\n",
       "      <td>0.002156</td>\n",
       "      <td>45.0</td>\n",
       "      <td>104.6</td>\n",
       "      <td>34.0</td>\n",
       "      <td>0.393856</td>\n",
       "      <td>0.301078</td>\n",
       "      <td>0.569620</td>\n",
       "    </tr>\n",
       "    <tr>\n",
       "      <th>0</th>\n",
       "      <td>0.0001</td>\n",
       "      <td>rbf</td>\n",
       "      <td>0.001294</td>\n",
       "      <td>29.4</td>\n",
       "      <td>60.0</td>\n",
       "      <td>49.6</td>\n",
       "      <td>0.349133</td>\n",
       "      <td>0.329175</td>\n",
       "      <td>0.372152</td>\n",
       "    </tr>\n",
       "    <tr>\n",
       "      <th>6</th>\n",
       "      <td>1e-05</td>\n",
       "      <td>rbf</td>\n",
       "      <td>0.001294</td>\n",
       "      <td>29.4</td>\n",
       "      <td>60.0</td>\n",
       "      <td>49.6</td>\n",
       "      <td>0.349114</td>\n",
       "      <td>0.329135</td>\n",
       "      <td>0.372152</td>\n",
       "    </tr>\n",
       "  </tbody>\n",
       "</table>\n",
       "</div>"
      ],
      "text/plain": [
       "     gamma kernel        nu    tp     fp    fn      f1_f    prec_f  recall_f\n",
       "12   scale    rbf  0.001294  42.4   76.0  36.6  0.429700  0.358832  0.536709\n",
       "13   scale    rbf  0.001725  44.0   88.4  35.0  0.416325  0.332564  0.556962\n",
       "14   scale    rbf  0.002156  45.0  104.6  34.0  0.393856  0.301078  0.569620\n",
       "0   0.0001    rbf  0.001294  29.4   60.0  49.6  0.349133  0.329175  0.372152\n",
       "6    1e-05    rbf  0.001294  29.4   60.0  49.6  0.349114  0.329135  0.372152"
      ]
     },
     "execution_count": 22,
     "metadata": {},
     "output_type": "execute_result"
    }
   ],
   "source": [
    "df_output.sort_values([\"f1_f\"],ascending=False)[:5]"
   ]
  },
  {
   "cell_type": "markdown",
   "metadata": {},
   "source": [
    "### Instead of using best selected estimator using refit, use the output with the best overall f1 score"
   ]
  },
  {
   "cell_type": "code",
   "execution_count": 23,
   "metadata": {},
   "outputs": [],
   "source": [
    "best_model = OneClassSVM(kernel=\"rbf\",gamma=\"scale\",nu=outlier_ratio*0.75)"
   ]
  },
  {
   "cell_type": "code",
   "execution_count": 24,
   "metadata": {},
   "outputs": [
    {
     "data": {
      "text/plain": [
       "OneClassSVM(nu=0.0012936426079132742)"
      ]
     },
     "execution_count": 24,
     "metadata": {},
     "output_type": "execute_result"
    }
   ],
   "source": [
    "best_model.fit(norm)"
   ]
  },
  {
   "cell_type": "code",
   "execution_count": 25,
   "metadata": {},
   "outputs": [],
   "source": [
    "best_pred_score = best_model.decision_function(test_data)"
   ]
  },
  {
   "cell_type": "code",
   "execution_count": 26,
   "metadata": {},
   "outputs": [
    {
     "name": "stdout",
     "output_type": "stream",
     "text": [
      "[[56777    86]\n",
      " [   42    57]]\n",
      "              precision    recall  f1-score   support\n",
      "\n",
      "           0       1.00      1.00      1.00     56863\n",
      "           1       0.40      0.58      0.47        99\n",
      "\n",
      "    accuracy                           1.00     56962\n",
      "   macro avg       0.70      0.79      0.73     56962\n",
      "weighted avg       1.00      1.00      1.00     56962\n",
      "\n"
     ]
    }
   ],
   "source": [
    "output = model_results(y_test,-best_pred_score,0,True)"
   ]
  },
  {
   "cell_type": "markdown",
   "metadata": {},
   "source": [
    "### Appears that GridSearchCV in this manner is more efficient than orthogonal search\n",
    "---"
   ]
  }
 ],
 "metadata": {
  "kernelspec": {
   "display_name": "Python 3",
   "language": "python",
   "name": "python3"
  },
  "language_info": {
   "codemirror_mode": {
    "name": "ipython",
    "version": 3
   },
   "file_extension": ".py",
   "mimetype": "text/x-python",
   "name": "python",
   "nbconvert_exporter": "python",
   "pygments_lexer": "ipython3",
   "version": "3.6.9"
  }
 },
 "nbformat": 4,
 "nbformat_minor": 4
}
