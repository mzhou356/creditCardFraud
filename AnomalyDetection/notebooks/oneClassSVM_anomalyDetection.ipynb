{
 "cells": [
  {
   "cell_type": "code",
   "execution_count": 1,
   "metadata": {},
   "outputs": [],
   "source": [
    "import sys\n",
    "import numpy as np\n",
    "import pandas as pd \n",
    "from sklearn.svm import OneClassSVM\n",
    "from sklearn.model_selection import GridSearchCV\n",
    "sys.path.append(\"/home/mindy/Documents/projects/creditCardFraud/scripts/\")"
   ]
  },
  {
   "cell_type": "code",
   "execution_count": 2,
   "metadata": {},
   "outputs": [],
   "source": [
    "from util import *"
   ]
  },
  {
   "cell_type": "code",
   "execution_count": 3,
   "metadata": {},
   "outputs": [],
   "source": [
    "%load_ext autoreload\n",
    "%autoreload 2"
   ]
  },
  {
   "cell_type": "markdown",
   "metadata": {},
   "source": [
    "### import data "
   ]
  },
  {
   "cell_type": "code",
   "execution_count": 4,
   "metadata": {},
   "outputs": [],
   "source": [
    "train = pd.read_csv(\"../processedData/TrainingData_normal.csv\")\n",
    "dev = pd.read_csv(\"../processedData/DevData_normal.csv\")\n",
    "test = pd.read_csv(\"../processedData/hold_outset_moreFraud.csv\")"
   ]
  },
  {
   "cell_type": "markdown",
   "metadata": {},
   "source": [
    "### generate train, test, and normal data "
   ]
  },
  {
   "cell_type": "code",
   "execution_count": 5,
   "metadata": {},
   "outputs": [],
   "source": [
    "training, norm, test_data, y_test = train_test_dfs(train,dev,test,\"Class\",0.2,1988)"
   ]
  },
  {
   "cell_type": "markdown",
   "metadata": {},
   "source": [
    "### One-Class SVMS:\n",
    "  * Train on normal class performs better "
   ]
  },
  {
   "cell_type": "code",
   "execution_count": 6,
   "metadata": {},
   "outputs": [],
   "source": [
    "outlier_ratio = training.Class.value_counts(normalize=True)[1]"
   ]
  },
  {
   "cell_type": "code",
   "execution_count": 7,
   "metadata": {},
   "outputs": [
    {
     "data": {
      "text/plain": [
       "OneClassSVM(nu=0.0017248568105510324)"
      ]
     },
     "execution_count": 7,
     "metadata": {},
     "output_type": "execute_result"
    }
   ],
   "source": [
    "svm_norm = OneClassSVM(kernel=\"rbf\", nu=outlier_ratio,gamma=\"scale\") \n",
    "svm_norm.fit(norm)"
   ]
  },
  {
   "cell_type": "code",
   "execution_count": 8,
   "metadata": {},
   "outputs": [
    {
     "data": {
      "text/plain": [
       "OneClassSVM(nu=0.0017248568105510324)"
      ]
     },
     "execution_count": 8,
     "metadata": {},
     "output_type": "execute_result"
    }
   ],
   "source": [
    "svm_all = OneClassSVM(kernel=\"rbf\", nu=outlier_ratio,gamma=\"scale\")\n",
    "svm_all.fit(training.drop(\"Class\",axis=1))"
   ]
  },
  {
   "cell_type": "code",
   "execution_count": 9,
   "metadata": {},
   "outputs": [],
   "source": [
    "test_score_norm = svm_norm.decision_function(test_data)\n",
    "test_score_all = svm_all.decision_function(test_data)"
   ]
  },
  {
   "cell_type": "code",
   "execution_count": 10,
   "metadata": {
    "scrolled": true
   },
   "outputs": [
    {
     "name": "stdout",
     "output_type": "stream",
     "text": [
      "[[56751   112]\n",
      " [   42    57]]\n",
      "              precision    recall  f1-score   support\n",
      "\n",
      "           0       1.00      1.00      1.00     56863\n",
      "           1       0.34      0.58      0.43        99\n",
      "\n",
      "    accuracy                           1.00     56962\n",
      "   macro avg       0.67      0.79      0.71     56962\n",
      "weighted avg       1.00      1.00      1.00     56962\n",
      "\n"
     ]
    }
   ],
   "source": [
    "model_results(y_test, -test_score_norm, 0)"
   ]
  },
  {
   "cell_type": "code",
   "execution_count": 11,
   "metadata": {
    "scrolled": true
   },
   "outputs": [
    {
     "name": "stdout",
     "output_type": "stream",
     "text": [
      "[[56774    89]\n",
      " [   78    21]]\n",
      "              precision    recall  f1-score   support\n",
      "\n",
      "           0       1.00      1.00      1.00     56863\n",
      "           1       0.19      0.21      0.20        99\n",
      "\n",
      "    accuracy                           1.00     56962\n",
      "   macro avg       0.59      0.61      0.60     56962\n",
      "weighted avg       1.00      1.00      1.00     56962\n",
      "\n"
     ]
    }
   ],
   "source": [
    "model_results(y_test, -test_score_all, 0)"
   ]
  },
  {
   "cell_type": "markdown",
   "metadata": {},
   "source": [
    "### SVM works better using normal class only "
   ]
  },
  {
   "cell_type": "markdown",
   "metadata": {},
   "source": [
    "### Define custom score"
   ]
  },
  {
   "cell_type": "code",
   "execution_count": 12,
   "metadata": {},
   "outputs": [],
   "source": [
    "custom_score = make_custom_score()"
   ]
  },
  {
   "cell_type": "markdown",
   "metadata": {},
   "source": [
    "### Define custom train and test splits"
   ]
  },
  {
   "cell_type": "code",
   "execution_count": 13,
   "metadata": {},
   "outputs": [],
   "source": [
    "cvSplits, X_train,y_train = makeCustomSplits(training,\"Class\",5,2018,outlier_ratio)"
   ]
  },
  {
   "cell_type": "code",
   "execution_count": 14,
   "metadata": {},
   "outputs": [],
   "source": [
    "params = {\n",
    "        \"kernel\":[\"rbf\",\"linear\"],\n",
    "        \"gamma\":[0.0001,0.00001, \"scale\"],\n",
    "        \"nu\":[outlier_ratio*0.75, outlier_ratio,outlier_ratio*1.25]\n",
    "        }\n",
    "\n"
   ]
  },
  {
   "cell_type": "code",
   "execution_count": 15,
   "metadata": {},
   "outputs": [],
   "source": [
    "CV = GridSearchCV(\n",
    "                OneClassSVM(),\n",
    "                params,\n",
    "                scoring= custom_score,\n",
    "                refit=False,\n",
    "                verbose = 1,\n",
    "                cv=cvSplits,\n",
    "                n_jobs=20\n",
    "                )"
   ]
  },
  {
   "cell_type": "code",
   "execution_count": 32,
   "metadata": {},
   "outputs": [
    {
     "name": "stdout",
     "output_type": "stream",
     "text": [
      "Fitting 5 folds for each of 18 candidates, totalling 90 fits\n"
     ]
    },
    {
     "name": "stderr",
     "output_type": "stream",
     "text": [
      "[Parallel(n_jobs=20)]: Using backend LokyBackend with 20 concurrent workers.\n",
      "[Parallel(n_jobs=20)]: Done  10 tasks      | elapsed:   29.5s\n",
      "[Parallel(n_jobs=20)]: Done  90 out of  90 | elapsed:  2.7min finished\n"
     ]
    },
    {
     "data": {
      "text/plain": [
       "GridSearchCV(cv=<generator object makeCustomSplits.<locals>.<genexpr> at 0x7f3a54d985c8>,\n",
       "             estimator=OneClassSVM(), n_jobs=20,\n",
       "             param_grid={'gamma': [0.0001, 1e-05, 'scale'],\n",
       "                         'kernel': ['rbf', 'linear'],\n",
       "                         'nu': [0.0012936426079132742, 0.0017248568105510324,\n",
       "                                0.0021560710131887906]},\n",
       "             refit=False,\n",
       "             scoring={'f1_f': make_scorer(f1_f), 'fn': make_scorer(fn),\n",
       "                      'fp': make_scorer(fp), 'prec_f': make_scorer(prec_f),\n",
       "                      'recall_f': make_scorer(recall_f),\n",
       "                      'tp': make_scorer(tp)},\n",
       "             verbose=1)"
      ]
     },
     "execution_count": 32,
     "metadata": {},
     "output_type": "execute_result"
    }
   ],
   "source": [
    "CV.fit(X_train,y_train)"
   ]
  },
  {
   "cell_type": "code",
   "execution_count": 33,
   "metadata": {},
   "outputs": [],
   "source": [
    "df_output = CVResultsOutput(CV.cv_results_,custom_score.keys())"
   ]
  },
  {
   "cell_type": "code",
   "execution_count": 34,
   "metadata": {},
   "outputs": [
    {
     "data": {
      "text/html": [
       "<div>\n",
       "<style scoped>\n",
       "    .dataframe tbody tr th:only-of-type {\n",
       "        vertical-align: middle;\n",
       "    }\n",
       "\n",
       "    .dataframe tbody tr th {\n",
       "        vertical-align: top;\n",
       "    }\n",
       "\n",
       "    .dataframe thead th {\n",
       "        text-align: right;\n",
       "    }\n",
       "</style>\n",
       "<table border=\"1\" class=\"dataframe\">\n",
       "  <thead>\n",
       "    <tr style=\"text-align: right;\">\n",
       "      <th></th>\n",
       "      <th>gamma</th>\n",
       "      <th>kernel</th>\n",
       "      <th>nu</th>\n",
       "      <th>tp</th>\n",
       "      <th>fp</th>\n",
       "      <th>fn</th>\n",
       "      <th>f1_f</th>\n",
       "      <th>prec_f</th>\n",
       "      <th>recall_f</th>\n",
       "    </tr>\n",
       "  </thead>\n",
       "  <tbody>\n",
       "    <tr>\n",
       "      <th>0</th>\n",
       "      <td>0.0001</td>\n",
       "      <td>rbf</td>\n",
       "      <td>0.001294</td>\n",
       "      <td>33.2</td>\n",
       "      <td>60.0</td>\n",
       "      <td>45.8</td>\n",
       "      <td>0.385545</td>\n",
       "      <td>0.356508</td>\n",
       "      <td>0.420253</td>\n",
       "    </tr>\n",
       "    <tr>\n",
       "      <th>1</th>\n",
       "      <td>0.0001</td>\n",
       "      <td>rbf</td>\n",
       "      <td>0.001725</td>\n",
       "      <td>36.2</td>\n",
       "      <td>78.2</td>\n",
       "      <td>42.8</td>\n",
       "      <td>0.374382</td>\n",
       "      <td>0.316540</td>\n",
       "      <td>0.458228</td>\n",
       "    </tr>\n",
       "    <tr>\n",
       "      <th>2</th>\n",
       "      <td>0.0001</td>\n",
       "      <td>rbf</td>\n",
       "      <td>0.002156</td>\n",
       "      <td>38.2</td>\n",
       "      <td>99.0</td>\n",
       "      <td>40.8</td>\n",
       "      <td>0.353397</td>\n",
       "      <td>0.278681</td>\n",
       "      <td>0.483544</td>\n",
       "    </tr>\n",
       "    <tr>\n",
       "      <th>3</th>\n",
       "      <td>0.0001</td>\n",
       "      <td>linear</td>\n",
       "      <td>0.001294</td>\n",
       "      <td>1.4</td>\n",
       "      <td>63.4</td>\n",
       "      <td>77.6</td>\n",
       "      <td>0.018048</td>\n",
       "      <td>0.018387</td>\n",
       "      <td>0.017722</td>\n",
       "    </tr>\n",
       "    <tr>\n",
       "      <th>4</th>\n",
       "      <td>0.0001</td>\n",
       "      <td>linear</td>\n",
       "      <td>0.001725</td>\n",
       "      <td>6.0</td>\n",
       "      <td>83.8</td>\n",
       "      <td>73.0</td>\n",
       "      <td>0.071278</td>\n",
       "      <td>0.067443</td>\n",
       "      <td>0.075949</td>\n",
       "    </tr>\n",
       "    <tr>\n",
       "      <th>5</th>\n",
       "      <td>0.0001</td>\n",
       "      <td>linear</td>\n",
       "      <td>0.002156</td>\n",
       "      <td>6.0</td>\n",
       "      <td>104.6</td>\n",
       "      <td>73.0</td>\n",
       "      <td>0.063534</td>\n",
       "      <td>0.054880</td>\n",
       "      <td>0.075949</td>\n",
       "    </tr>\n",
       "    <tr>\n",
       "      <th>6</th>\n",
       "      <td>1e-05</td>\n",
       "      <td>rbf</td>\n",
       "      <td>0.001294</td>\n",
       "      <td>32.6</td>\n",
       "      <td>60.0</td>\n",
       "      <td>46.4</td>\n",
       "      <td>0.379784</td>\n",
       "      <td>0.352201</td>\n",
       "      <td>0.412658</td>\n",
       "    </tr>\n",
       "    <tr>\n",
       "      <th>7</th>\n",
       "      <td>1e-05</td>\n",
       "      <td>rbf</td>\n",
       "      <td>0.001725</td>\n",
       "      <td>35.8</td>\n",
       "      <td>77.4</td>\n",
       "      <td>43.2</td>\n",
       "      <td>0.372585</td>\n",
       "      <td>0.316450</td>\n",
       "      <td>0.453165</td>\n",
       "    </tr>\n",
       "    <tr>\n",
       "      <th>8</th>\n",
       "      <td>1e-05</td>\n",
       "      <td>rbf</td>\n",
       "      <td>0.002156</td>\n",
       "      <td>38.2</td>\n",
       "      <td>98.6</td>\n",
       "      <td>40.8</td>\n",
       "      <td>0.353968</td>\n",
       "      <td>0.279322</td>\n",
       "      <td>0.483544</td>\n",
       "    </tr>\n",
       "    <tr>\n",
       "      <th>9</th>\n",
       "      <td>1e-05</td>\n",
       "      <td>linear</td>\n",
       "      <td>0.001294</td>\n",
       "      <td>1.4</td>\n",
       "      <td>63.4</td>\n",
       "      <td>77.6</td>\n",
       "      <td>0.018048</td>\n",
       "      <td>0.018387</td>\n",
       "      <td>0.017722</td>\n",
       "    </tr>\n",
       "    <tr>\n",
       "      <th>10</th>\n",
       "      <td>1e-05</td>\n",
       "      <td>linear</td>\n",
       "      <td>0.001725</td>\n",
       "      <td>6.0</td>\n",
       "      <td>83.8</td>\n",
       "      <td>73.0</td>\n",
       "      <td>0.071278</td>\n",
       "      <td>0.067443</td>\n",
       "      <td>0.075949</td>\n",
       "    </tr>\n",
       "    <tr>\n",
       "      <th>11</th>\n",
       "      <td>1e-05</td>\n",
       "      <td>linear</td>\n",
       "      <td>0.002156</td>\n",
       "      <td>6.0</td>\n",
       "      <td>104.6</td>\n",
       "      <td>73.0</td>\n",
       "      <td>0.063534</td>\n",
       "      <td>0.054880</td>\n",
       "      <td>0.075949</td>\n",
       "    </tr>\n",
       "    <tr>\n",
       "      <th>12</th>\n",
       "      <td>scale</td>\n",
       "      <td>rbf</td>\n",
       "      <td>0.001294</td>\n",
       "      <td>45.0</td>\n",
       "      <td>76.0</td>\n",
       "      <td>34.0</td>\n",
       "      <td>0.450402</td>\n",
       "      <td>0.372854</td>\n",
       "      <td>0.569620</td>\n",
       "    </tr>\n",
       "    <tr>\n",
       "      <th>13</th>\n",
       "      <td>scale</td>\n",
       "      <td>rbf</td>\n",
       "      <td>0.001725</td>\n",
       "      <td>46.8</td>\n",
       "      <td>88.4</td>\n",
       "      <td>32.2</td>\n",
       "      <td>0.437100</td>\n",
       "      <td>0.346452</td>\n",
       "      <td>0.592405</td>\n",
       "    </tr>\n",
       "    <tr>\n",
       "      <th>14</th>\n",
       "      <td>scale</td>\n",
       "      <td>rbf</td>\n",
       "      <td>0.002156</td>\n",
       "      <td>47.0</td>\n",
       "      <td>104.6</td>\n",
       "      <td>32.0</td>\n",
       "      <td>0.407791</td>\n",
       "      <td>0.310303</td>\n",
       "      <td>0.594937</td>\n",
       "    </tr>\n",
       "    <tr>\n",
       "      <th>15</th>\n",
       "      <td>scale</td>\n",
       "      <td>linear</td>\n",
       "      <td>0.001294</td>\n",
       "      <td>1.4</td>\n",
       "      <td>63.4</td>\n",
       "      <td>77.6</td>\n",
       "      <td>0.018048</td>\n",
       "      <td>0.018387</td>\n",
       "      <td>0.017722</td>\n",
       "    </tr>\n",
       "    <tr>\n",
       "      <th>16</th>\n",
       "      <td>scale</td>\n",
       "      <td>linear</td>\n",
       "      <td>0.001725</td>\n",
       "      <td>6.0</td>\n",
       "      <td>83.8</td>\n",
       "      <td>73.0</td>\n",
       "      <td>0.071278</td>\n",
       "      <td>0.067443</td>\n",
       "      <td>0.075949</td>\n",
       "    </tr>\n",
       "    <tr>\n",
       "      <th>17</th>\n",
       "      <td>scale</td>\n",
       "      <td>linear</td>\n",
       "      <td>0.002156</td>\n",
       "      <td>6.0</td>\n",
       "      <td>104.6</td>\n",
       "      <td>73.0</td>\n",
       "      <td>0.063534</td>\n",
       "      <td>0.054880</td>\n",
       "      <td>0.075949</td>\n",
       "    </tr>\n",
       "  </tbody>\n",
       "</table>\n",
       "</div>"
      ],
      "text/plain": [
       "     gamma  kernel        nu    tp     fp    fn      f1_f    prec_f  recall_f\n",
       "0   0.0001     rbf  0.001294  33.2   60.0  45.8  0.385545  0.356508  0.420253\n",
       "1   0.0001     rbf  0.001725  36.2   78.2  42.8  0.374382  0.316540  0.458228\n",
       "2   0.0001     rbf  0.002156  38.2   99.0  40.8  0.353397  0.278681  0.483544\n",
       "3   0.0001  linear  0.001294   1.4   63.4  77.6  0.018048  0.018387  0.017722\n",
       "4   0.0001  linear  0.001725   6.0   83.8  73.0  0.071278  0.067443  0.075949\n",
       "5   0.0001  linear  0.002156   6.0  104.6  73.0  0.063534  0.054880  0.075949\n",
       "6    1e-05     rbf  0.001294  32.6   60.0  46.4  0.379784  0.352201  0.412658\n",
       "7    1e-05     rbf  0.001725  35.8   77.4  43.2  0.372585  0.316450  0.453165\n",
       "8    1e-05     rbf  0.002156  38.2   98.6  40.8  0.353968  0.279322  0.483544\n",
       "9    1e-05  linear  0.001294   1.4   63.4  77.6  0.018048  0.018387  0.017722\n",
       "10   1e-05  linear  0.001725   6.0   83.8  73.0  0.071278  0.067443  0.075949\n",
       "11   1e-05  linear  0.002156   6.0  104.6  73.0  0.063534  0.054880  0.075949\n",
       "12   scale     rbf  0.001294  45.0   76.0  34.0  0.450402  0.372854  0.569620\n",
       "13   scale     rbf  0.001725  46.8   88.4  32.2  0.437100  0.346452  0.592405\n",
       "14   scale     rbf  0.002156  47.0  104.6  32.0  0.407791  0.310303  0.594937\n",
       "15   scale  linear  0.001294   1.4   63.4  77.6  0.018048  0.018387  0.017722\n",
       "16   scale  linear  0.001725   6.0   83.8  73.0  0.071278  0.067443  0.075949\n",
       "17   scale  linear  0.002156   6.0  104.6  73.0  0.063534  0.054880  0.075949"
      ]
     },
     "execution_count": 34,
     "metadata": {},
     "output_type": "execute_result"
    }
   ],
   "source": [
    "df_output"
   ]
  },
  {
   "cell_type": "markdown",
   "metadata": {},
   "source": [
    "### Instead of using best selected estimator using refit, use the output with the best overall tp,fp,fn"
   ]
  },
  {
   "cell_type": "code",
   "execution_count": 7,
   "metadata": {},
   "outputs": [],
   "source": [
    "best_model = OneClassSVM(kernel=\"rbf\",gamma=\"scale\",nu=outlier_ratio*0.75)"
   ]
  },
  {
   "cell_type": "code",
   "execution_count": 8,
   "metadata": {},
   "outputs": [
    {
     "data": {
      "text/plain": [
       "OneClassSVM(nu=0.0012936426079132742)"
      ]
     },
     "execution_count": 8,
     "metadata": {},
     "output_type": "execute_result"
    }
   ],
   "source": [
    "best_model.fit(norm)"
   ]
  },
  {
   "cell_type": "code",
   "execution_count": 9,
   "metadata": {},
   "outputs": [],
   "source": [
    "best_pred_score = best_model.decision_function(test_data)"
   ]
  },
  {
   "cell_type": "code",
   "execution_count": 10,
   "metadata": {},
   "outputs": [
    {
     "name": "stdout",
     "output_type": "stream",
     "text": [
      "[[56777    86]\n",
      " [   42    57]]\n",
      "              precision    recall  f1-score   support\n",
      "\n",
      "           0       1.00      1.00      1.00     56863\n",
      "           1       0.40      0.58      0.47        99\n",
      "\n",
      "    accuracy                           1.00     56962\n",
      "   macro avg       0.70      0.79      0.73     56962\n",
      "weighted avg       1.00      1.00      1.00     56962\n",
      "\n"
     ]
    }
   ],
   "source": [
    "model_results(y_test,-best_pred_score,0)"
   ]
  },
  {
   "cell_type": "markdown",
   "metadata": {},
   "source": [
    "### Appears that GridSearchCV in this manner is more efficient than orthogonal search"
   ]
  }
 ],
 "metadata": {
  "kernelspec": {
   "display_name": "Python 3",
   "language": "python",
   "name": "python3"
  },
  "language_info": {
   "codemirror_mode": {
    "name": "ipython",
    "version": 3
   },
   "file_extension": ".py",
   "mimetype": "text/x-python",
   "name": "python",
   "nbconvert_exporter": "python",
   "pygments_lexer": "ipython3",
   "version": "3.6.9"
  }
 },
 "nbformat": 4,
 "nbformat_minor": 4
}
