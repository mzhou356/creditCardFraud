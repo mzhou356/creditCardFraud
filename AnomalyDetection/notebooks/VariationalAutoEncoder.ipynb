{
 "cells": [
  {
   "cell_type": "markdown",
   "metadata": {},
   "source": [
    "---\n",
    "### Import necessary libraries"
   ]
  },
  {
   "cell_type": "code",
   "execution_count": 1,
   "metadata": {},
   "outputs": [],
   "source": [
    "import sys\n",
    "import os\n",
    "import gc\n",
    "import numpy as np\n",
    "import pandas as pd \n",
    "import tensorflow\n",
    "import tensorflow.compat.v2 as tf\n",
    "import warnings\n",
    "warnings.filterwarnings(\"ignore\")\n",
    "tensorflow.compat.v1.logging.set_verbosity(tensorflow.compat.v1.logging.ERROR)"
   ]
  },
  {
   "cell_type": "code",
   "execution_count": 2,
   "metadata": {},
   "outputs": [],
   "source": [
    "home = os.path.expanduser(\"~\")\n",
    "sys.path.append(f\"{home}/Documents/projects/creditCardFraud/AnomalyDetection/scripts/\")"
   ]
  },
  {
   "cell_type": "code",
   "execution_count": 3,
   "metadata": {},
   "outputs": [],
   "source": [
    "from util import *\n",
    "from NN_util import *\n",
    "%load_ext autoreload\n",
    "%autoreload 2"
   ]
  },
  {
   "cell_type": "code",
   "execution_count": 4,
   "metadata": {},
   "outputs": [],
   "source": [
    "# make sure GPU is running \n",
    "tf.test.gpu_device_name()\n",
    "# set max limit to 7.5 G /8 total available \n",
    "set_gpu_limit(7.5)"
   ]
  },
  {
   "cell_type": "markdown",
   "metadata": {},
   "source": [
    "### Import training and dev data and convert to numpy array for NN "
   ]
  },
  {
   "cell_type": "code",
   "execution_count": 5,
   "metadata": {},
   "outputs": [],
   "source": [
    "train = pd.read_csv(f\"{home}/Documents/projects/creditCardFraud/processedData/TrainingData_normal.csv\")\n",
    "dev = pd.read_csv(f\"{home}/Documents/projects/creditCardFraud/processedData/DevData_normal.csv\")"
   ]
  },
  {
   "cell_type": "markdown",
   "metadata": {},
   "source": [
    "### Converting into tf data set to allow simple efficient data pipelines. \n",
    "* In autoencoder, you are predicting the original input x \n",
    "* shuffle and train data in batches with 120 epochs "
   ]
  },
  {
   "cell_type": "code",
   "execution_count": 6,
   "metadata": {},
   "outputs": [],
   "source": [
    "batch_size = 256\n",
    "sizes = [20,10]\n",
    "epochs = 120\n",
    "input_size = train.shape[1]\n",
    "encoded_size = 5"
   ]
  },
  {
   "cell_type": "code",
   "execution_count": 7,
   "metadata": {},
   "outputs": [],
   "source": [
    "train_data, dev_data = make_tensor_dataset([train,dev],batch_size)"
   ]
  },
  {
   "cell_type": "markdown",
   "metadata": {},
   "source": [
    "### Garbage collect"
   ]
  },
  {
   "cell_type": "code",
   "execution_count": 8,
   "metadata": {},
   "outputs": [
    {
     "name": "stdout",
     "output_type": "stream",
     "text": [
      "Flushing output cache (0 entries)\n"
     ]
    }
   ],
   "source": [
    "gc.collect()\n",
    "%reset -f out"
   ]
  },
  {
   "cell_type": "markdown",
   "metadata": {},
   "source": [
    "----\n",
    "### Set up checkpoint and other settings "
   ]
  },
  {
   "cell_type": "code",
   "execution_count": 9,
   "metadata": {},
   "outputs": [],
   "source": [
    "checkpoint = tfk.callbacks.ModelCheckpoint(f\"{home}/Documents/Projects/creditCardFraud/savedModels/VariationalEncoderModel_1.h5\",verbose=1,save_best_only=True)\n",
    "earlystop = tfk.callbacks.EarlyStopping(monitor=\"val_loss\", mode=\"min\", min_delta=0.005, patience=20, verbose=1, restore_best_weights=True)"
   ]
  },
  {
   "cell_type": "markdown",
   "metadata": {},
   "source": [
    "### For variational autoencoder we need to maximize ELBO (evidence lower bound objective):\n",
    "\n",
    "$$ELBO(x)= \\int dzq(z|x)logp(x|z) + \\int dzq(z|x)log\\frac{q(z|x)}{p(z)} $$\n",
    "\n",
    "* p(z): the prior on the latent representation z (last layer of encoder) \n",
    "* q(z|x_input): the encoder (how likely is z given x_input)\n",
    "* p(x_hat|z): the decoder (how likely is x_hat given z) \n",
    "* $\\int dzq(z|x)logp(x|z)$: reconstructin term. (how likely for us to get output_x given input_x and encode to z then decode to x_output) \n",
    "* $\\int dzq(z|x)log\\frac{q(z|x)}{p(z)} $: KL divergence. How similar are the encoder distribution and the prior distribution. "
   ]
  },
  {
   "cell_type": "markdown",
   "metadata": {},
   "source": [
    "### Prior distribution for z: \n",
    "\n",
    "* Since this is latent representation (noise has been removed), it is okay to assume it is isotropic gaussian:\n",
    "\n",
    "  - standard deviation: 1\n",
    "  - average: 0 "
   ]
  },
  {
   "cell_type": "code",
   "execution_count": 10,
   "metadata": {},
   "outputs": [],
   "source": [
    "prior = tfd.Independent(tfd.Normal(loc=tf.zeros(encoded_size), scale=1),\n",
    "                        reinterpreted_batch_ndims=1)"
   ]
  },
  {
   "cell_type": "markdown",
   "metadata": {},
   "source": [
    "----\n",
    "###  Encoder model for autoencoder:\n",
    "* encoder: 3 layers:\n",
    "  * 3 dense layers \n",
    "  * 3 dimensional multivariable non zero covariance normal distribution"
   ]
  },
  {
   "cell_type": "markdown",
   "metadata": {},
   "source": [
    "### Decoder model for autoencoder:\n",
    "* decoder: 3 layers:\n",
    "   * 3 dense layers\n",
    "   * independent normal distributions as output "
   ]
  },
  {
   "cell_type": "markdown",
   "metadata": {},
   "source": [
    "### Add encoders together \n"
   ]
  },
  {
   "cell_type": "code",
   "execution_count": 11,
   "metadata": {
    "scrolled": true
   },
   "outputs": [],
   "source": [
    "VAE, encoder, decoder = make_autoencoder(sizes,input_size, ifvae=True,\n",
    "                                         encoded_size=encoded_size, prior = prior)"
   ]
  },
  {
   "cell_type": "code",
   "execution_count": 12,
   "metadata": {
    "scrolled": true
   },
   "outputs": [
    {
     "name": "stdout",
     "output_type": "stream",
     "text": [
      "Model: \"VAE\"\n",
      "_________________________________________________________________\n",
      "Layer (type)                 Output Shape              Param #   \n",
      "=================================================================\n",
      "input_1 (InputLayer)         [(None, 30)]              0         \n",
      "_________________________________________________________________\n",
      "sequential (Sequential)      (None, 10)                830       \n",
      "_________________________________________________________________\n",
      "dense_2 (Dense)              (None, 20)                220       \n",
      "_________________________________________________________________\n",
      "multivariate_normal_tri_l (M ((None, 5), (None, 5))    0         \n",
      "_________________________________________________________________\n",
      "decoder (Sequential)         (None, 30)                1540      \n",
      "=================================================================\n",
      "Total params: 2,590\n",
      "Trainable params: 2,590\n",
      "Non-trainable params: 0\n",
      "_________________________________________________________________\n"
     ]
    }
   ],
   "source": [
    "VAE.summary()"
   ]
  },
  {
   "cell_type": "markdown",
   "metadata": {},
   "source": [
    "### Define reconstruction loss"
   ]
  },
  {
   "cell_type": "code",
   "execution_count": 13,
   "metadata": {},
   "outputs": [],
   "source": [
    "negloglik = lambda x_input, x_output: -x_output.log_prob(x_input)"
   ]
  },
  {
   "cell_type": "markdown",
   "metadata": {},
   "source": [
    "### Compile the model and train model"
   ]
  },
  {
   "cell_type": "code",
   "execution_count": 14,
   "metadata": {},
   "outputs": [],
   "source": [
    "VAE.compile(optimizer=tf.optimizers.Adam(learning_rate=1e-3), loss=negloglik)"
   ]
  },
  {
   "cell_type": "code",
   "execution_count": 25,
   "metadata": {
    "scrolled": false
   },
   "outputs": [],
   "source": [
    "history = VAE.fit(train_data,epochs=epochs,shuffle=True,\n",
    "                          verbose=1,validation_data=dev_data,\n",
    "                          callbacks=[checkpoint,earlystop])"
   ]
  },
  {
   "cell_type": "code",
   "execution_count": 16,
   "metadata": {
    "scrolled": false
   },
   "outputs": [
    {
     "data": {
      "image/png": "[encoded data removed]",
      "text/plain": [
       "<Figure size 432x288 with 1 Axes>"
      ]
     },
     "metadata": {
      "needs_background": "light"
     },
     "output_type": "display_data"
    }
   ],
   "source": [
    "plot_loss(history) "
   ]
  },
  {
   "cell_type": "code",
   "execution_count": 17,
   "metadata": {},
   "outputs": [],
   "source": [
    "VAE.load_weights(f\"{home}/Documents/projects/creditCardFraud/savedModels/VariationalEncoderModel_3.h5\")"
   ]
  },
  {
   "cell_type": "markdown",
   "metadata": {},
   "source": [
    "### Garbage collect"
   ]
  },
  {
   "cell_type": "code",
   "execution_count": 18,
   "metadata": {
    "scrolled": false
   },
   "outputs": [
    {
     "name": "stdout",
     "output_type": "stream",
     "text": [
      "Flushing output cache (0 entries)\n"
     ]
    }
   ],
   "source": [
    "gc.collect()\n",
    "%reset -f out"
   ]
  },
  {
   "cell_type": "markdown",
   "metadata": {},
   "source": [
    "---"
   ]
  },
  {
   "cell_type": "markdown",
   "metadata": {},
   "source": [
    "\n",
    "### Create monte carlo to generate output log prob score for anomaly prediction"
   ]
  },
  {
   "cell_type": "code",
   "execution_count": 19,
   "metadata": {},
   "outputs": [],
   "source": [
    "test = pd.read_csv(f\"{home}/Documents/projects/creditCardFraud/processedData/hold_outset_moreFraud.csv\")"
   ]
  },
  {
   "cell_type": "code",
   "execution_count": 20,
   "metadata": {},
   "outputs": [],
   "source": [
    "test_tf_data, label = test.drop(\"Class\",axis=1), test[\"Class\"]"
   ]
  },
  {
   "cell_type": "code",
   "execution_count": 21,
   "metadata": {
    "scrolled": true
   },
   "outputs": [
    {
     "name": "stdout",
     "output_type": "stream",
     "text": [
      "anomaly output\n",
      "count      7.000000\n",
      "mean     104.223091\n",
      "std       12.516960\n",
      "min       94.751442\n",
      "25%       96.507725\n",
      "50%       98.956169\n",
      "75%      107.816036\n",
      "max      127.206589\n",
      "Name: anomaly_prob, dtype: float64\n",
      "normal output\n",
      "count    993.000000\n",
      "mean      26.017487\n",
      "std       15.482258\n",
      "min      -25.719110\n",
      "25%       16.754934\n",
      "50%       27.849455\n",
      "75%       35.844555\n",
      "max       73.261116\n",
      "Name: anomaly_prob, dtype: float64\n",
      "anomaly output\n",
      "count     12.000000\n",
      "mean      81.122681\n",
      "std       33.404808\n",
      "min       17.607420\n",
      "25%       69.787399\n",
      "50%       90.947460\n",
      "75%       99.572811\n",
      "max      126.638466\n",
      "Name: anomaly_prob, dtype: float64\n",
      "normal output\n",
      "count    988.000000\n",
      "mean      26.298513\n",
      "std       16.530684\n",
      "min      -28.513996\n",
      "25%       17.022958\n",
      "50%       27.499883\n",
      "75%       36.492791\n",
      "max      111.831207\n",
      "Name: anomaly_prob, dtype: float64\n",
      "anomaly output\n",
      "count      7.000000\n",
      "mean      93.836906\n",
      "std       35.434513\n",
      "min       37.065933\n",
      "25%       76.719105\n",
      "50%       98.955109\n",
      "75%      115.824661\n",
      "max      135.749695\n",
      "Name: anomaly_prob, dtype: float64\n",
      "normal output\n",
      "count    993.000000\n",
      "mean      26.190987\n",
      "std       15.599835\n",
      "min      -27.303833\n",
      "25%       17.301321\n",
      "50%       27.998327\n",
      "75%       36.413883\n",
      "max       73.374588\n",
      "Name: anomaly_prob, dtype: float64\n",
      "anomaly output\n",
      "count      6.000000\n",
      "mean      81.512299\n",
      "std       31.417398\n",
      "min       24.717070\n",
      "25%       78.740644\n",
      "50%       86.909348\n",
      "75%       92.832399\n",
      "max      119.713524\n",
      "Name: anomaly_prob, dtype: float64\n",
      "normal output\n",
      "count    994.000000\n",
      "mean      25.968334\n",
      "std       15.725352\n",
      "min      -27.515135\n",
      "25%       16.586269\n",
      "50%       27.663029\n",
      "75%       35.878891\n",
      "max      113.123642\n",
      "Name: anomaly_prob, dtype: float64\n",
      "anomaly output\n",
      "count      7.000000\n",
      "mean      90.399773\n",
      "std       35.119759\n",
      "min       21.169300\n",
      "25%       80.157005\n",
      "50%      105.190041\n",
      "75%      108.403431\n",
      "max      129.318192\n",
      "Name: anomaly_prob, dtype: float64\n",
      "normal output\n",
      "count    993.000000\n",
      "mean      26.070730\n",
      "std       15.299324\n",
      "min      -26.260645\n",
      "25%       16.724024\n",
      "50%       27.755322\n",
      "75%       35.567345\n",
      "max      108.288971\n",
      "Name: anomaly_prob, dtype: float64\n"
     ]
    }
   ],
   "source": [
    "for i in range(5):\n",
    "    x_log_prob,y_label = reconstruction_log_prob_sampled(test_tf_data,label,1000,encoder,decoder,sampling_size=100)\n",
    "    results = model_results(y_label,-x_log_prob)\n",
    "    print(\"anomaly output\")\n",
    "    print(results[results.label==1].anomaly_prob.describe())\n",
    "    print(\"normal output\")\n",
    "    print(results[results.label==0].anomaly_prob.describe())"
   ]
  },
  {
   "cell_type": "markdown",
   "metadata": {},
   "source": [
    "### This gives a rough idea on where the threshold should be set \n",
    "\n",
    "### Let's look at precision recall curve"
   ]
  },
  {
   "cell_type": "code",
   "execution_count": 22,
   "metadata": {
    "scrolled": false
   },
   "outputs": [],
   "source": [
    "x_log_prob = reconstruction_log_prob(test_tf_data.values,1000,encoder,decoder)"
   ]
  },
  {
   "cell_type": "code",
   "execution_count": 23,
   "metadata": {
    "scrolled": false
   },
   "outputs": [
    {
     "data": {
      "image/png": "[encoded data removed]",
      "text/plain": [
       "<Figure size 432x432 with 1 Axes>"
      ]
     },
     "metadata": {
      "needs_background": "light"
     },
     "output_type": "display_data"
    }
   ],
   "source": [
    "plot_pr_re(label,-x_log_prob)"
   ]
  },
  {
   "cell_type": "markdown",
   "metadata": {},
   "source": [
    "### Choose a threshold that gives a good overall class1 recall \n",
    "  * ~ 75% quantile value for abnormal returns "
   ]
  },
  {
   "cell_type": "code",
   "execution_count": 24,
   "metadata": {},
   "outputs": [
    {
     "name": "stdout",
     "output_type": "stream",
     "text": [
      "[[56748   110]\n",
      " [  110   382]]\n",
      "              precision    recall  f1-score   support\n",
      "\n",
      "           0       1.00      1.00      1.00     56858\n",
      "           1       0.78      0.78      0.78       492\n",
      "\n",
      "    accuracy                           1.00     57350\n",
      "   macro avg       0.89      0.89      0.89     57350\n",
      "weighted avg       1.00      1.00      1.00     57350\n",
      "\n"
     ]
    }
   ],
   "source": [
    "output = model_results(label,-x_log_prob,75,ifprint=True)"
   ]
  },
  {
   "cell_type": "markdown",
   "metadata": {},
   "source": [
    "### More epoch with more latent representation and more data will certainly improve the outcome. \n",
    "-----"
   ]
  }
 ],
 "metadata": {
  "kernelspec": {
   "display_name": "Python 3",
   "language": "python",
   "name": "python3"
  },
  "language_info": {
   "codemirror_mode": {
    "name": "ipython",
    "version": 3
   },
   "file_extension": ".py",
   "mimetype": "text/x-python",
   "name": "python",
   "nbconvert_exporter": "python",
   "pygments_lexer": "ipython3",
   "version": "3.6.9"
  }
 },
 "nbformat": 4,
 "nbformat_minor": 4
}
